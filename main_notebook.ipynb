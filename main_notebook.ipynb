{
  "nbformat": 4,
  "nbformat_minor": 0,
  "metadata": {
    "colab": {
      "name": "main project.ipynb",
      "provenance": [],
      "collapsed_sections": [
        "BHQlhQH6Xt7G",
        "8a8iIhXN2nqj",
        "iIq5yzMioRsL",
        "yGTpaPqJpTbG",
        "GXXSQpruYBzw"
      ]
    },
    "kernelspec": {
      "name": "python3",
      "display_name": "Python 3"
    },
    "language_info": {
      "name": "python"
    },
    "accelerator": "GPU"
  },
  "cells": [
    {
      "cell_type": "markdown",
      "metadata": {
        "id": "BHQlhQH6Xt7G"
      },
      "source": [
        "# Package installation"
      ]
    },
    {
      "cell_type": "code",
      "metadata": {
        "colab": {
          "base_uri": "https://localhost:8080/"
        },
        "id": "kqSDboB-VrqF",
        "outputId": "70dc370b-8128-40ad-cec4-a7c8ce48d2f5"
      },
      "source": [
        "# Enforce pytorch version 1.6.0\n",
        "import torch\n",
        "if torch.__version__ != '1.6.0':\n",
        "  !pip uninstall torch -y\n",
        "  !pip uninstall torchvision -y\n",
        "  !pip install torch==1.6.0\n",
        "  !pip install torchvision==0.7.0\n",
        "\n",
        "# Check pytorch version and make sure you use a GPU Kernel\n",
        "!python -c \"import torch; print(torch.__version__)\"\n",
        "!python -c \"import torch; print(torch.version.cuda)\"\n",
        "!python --version\n",
        "!nvidia-smi"
      ],
      "execution_count": null,
      "outputs": [
        {
          "output_type": "stream",
          "text": [
            "1.6.0\n",
            "10.2\n",
            "Python 3.7.10\n",
            "NVIDIA-SMI has failed because it couldn't communicate with the NVIDIA driver. Make sure that the latest NVIDIA driver is installed and running.\n",
            "\n"
          ],
          "name": "stdout"
        }
      ]
    },
    {
      "cell_type": "code",
      "metadata": {
        "colab": {
          "base_uri": "https://localhost:8080/"
        },
        "id": "1tozgjIUYIcb",
        "outputId": "0a0c4a5f-33f0-4d66-bda4-337ec800b586"
      },
      "source": [
        "#@title\n",
        "# Install rdkit\n",
        "!pip install mlflow\n",
        "import sys\n",
        "import os\n",
        "import requests\n",
        "import subprocess\n",
        "import shutil\n",
        "from logging import getLogger, StreamHandler, INFO\n",
        " \n",
        " \n",
        "logger = getLogger(__name__)\n",
        "logger.addHandler(StreamHandler())\n",
        "logger.setLevel(INFO)\n",
        " \n",
        " \n",
        "def install(\n",
        "        chunk_size=4096,\n",
        "        file_name=\"Miniconda3-latest-Linux-x86_64.sh\",\n",
        "        url_base=\"https://repo.continuum.io/miniconda/\",\n",
        "        conda_path=os.path.expanduser(os.path.join(\"~\", \"miniconda\")),\n",
        "        rdkit_version=None,\n",
        "        add_python_path=True,\n",
        "        force=False):\n",
        "    \"\"\"install rdkit from miniconda\n",
        "    ```\n",
        "    import rdkit_installer\n",
        "    rdkit_installer.install()\n",
        "    ```\n",
        "    \"\"\"\n",
        " \n",
        "    python_path = os.path.join(\n",
        "        conda_path,\n",
        "        \"lib\",\n",
        "        \"python{0}.{1}\".format(*sys.version_info),\n",
        "        \"site-packages\",\n",
        "    )\n",
        " \n",
        "    if add_python_path and python_path not in sys.path:\n",
        "        logger.info(\"add {} to PYTHONPATH\".format(python_path))\n",
        "        sys.path.append(python_path)\n",
        " \n",
        "    if os.path.isdir(os.path.join(python_path, \"rdkit\")):\n",
        "        logger.info(\"rdkit is already installed\")\n",
        "        if not force:\n",
        "            return\n",
        " \n",
        "        logger.info(\"force re-install\")\n",
        " \n",
        "    url = url_base + file_name\n",
        "    python_version = \"{0}.{1}.{2}\".format(*sys.version_info)\n",
        " \n",
        "    logger.info(\"python version: {}\".format(python_version))\n",
        " \n",
        "    if os.path.isdir(conda_path):\n",
        "        logger.warning(\"remove current miniconda\")\n",
        "        shutil.rmtree(conda_path)\n",
        "    elif os.path.isfile(conda_path):\n",
        "        logger.warning(\"remove {}\".format(conda_path))\n",
        "        os.remove(conda_path)\n",
        " \n",
        "    logger.info('fetching installer from {}'.format(url))\n",
        "    res = requests.get(url, stream=True)\n",
        "    res.raise_for_status()\n",
        "    with open(file_name, 'wb') as f:\n",
        "        for chunk in res.iter_content(chunk_size):\n",
        "            f.write(chunk)\n",
        "    logger.info('done')\n",
        " \n",
        "    logger.info('installing miniconda to {}'.format(conda_path))\n",
        "    subprocess.check_call([\"bash\", file_name, \"-b\", \"-p\", conda_path])\n",
        "    logger.info('done')\n",
        " \n",
        "    logger.info(\"installing rdkit\")\n",
        "    subprocess.check_call([\n",
        "        os.path.join(conda_path, \"bin\", \"conda\"),\n",
        "        \"install\",\n",
        "        \"--yes\",\n",
        "        \"-c\", \"rdkit\",\n",
        "        \"python==3.7.3\",\n",
        "        \"rdkit\" if rdkit_version is None else \"rdkit=={}\".format(rdkit_version)])\n",
        "    logger.info(\"done\")\n",
        " \n",
        "    import rdkit\n",
        "    logger.info(\"rdkit-{} installation finished!\".format(rdkit.__version__))\n",
        " \n",
        " \n",
        "if __name__ == \"__main__\":\n",
        "    install()"
      ],
      "execution_count": null,
      "outputs": [
        {
          "output_type": "stream",
          "text": [
            "Requirement already satisfied: mlflow in /usr/local/lib/python3.7/dist-packages (1.17.0)\n",
            "Requirement already satisfied: querystring-parser in /usr/local/lib/python3.7/dist-packages (from mlflow) (1.2.4)\n",
            "Requirement already satisfied: requests>=2.17.3 in /usr/local/lib/python3.7/dist-packages (from mlflow) (2.23.0)\n",
            "Requirement already satisfied: gitpython>=2.1.0 in /usr/local/lib/python3.7/dist-packages (from mlflow) (3.1.14)\n",
            "Requirement already satisfied: databricks-cli>=0.8.7 in /usr/local/lib/python3.7/dist-packages (from mlflow) (0.14.3)\n",
            "Requirement already satisfied: numpy in /usr/local/lib/python3.7/dist-packages (from mlflow) (1.19.5)\n",
            "Requirement already satisfied: pyyaml in /usr/local/lib/python3.7/dist-packages (from mlflow) (3.13)\n",
            "Requirement already satisfied: pytz in /usr/local/lib/python3.7/dist-packages (from mlflow) (2018.9)\n",
            "Requirement already satisfied: sqlalchemy in /usr/local/lib/python3.7/dist-packages (from mlflow) (1.4.18)\n",
            "Requirement already satisfied: prometheus-flask-exporter in /usr/local/lib/python3.7/dist-packages (from mlflow) (0.18.2)\n",
            "Requirement already satisfied: pandas in /usr/local/lib/python3.7/dist-packages (from mlflow) (1.1.5)\n",
            "Requirement already satisfied: cloudpickle in /usr/local/lib/python3.7/dist-packages (from mlflow) (1.3.0)\n",
            "Requirement already satisfied: docker>=4.0.0 in /usr/local/lib/python3.7/dist-packages (from mlflow) (5.0.0)\n",
            "Requirement already satisfied: sqlparse>=0.3.1 in /usr/local/lib/python3.7/dist-packages (from mlflow) (0.4.1)\n",
            "Requirement already satisfied: gunicorn; platform_system != \"Windows\" in /usr/local/lib/python3.7/dist-packages (from mlflow) (20.1.0)\n",
            "Requirement already satisfied: click>=7.0 in /usr/local/lib/python3.7/dist-packages (from mlflow) (7.1.2)\n",
            "Requirement already satisfied: entrypoints in /usr/local/lib/python3.7/dist-packages (from mlflow) (0.3)\n",
            "Requirement already satisfied: alembic<=1.4.1 in /usr/local/lib/python3.7/dist-packages (from mlflow) (1.4.1)\n",
            "Requirement already satisfied: Flask in /usr/local/lib/python3.7/dist-packages (from mlflow) (1.1.4)\n",
            "Requirement already satisfied: protobuf>=3.6.0 in /usr/local/lib/python3.7/dist-packages (from mlflow) (3.12.4)\n",
            "Requirement already satisfied: six in /usr/local/lib/python3.7/dist-packages (from querystring-parser->mlflow) (1.15.0)\n",
            "Requirement already satisfied: chardet<4,>=3.0.2 in /usr/local/lib/python3.7/dist-packages (from requests>=2.17.3->mlflow) (3.0.4)\n",
            "Requirement already satisfied: certifi>=2017.4.17 in /usr/local/lib/python3.7/dist-packages (from requests>=2.17.3->mlflow) (2021.5.30)\n",
            "Requirement already satisfied: urllib3!=1.25.0,!=1.25.1,<1.26,>=1.21.1 in /usr/local/lib/python3.7/dist-packages (from requests>=2.17.3->mlflow) (1.24.3)\n",
            "Requirement already satisfied: idna<3,>=2.5 in /usr/local/lib/python3.7/dist-packages (from requests>=2.17.3->mlflow) (2.10)\n",
            "Requirement already satisfied: gitdb<5,>=4.0.1 in /usr/local/lib/python3.7/dist-packages (from gitpython>=2.1.0->mlflow) (4.0.7)\n",
            "Requirement already satisfied: tabulate>=0.7.7 in /usr/local/lib/python3.7/dist-packages (from databricks-cli>=0.8.7->mlflow) (0.8.9)\n",
            "Requirement already satisfied: importlib-metadata; python_version < \"3.8\" in /usr/local/lib/python3.7/dist-packages (from sqlalchemy->mlflow) (4.5.0)\n",
            "Requirement already satisfied: greenlet!=0.4.17; python_version >= \"3\" in /usr/local/lib/python3.7/dist-packages (from sqlalchemy->mlflow) (1.1.0)\n",
            "Requirement already satisfied: prometheus-client in /usr/local/lib/python3.7/dist-packages (from prometheus-flask-exporter->mlflow) (0.11.0)\n",
            "Requirement already satisfied: python-dateutil>=2.7.3 in /usr/local/lib/python3.7/dist-packages (from pandas->mlflow) (2.8.1)\n",
            "Requirement already satisfied: websocket-client>=0.32.0 in /usr/local/lib/python3.7/dist-packages (from docker>=4.0.0->mlflow) (1.1.0)\n",
            "Requirement already satisfied: setuptools>=3.0 in /usr/local/lib/python3.7/dist-packages (from gunicorn; platform_system != \"Windows\"->mlflow) (57.0.0)\n",
            "Requirement already satisfied: python-editor>=0.3 in /usr/local/lib/python3.7/dist-packages (from alembic<=1.4.1->mlflow) (1.0.4)\n",
            "Requirement already satisfied: Mako in /usr/local/lib/python3.7/dist-packages (from alembic<=1.4.1->mlflow) (1.1.4)\n",
            "Requirement already satisfied: Werkzeug<2.0,>=0.15 in /usr/local/lib/python3.7/dist-packages (from Flask->mlflow) (1.0.1)\n",
            "Requirement already satisfied: Jinja2<3.0,>=2.10.1 in /usr/local/lib/python3.7/dist-packages (from Flask->mlflow) (2.11.3)\n",
            "Requirement already satisfied: itsdangerous<2.0,>=0.24 in /usr/local/lib/python3.7/dist-packages (from Flask->mlflow) (1.1.0)\n",
            "Requirement already satisfied: smmap<5,>=3.0.1 in /usr/local/lib/python3.7/dist-packages (from gitdb<5,>=4.0.1->gitpython>=2.1.0->mlflow) (4.0.0)\n",
            "Requirement already satisfied: zipp>=0.5 in /usr/local/lib/python3.7/dist-packages (from importlib-metadata; python_version < \"3.8\"->sqlalchemy->mlflow) (3.4.1)\n",
            "Requirement already satisfied: typing-extensions>=3.6.4; python_version < \"3.8\" in /usr/local/lib/python3.7/dist-packages (from importlib-metadata; python_version < \"3.8\"->sqlalchemy->mlflow) (3.7.4.3)\n",
            "Requirement already satisfied: MarkupSafe>=0.9.2 in /usr/local/lib/python3.7/dist-packages (from Mako->alembic<=1.4.1->mlflow) (2.0.1)\n"
          ],
          "name": "stdout"
        },
        {
          "output_type": "stream",
          "text": [
            "add /root/miniconda/lib/python3.7/site-packages to PYTHONPATH\n",
            "rdkit is already installed\n"
          ],
          "name": "stderr"
        }
      ]
    },
    {
      "cell_type": "code",
      "metadata": {
        "colab": {
          "base_uri": "https://localhost:8080/"
        },
        "id": "3kSj8ommYM1h",
        "outputId": "53c2ca1c-8be6-43ee-9f76-6dc730629e0d"
      },
      "source": [
        "# If something breaks in the notebook it is probably related to a mismatch between the Python version, CUDA or torch\n",
        "import torch\n",
        "pytorch_version = f\"torch-{torch.__version__}+cu{torch.version.cuda.replace('.', '')}.html\"\n",
        "!pip install --no-index torch-scatter -f https://pytorch-geometric.com/whl/$pytorch_version\n",
        "!pip install --no-index torch-sparse -f https://pytorch-geometric.com/whl/$pytorch_version\n",
        "!pip install --no-index torch-cluster -f https://pytorch-geometric.com/whl/$pytorch_version\n",
        "!pip install --no-index torch-spline-conv -f https://pytorch-geometric.com/whl/$pytorch_version\n",
        "!pip install torch-geometric"
      ],
      "execution_count": null,
      "outputs": [
        {
          "output_type": "stream",
          "text": [
            "Looking in links: https://pytorch-geometric.com/whl/torch-1.6.0+cu102.html\n",
            "Requirement already satisfied: torch-scatter in /usr/local/lib/python3.7/dist-packages (2.0.6)\n",
            "Looking in links: https://pytorch-geometric.com/whl/torch-1.6.0+cu102.html\n",
            "Requirement already satisfied: torch-sparse in /usr/local/lib/python3.7/dist-packages (0.6.9)\n",
            "Requirement already satisfied: scipy in /usr/local/lib/python3.7/dist-packages (from torch-sparse) (1.4.1)\n",
            "Requirement already satisfied: numpy>=1.13.3 in /usr/local/lib/python3.7/dist-packages (from scipy->torch-sparse) (1.19.5)\n",
            "Looking in links: https://pytorch-geometric.com/whl/torch-1.6.0+cu102.html\n",
            "Requirement already satisfied: torch-cluster in /usr/local/lib/python3.7/dist-packages (1.5.9)\n",
            "Looking in links: https://pytorch-geometric.com/whl/torch-1.6.0+cu102.html\n",
            "Requirement already satisfied: torch-spline-conv in /usr/local/lib/python3.7/dist-packages (1.2.1)\n",
            "Requirement already satisfied: torch-geometric in /usr/local/lib/python3.7/dist-packages (1.7.0)\n",
            "Requirement already satisfied: python-louvain in /usr/local/lib/python3.7/dist-packages (from torch-geometric) (0.15)\n",
            "Requirement already satisfied: scikit-learn in /usr/local/lib/python3.7/dist-packages (from torch-geometric) (0.22.2.post1)\n",
            "Requirement already satisfied: h5py in /usr/local/lib/python3.7/dist-packages (from torch-geometric) (3.1.0)\n",
            "Requirement already satisfied: pandas in /usr/local/lib/python3.7/dist-packages (from torch-geometric) (1.1.5)\n",
            "Requirement already satisfied: scipy in /usr/local/lib/python3.7/dist-packages (from torch-geometric) (1.4.1)\n",
            "Requirement already satisfied: requests in /usr/local/lib/python3.7/dist-packages (from torch-geometric) (2.23.0)\n",
            "Requirement already satisfied: ase in /usr/local/lib/python3.7/dist-packages (from torch-geometric) (3.21.1)\n",
            "Requirement already satisfied: googledrivedownloader in /usr/local/lib/python3.7/dist-packages (from torch-geometric) (0.4)\n",
            "Requirement already satisfied: jinja2 in /usr/local/lib/python3.7/dist-packages (from torch-geometric) (2.11.3)\n",
            "Requirement already satisfied: numpy in /usr/local/lib/python3.7/dist-packages (from torch-geometric) (1.19.5)\n",
            "Requirement already satisfied: tqdm in /usr/local/lib/python3.7/dist-packages (from torch-geometric) (4.41.1)\n",
            "Requirement already satisfied: rdflib in /usr/local/lib/python3.7/dist-packages (from torch-geometric) (5.0.0)\n",
            "Requirement already satisfied: networkx in /usr/local/lib/python3.7/dist-packages (from torch-geometric) (2.5.1)\n",
            "Requirement already satisfied: numba in /usr/local/lib/python3.7/dist-packages (from torch-geometric) (0.51.2)\n",
            "Requirement already satisfied: joblib>=0.11 in /usr/local/lib/python3.7/dist-packages (from scikit-learn->torch-geometric) (1.0.1)\n",
            "Requirement already satisfied: cached-property; python_version < \"3.8\" in /usr/local/lib/python3.7/dist-packages (from h5py->torch-geometric) (1.5.2)\n",
            "Requirement already satisfied: pytz>=2017.2 in /usr/local/lib/python3.7/dist-packages (from pandas->torch-geometric) (2018.9)\n",
            "Requirement already satisfied: python-dateutil>=2.7.3 in /usr/local/lib/python3.7/dist-packages (from pandas->torch-geometric) (2.8.1)\n",
            "Requirement already satisfied: chardet<4,>=3.0.2 in /usr/local/lib/python3.7/dist-packages (from requests->torch-geometric) (3.0.4)\n",
            "Requirement already satisfied: idna<3,>=2.5 in /usr/local/lib/python3.7/dist-packages (from requests->torch-geometric) (2.10)\n",
            "Requirement already satisfied: urllib3!=1.25.0,!=1.25.1,<1.26,>=1.21.1 in /usr/local/lib/python3.7/dist-packages (from requests->torch-geometric) (1.24.3)\n",
            "Requirement already satisfied: certifi>=2017.4.17 in /usr/local/lib/python3.7/dist-packages (from requests->torch-geometric) (2021.5.30)\n",
            "Requirement already satisfied: matplotlib>=2.0.0 in /usr/local/lib/python3.7/dist-packages (from ase->torch-geometric) (3.2.2)\n",
            "Requirement already satisfied: MarkupSafe>=0.23 in /usr/local/lib/python3.7/dist-packages (from jinja2->torch-geometric) (2.0.1)\n",
            "Requirement already satisfied: six in /usr/local/lib/python3.7/dist-packages (from rdflib->torch-geometric) (1.15.0)\n",
            "Requirement already satisfied: isodate in /usr/local/lib/python3.7/dist-packages (from rdflib->torch-geometric) (0.6.0)\n",
            "Requirement already satisfied: pyparsing in /usr/local/lib/python3.7/dist-packages (from rdflib->torch-geometric) (2.4.7)\n",
            "Requirement already satisfied: decorator<5,>=4.3 in /usr/local/lib/python3.7/dist-packages (from networkx->torch-geometric) (4.4.2)\n",
            "Requirement already satisfied: llvmlite<0.35,>=0.34.0.dev0 in /usr/local/lib/python3.7/dist-packages (from numba->torch-geometric) (0.34.0)\n",
            "Requirement already satisfied: setuptools in /usr/local/lib/python3.7/dist-packages (from numba->torch-geometric) (57.0.0)\n",
            "Requirement already satisfied: kiwisolver>=1.0.1 in /usr/local/lib/python3.7/dist-packages (from matplotlib>=2.0.0->ase->torch-geometric) (1.3.1)\n",
            "Requirement already satisfied: cycler>=0.10 in /usr/local/lib/python3.7/dist-packages (from matplotlib>=2.0.0->ase->torch-geometric) (0.10.0)\n"
          ],
          "name": "stdout"
        }
      ]
    },
    {
      "cell_type": "markdown",
      "metadata": {
        "id": "XD3OymX6DS-Z"
      },
      "source": [
        "### Old"
      ]
    },
    {
      "cell_type": "code",
      "metadata": {
        "id": "Pm1Ay-BpDNl5"
      },
      "source": [
        "####################################\n",
        "#to jest to stare ale dzialajace\n",
        "from torch.nn import Sequential, Linear, BatchNorm1d\n",
        "from torch_geometric.nn import TransformerConv, GATConv, TopKPooling, BatchNorm\n",
        "from torch_geometric.nn import global_mean_pool as gap, global_max_pool as gmp\n",
        "from torch_geometric.nn.conv.x_conv import XConv\n",
        "embedding_size = 512\n",
        "\n",
        "\n",
        "class GAN(torch.nn.Module):\n",
        "    def __init__(self, feature_size):\n",
        "        super(GAN, self).__init__()\n",
        "        num_classes = 1\n",
        "    \n",
        "        # GNN layers\n",
        "        self.conv1 = GATConv(feature_size, embedding_size, heads=3, dropout=0.3)\n",
        "        self.head_transform1 = Linear(embedding_size*3, embedding_size)\n",
        "        self.pool1 = TopKPooling(embedding_size, ratio=0.8)\n",
        "        self.conv2 = GATConv(embedding_size, embedding_size, heads=3, dropout=0.3) \n",
        "        #####################################################################################\n",
        "        # wszystkie bloki moznaby bylo wrzucic jako jedna macierz\n",
        "        #####################################################################################\n",
        "        self.head_transform2 = Linear(embedding_size*3, embedding_size)\n",
        "        self.pool2 = TopKPooling(embedding_size, ratio=0.5)\n",
        "        self.conv3 = GATConv(embedding_size, embedding_size, heads=3, dropout=0.3)\n",
        "        self.head_transform3 = Linear(embedding_size*3, embedding_size)\n",
        "        self.pool3 = TopKPooling(embedding_size, ratio=0.2)\n",
        "\n",
        "        # Linear layers\n",
        "        self.linear1 = Linear(embedding_size*2, 1024)\n",
        "        self.linear2 = Linear(1024, num_classes)  \n",
        "\n",
        "    def forward(self, x, edge_attr, edge_index, batch_index):\n",
        "        # First block\n",
        "        x = self.conv1(x, edge_index)\n",
        "        x = self.head_transform1(x)\n",
        "        \n",
        "        x, edge_index, edge_attr, batch_index, _, _ = self.pool1(x, \n",
        "                                                        edge_index, \n",
        "                                                        None, \n",
        "                                                        batch_index)\n",
        "        x1 = torch.cat([gmp(x, batch_index), gap(x, batch_index)], dim=1)\n",
        "\n",
        "        # Second block\n",
        "        x = self.conv2(x, edge_index)\n",
        "        x = self.head_transform2(x)\n",
        "        x, edge_index, edge_attr, batch_index, _, _ = self.pool2(x, \n",
        "                                                        edge_index, \n",
        "                                                        None, \n",
        "                                                        batch_index)\n",
        "        x2 = torch.cat([gmp(x, batch_index), gap(x, batch_index)], dim=1)\n",
        "\n",
        "        # Third block\n",
        "        x = self.conv3(x, edge_index)\n",
        "        x = self.head_transform3(x)\n",
        "        x, edge_index, edge_attr, batch_index, _, _ = self.pool3(x, \n",
        "                                                        edge_index, \n",
        "                                                        None, \n",
        "                                                        batch_index)\n",
        "        x3 = torch.cat([gmp(x, batch_index), gap(x, batch_index)], dim=1)\n",
        "\n",
        "        # Concat pooled vectors\n",
        "        x = x1 + x2 + x3\n",
        "\n",
        "#############################################################################\n",
        "#Dac pooling layer z global attention layer: https://pytorch-geometric.readthedocs.io/en/latest/modules/nn.html#global-pooling-layers\n",
        "############################################################################\n",
        "\n",
        "        # Output block\n",
        "        x = self.linear1(x).relu()\n",
        "        x = F.dropout(x, p=0.5, training=self.training)\n",
        "        x = self.linear2(x)\n",
        "        out = torch.sigmoid(x)\n",
        "        \n",
        "        return out, x"
      ],
      "execution_count": null,
      "outputs": []
    },
    {
      "cell_type": "code",
      "metadata": {
        "id": "QgHSeJLdTlii"
      },
      "source": [
        "!pip install pyngrok --quiet\n",
        "#from: https://stackoverflow.com/questions/61615818/setting-up-mlflow-on-google-colab\n",
        "import mlflow\n",
        "\n",
        "with mlflow.start_run(run_name=\"MLflow on Colab\"):\n",
        "  mlflow.log_metric(\"m1\", 2.0)\n",
        "  mlflow.log_param(\"p1\", \"mlflow-colab\")\n",
        "\n",
        "# run tracking UI in the background\n",
        "get_ipython().system_raw(\"mlflow ui --port 5000 &\") # run tracking UI in the background\n",
        "\n",
        "\n",
        "# create remote tunnel using ngrok.com to allow local port access\n",
        "# borrowed from https://colab.research.google.com/github/alfozan/MLflow-GBRT-demo/blob/master/MLflow-GBRT-demo.ipynb#scrollTo=4h3bKHMYUIG6\n",
        "\n",
        "from pyngrok import ngrok\n",
        "\n",
        "# Terminate open tunnels if exist\n",
        "ngrok.kill()\n",
        "\n",
        "# Setting the authtoken (optional)\n",
        "# Get your authtoken from https://dashboard.ngrok.com/auth\n",
        "NGROK_AUTH_TOKEN = \"\"\n",
        "ngrok.set_auth_token(NGROK_AUTH_TOKEN)\n",
        "\n",
        "# Open an HTTPs tunnel on port 5000 for http://localhost:5000\n",
        "ngrok_tunnel = ngrok.connect(addr=\"5000\", proto=\"http\", bind_tls=True)\n",
        "print(\"MLflow Tracking UI:\", ngrok_tunnel.public_url)"
      ],
      "execution_count": null,
      "outputs": []
    },
    {
      "cell_type": "markdown",
      "metadata": {
        "id": "1Lwm9YsAXw_3"
      },
      "source": [
        "# Dataset creation and exploration"
      ]
    },
    {
      "cell_type": "markdown",
      "metadata": {
        "id": "8a8iIhXN2nqj"
      },
      "source": [
        "## Loading and describing data"
      ]
    },
    {
      "cell_type": "code",
      "metadata": {
        "id": "WcxZG6TwX0R-"
      },
      "source": [
        "import pandas as pd\n",
        "import torch_geometric\n",
        "from torch_geometric.data import Dataset, Data\n",
        "import numpy as np\n",
        "from tqdm import tqdm\n",
        "from rdkit import Chem\n",
        "from rdkit.Chem import rdmolops, Draw\n",
        "import os"
      ],
      "execution_count": null,
      "outputs": []
    },
    {
      "cell_type": "code",
      "metadata": {
        "colab": {
          "base_uri": "https://localhost:8080/",
          "height": 204
        },
        "id": "eBRvfW2Lo-PP",
        "outputId": "16ff153a-59d4-4b68-d10c-8c29ece55482"
      },
      "source": [
        "# source of data: http://moleculenet.ai/datasets-1\n",
        "smile_path = 'drive/MyDrive/Molecule project/Data/raw/'\n",
        "smile_name = 'BBBP.csv'\n",
        "\n",
        "smile = pd.read_csv(os.path.join(smile_path, smile_name))\n",
        "smile.head()"
      ],
      "execution_count": null,
      "outputs": [
        {
          "output_type": "execute_result",
          "data": {
            "text/html": [
              "<div>\n",
              "<style scoped>\n",
              "    .dataframe tbody tr th:only-of-type {\n",
              "        vertical-align: middle;\n",
              "    }\n",
              "\n",
              "    .dataframe tbody tr th {\n",
              "        vertical-align: top;\n",
              "    }\n",
              "\n",
              "    .dataframe thead th {\n",
              "        text-align: right;\n",
              "    }\n",
              "</style>\n",
              "<table border=\"1\" class=\"dataframe\">\n",
              "  <thead>\n",
              "    <tr style=\"text-align: right;\">\n",
              "      <th></th>\n",
              "      <th>num</th>\n",
              "      <th>name</th>\n",
              "      <th>p_np</th>\n",
              "      <th>smiles</th>\n",
              "    </tr>\n",
              "  </thead>\n",
              "  <tbody>\n",
              "    <tr>\n",
              "      <th>0</th>\n",
              "      <td>1</td>\n",
              "      <td>Propanolol</td>\n",
              "      <td>1.0</td>\n",
              "      <td>[Cl].CC(C)NCC(O)COc1cccc2ccccc12</td>\n",
              "    </tr>\n",
              "    <tr>\n",
              "      <th>1</th>\n",
              "      <td>2</td>\n",
              "      <td>Terbutylchlorambucil</td>\n",
              "      <td>1.0</td>\n",
              "      <td>C(=O)(OC(C)(C)C)CCCc1ccc(cc1)N(CCCl)CCCl</td>\n",
              "    </tr>\n",
              "    <tr>\n",
              "      <th>2</th>\n",
              "      <td>3</td>\n",
              "      <td>40730</td>\n",
              "      <td>1.0</td>\n",
              "      <td>c12c3c(N4CCN(C)CC4)c(F)cc1c(c(C(O)=O)cn2C(C)CO...</td>\n",
              "    </tr>\n",
              "    <tr>\n",
              "      <th>3</th>\n",
              "      <td>4</td>\n",
              "      <td>24</td>\n",
              "      <td>1.0</td>\n",
              "      <td>C1CCN(CC1)Cc1cccc(c1)OCCCNC(=O)C</td>\n",
              "    </tr>\n",
              "    <tr>\n",
              "      <th>4</th>\n",
              "      <td>5</td>\n",
              "      <td>cloxacillin</td>\n",
              "      <td>1.0</td>\n",
              "      <td>Cc1onc(c2ccccc2Cl)c1C(=O)N[C@H]3[C@H]4SC(C)(C)...</td>\n",
              "    </tr>\n",
              "  </tbody>\n",
              "</table>\n",
              "</div>"
            ],
            "text/plain": [
              "  num  ...                                             smiles\n",
              "0   1  ...                   [Cl].CC(C)NCC(O)COc1cccc2ccccc12\n",
              "1   2  ...           C(=O)(OC(C)(C)C)CCCc1ccc(cc1)N(CCCl)CCCl\n",
              "2   3  ...  c12c3c(N4CCN(C)CC4)c(F)cc1c(c(C(O)=O)cn2C(C)CO...\n",
              "3   4  ...                   C1CCN(CC1)Cc1cccc(c1)OCCCNC(=O)C\n",
              "4   5  ...  Cc1onc(c2ccccc2Cl)c1C(=O)N[C@H]3[C@H]4SC(C)(C)...\n",
              "\n",
              "[5 rows x 4 columns]"
            ]
          },
          "metadata": {
            "tags": []
          },
          "execution_count": 5
        }
      ]
    },
    {
      "cell_type": "code",
      "metadata": {
        "colab": {
          "base_uri": "https://localhost:8080/"
        },
        "id": "OqO5wCNtmChm",
        "outputId": "55efd0d7-6869-4fa3-903f-24e8d19f670c"
      },
      "source": [
        "smile.drop(labels=['num', 'name'], axis=1, inplace=True)\n",
        "print(smile.shape)\n",
        "print(smile['p_np'].value_counts()) "
      ],
      "execution_count": null,
      "outputs": [
        {
          "output_type": "stream",
          "text": [
            "(2030, 2)\n",
            "1.0    1550\n",
            "0.0     479\n",
            "Name: p_np, dtype: int64\n"
          ],
          "name": "stdout"
        }
      ]
    },
    {
      "cell_type": "code",
      "metadata": {
        "colab": {
          "base_uri": "https://localhost:8080/"
        },
        "id": "AZFlbXhmE4jr",
        "outputId": "777d45db-3404-49bf-c239-31a343be1f42"
      },
      "source": [
        "#Setting weights for loss function\n",
        "weight_for_one = sum(smile['p_np']== 0.0) / len(smile)\n",
        "weight_for_zero = sum(smile['p_np'] == 1.0) / len(smile)\n",
        "weights = torch.tensor([weight_for_zero, weight_for_one])\n",
        "\n",
        "print('Weight for positive prediction: ', weight_for_one)\n",
        "print('Weight for negative prediction: ', weight_for_zero)"
      ],
      "execution_count": null,
      "outputs": [
        {
          "output_type": "stream",
          "text": [
            "Weight for positive prediction:  0.23596059113300494\n",
            "Weight for negative prediction:  0.7635467980295566\n"
          ],
          "name": "stdout"
        }
      ]
    },
    {
      "cell_type": "markdown",
      "metadata": {
        "id": "iIq5yzMioRsL"
      },
      "source": [
        "## Molecule visualization"
      ]
    },
    {
      "cell_type": "code",
      "metadata": {
        "colab": {
          "base_uri": "https://localhost:8080/",
          "height": 406
        },
        "id": "0wguGzuZoRPj",
        "outputId": "8ba2f334-f0ad-4df9-e801-f90fbb789a59"
      },
      "source": [
        "first_ten = smile[\"smiles\"][:10].values\n",
        "first_ten = [Chem.MolFromSmiles(smiles) for smiles in first_ten]\n",
        "grid = Draw.MolsToGridImage(first_ten, molsPerRow=5, subImgSize=(250,250))\n",
        "grid"
      ],
      "execution_count": null,
      "outputs": [
        {
          "output_type": "execute_result",
          "data": {
            "image/png": "[encoded data removed]",
            "text/plain": [
              "<PIL.PngImagePlugin.PngImageFile image mode=RGB size=1250x500 at 0x7F115D26E750>"
            ]
          },
          "metadata": {
            "tags": []
          },
          "execution_count": 8
        }
      ]
    },
    {
      "cell_type": "markdown",
      "metadata": {
        "id": "yGTpaPqJpTbG"
      },
      "source": [
        "## Data processing"
      ]
    },
    {
      "cell_type": "code",
      "metadata": {
        "id": "5PpMsP1IpU99"
      },
      "source": [
        "class MoleculeDataset(Dataset):\n",
        "  def __init__(self, root, transform=None, pre_transform=None):\n",
        "    super(MoleculeDataset, self).__init__(root, transform, pre_transform)\n",
        "\n",
        "  @property\n",
        "  def raw_file_names(self):\n",
        "    return 'BBBP.csv'\n",
        "\n",
        "  @property\n",
        "  def processed_file_names(self):\n",
        "    return 'not_implemented.pt'\n",
        "\n",
        "  def download(self):\n",
        "    pass\n",
        "\n",
        "  def process(self):\n",
        "    self.data = pd.read_csv(self.raw_paths[0])\n",
        "    self.data.drop(labels=['num', 'name'], axis=1, inplace=True)\n",
        "    self.corrupted_molecules = 0\n",
        "    for index, mol in tqdm(self.data.iterrows(), total=self.data.shape[0]):\n",
        "      try: #stan zero\n",
        "        molecule = Chem.MolFromSmiles(mol[\"smiles\"])\n",
        "      except:\n",
        "        print(index)\n",
        "        self.corrupted_molecules += 1\n",
        "        continue\n",
        "      if molecule is not None:\n",
        "        node_features = self._get_node_features(molecule)\n",
        "        edge_features = self._get_edge_features(molecule)\n",
        "        edge_index = self._get_adjecency_info(molecule)\n",
        "        label = self._get_labels(mol['p_np'])\n",
        "\n",
        "        data = Data(x=node_features, edge_index=edge_index, edge_attr=edge_features, y=label, smiles=mol['smiles'])\n",
        "        torch.save(data, os.path.join(self.processed_dir, f'data_{index-self.corrupted_molecules}.pt'))\n",
        "      #except:\n",
        "      #  print(index)\n",
        "       # self.corrupted_molecules += 1\n",
        "       # pass\n",
        "    #print('Number of corrupted molecules: ', self.corrupted_molecules)\n",
        "\n",
        "  def _get_node_features(self, molecule):\n",
        "\n",
        "    all_node_features = []\n",
        "\n",
        "    for atom in molecule.GetAtoms():\n",
        "      node_fts = []\n",
        "      node_fts.append(atom.GetAtomicNum()) #atomic number\n",
        "      node_fts.append(atom.GetFormalCharge()) #formal charge\n",
        "      node_fts.append(atom.GetChiralTag()) #chiral tag\n",
        "      node_fts.append(atom.GetIsAromatic()) #is aromatic\n",
        "      all_node_features.append(node_fts)\n",
        "\n",
        "    all_node_features = np.asarray(all_node_features)\n",
        "    return torch.tensor(all_node_features, dtype=torch.float)\n",
        "\n",
        "\n",
        "  def _get_edge_features(self, molecule):\n",
        "\n",
        "    all_edge_features = []\n",
        "\n",
        "    for bond in molecule.GetBonds():\n",
        "      edge_fts = []\n",
        "      edge_fts.append(bond.GetBondTypeAsDouble()) #bond type as double\n",
        "      edge_fts.append(bond.GetStereo()) #bond stereo\n",
        "      all_edge_features.append(edge_fts)\n",
        "\n",
        "    all_edge_features = np.asarray(all_edge_features)\n",
        "    return torch.tensor(all_edge_features, dtype=torch.float)\n",
        "\n",
        "  def _get_adjecency_info(self, molecule):\n",
        "    edge_indices = []\n",
        "    for bond in molecule.GetBonds():\n",
        "        i = bond.GetBeginAtomIdx()\n",
        "        j = bond.GetEndAtomIdx()\n",
        "        edge_indices += [[i, j], [j, i]]\n",
        "\n",
        "    edge_indices = torch.tensor(edge_indices)\n",
        "    edge_indices = edge_indices.t().to(torch.long).view(2, -1)\n",
        "    return edge_indices\n",
        "\n",
        "  def _get_labels(self, label):\n",
        "    label = np.asarray([[label]])\n",
        "    return torch.tensor(label, dtype=torch.int64)\n",
        "\n",
        "  def len(self):\n",
        "    return self.data.shape[0]\n",
        "\n",
        "  def get(self, idx):\n",
        "    data = torch.load(os.path.join(self.processed_dir, f'data_{idx}.pt'))\n",
        "    return data"
      ],
      "execution_count": null,
      "outputs": []
    },
    {
      "cell_type": "code",
      "metadata": {
        "colab": {
          "base_uri": "https://localhost:8080/"
        },
        "id": "jQ0EV2u3wzBy",
        "outputId": "852da0c5-b108-4631-ed95-e94f73d4794b"
      },
      "source": [
        "data_folder = 'drive/MyDrive/Molecule project/Data/'\n",
        "data = MoleculeDataset(root=data_folder)"
      ],
      "execution_count": null,
      "outputs": [
        {
          "output_type": "stream",
          "text": [
            "  1%|          | 12/2030 [00:00<00:17, 115.67it/s]"
          ],
          "name": "stderr"
        },
        {
          "output_type": "stream",
          "text": [
            "Processing...\n"
          ],
          "name": "stdout"
        },
        {
          "output_type": "stream",
          "text": [
            "  5%|▌         | 108/2030 [00:01<00:22, 86.12it/s]"
          ],
          "name": "stderr"
        },
        {
          "output_type": "stream",
          "text": [
            "88\n"
          ],
          "name": "stdout"
        },
        {
          "output_type": "stream",
          "text": [
            "100%|██████████| 2030/2030 [00:28<00:00, 70.91it/s]"
          ],
          "name": "stderr"
        },
        {
          "output_type": "stream",
          "text": [
            "Done!\n"
          ],
          "name": "stdout"
        },
        {
          "output_type": "stream",
          "text": [
            "\n"
          ],
          "name": "stderr"
        }
      ]
    },
    {
      "cell_type": "code",
      "metadata": {
        "colab": {
          "base_uri": "https://localhost:8080/"
        },
        "id": "R39Kvd4V1OOn",
        "outputId": "59e76575-6e0e-4977-b9e2-1d4abc0cf6b9"
      },
      "source": [
        "print('Edge indexes in coo format: ', data[0].edge_index.t()) #edge indexes in coo format\n",
        "print('\\n Node features: ', data[0].x) #node features matrix\n",
        "print('\\n Edge features: ', data[0].edge_attr) #edge features matrix\n",
        "print('\\n Label: ', data[0].y) # label"
      ],
      "execution_count": null,
      "outputs": [
        {
          "output_type": "stream",
          "text": [
            "Edge indexes in coo format:  tensor([[ 1,  2],\n",
            "        [ 2,  1],\n",
            "        [ 2,  3],\n",
            "        [ 3,  2],\n",
            "        [ 2,  4],\n",
            "        [ 4,  2],\n",
            "        [ 4,  5],\n",
            "        [ 5,  4],\n",
            "        [ 5,  6],\n",
            "        [ 6,  5],\n",
            "        [ 6,  7],\n",
            "        [ 7,  6],\n",
            "        [ 6,  8],\n",
            "        [ 8,  6],\n",
            "        [ 8,  9],\n",
            "        [ 9,  8],\n",
            "        [ 9, 10],\n",
            "        [10,  9],\n",
            "        [10, 11],\n",
            "        [11, 10],\n",
            "        [11, 12],\n",
            "        [12, 11],\n",
            "        [12, 13],\n",
            "        [13, 12],\n",
            "        [13, 14],\n",
            "        [14, 13],\n",
            "        [14, 15],\n",
            "        [15, 14],\n",
            "        [15, 16],\n",
            "        [16, 15],\n",
            "        [16, 17],\n",
            "        [17, 16],\n",
            "        [17, 18],\n",
            "        [18, 17],\n",
            "        [18, 19],\n",
            "        [19, 18],\n",
            "        [19, 10],\n",
            "        [10, 19],\n",
            "        [19, 14],\n",
            "        [14, 19]])\n",
            "\n",
            " Node features:  tensor([[17.,  0.,  0.,  0.],\n",
            "        [ 6.,  0.,  0.,  0.],\n",
            "        [ 6.,  0.,  0.,  0.],\n",
            "        [ 6.,  0.,  0.,  0.],\n",
            "        [ 7.,  0.,  0.,  0.],\n",
            "        [ 6.,  0.,  0.,  0.],\n",
            "        [ 6.,  0.,  0.,  0.],\n",
            "        [ 8.,  0.,  0.,  0.],\n",
            "        [ 6.,  0.,  0.,  0.],\n",
            "        [ 8.,  0.,  0.,  0.],\n",
            "        [ 6.,  0.,  0.,  1.],\n",
            "        [ 6.,  0.,  0.,  1.],\n",
            "        [ 6.,  0.,  0.,  1.],\n",
            "        [ 6.,  0.,  0.,  1.],\n",
            "        [ 6.,  0.,  0.,  1.],\n",
            "        [ 6.,  0.,  0.,  1.],\n",
            "        [ 6.,  0.,  0.,  1.],\n",
            "        [ 6.,  0.,  0.,  1.],\n",
            "        [ 6.,  0.,  0.,  1.],\n",
            "        [ 6.,  0.,  0.,  1.]])\n",
            "\n",
            " Edge features:  tensor([[1.0000, 0.0000],\n",
            "        [1.0000, 0.0000],\n",
            "        [1.0000, 0.0000],\n",
            "        [1.0000, 0.0000],\n",
            "        [1.0000, 0.0000],\n",
            "        [1.0000, 0.0000],\n",
            "        [1.0000, 0.0000],\n",
            "        [1.0000, 0.0000],\n",
            "        [1.0000, 0.0000],\n",
            "        [1.5000, 0.0000],\n",
            "        [1.5000, 0.0000],\n",
            "        [1.5000, 0.0000],\n",
            "        [1.5000, 0.0000],\n",
            "        [1.5000, 0.0000],\n",
            "        [1.5000, 0.0000],\n",
            "        [1.5000, 0.0000],\n",
            "        [1.5000, 0.0000],\n",
            "        [1.5000, 0.0000],\n",
            "        [1.5000, 0.0000],\n",
            "        [1.5000, 0.0000]])\n",
            "\n",
            " Label:  tensor([[1]])\n"
          ],
          "name": "stdout"
        }
      ]
    },
    {
      "cell_type": "markdown",
      "metadata": {
        "id": "FlFuRvVMX0lG"
      },
      "source": [
        "# GNN implementation"
      ]
    },
    {
      "cell_type": "markdown",
      "metadata": {
        "id": "lN-M0Gf87Lpo"
      },
      "source": [
        "Paper about graph classification with attention: https://dl.acm.org/doi/pdf/10.1145/3219819.3219980\n",
        "\n",
        "And this one: https://openreview.net/attachment?id=HJeLBpEFPB&name=original_pdf"
      ]
    },
    {
      "cell_type": "markdown",
      "metadata": {
        "id": "A5qQYZ6ehu6-"
      },
      "source": [
        "## Simple GCN model"
      ]
    },
    {
      "cell_type": "markdown",
      "metadata": {
        "id": "mRt-i_6dhzdU"
      },
      "source": [
        "### Architecture"
      ]
    },
    {
      "cell_type": "markdown",
      "metadata": {
        "id": "6Wqg8Q-AXcPX"
      },
      "source": [
        "Theory\n",
        "\n",
        "![image.png](data:image/png;base64,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)\n",
        "\n",
        "\n",
        "![image.png](data:image/png;base64,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)"
      ]
    },
    {
      "cell_type": "code",
      "metadata": {
        "id": "JJEJC1t2hyBg"
      },
      "source": [
        "import torch\n",
        "from torch.nn import Linear\n",
        "import torch.nn.functional as F\n",
        "from torch_geometric.nn import GCNConv\n",
        "from torch_geometric.nn import global_mean_pool, global_max_pool\n",
        "embedding_size = 128\n",
        "\n",
        "\n",
        "class GCN(torch.nn.Module):\n",
        "  def __init__(self, feature_size):\n",
        "    super(GCN, self).__init__()\n",
        "    torch.manual_seed(42) #seed is obviously set to 42\n",
        "\n",
        "    #Layers\n",
        "    self.initial_conv = GCNConv(data.num_features, embedding_size)\n",
        "    self.conv1 = GCNConv(embedding_size, embedding_size)\n",
        "    self.conv2 = GCNConv(embedding_size, embedding_size)\n",
        "    self.conv3 = GCNConv(embedding_size, embedding_size)\n",
        "\n",
        "    #output\n",
        "    self.out = Linear(embedding_size*2, 1)\n",
        "\n",
        "  def forward(self, x, edge_index, batch_index):\n",
        "    #First layer\n",
        "    x = self.initial_conv(x, edge_index)\n",
        "    x = F.relu(x)\n",
        "    #Conv layers\n",
        "    x = self.conv1(x, edge_index)\n",
        "    x = F.relu(x)\n",
        "    x = self.conv2(x, edge_index)\n",
        "    x = F.relu(x)\n",
        "    x = self.conv3(x, edge_index)\n",
        "\n",
        "    #Global Pooling as mean\n",
        "    x = torch.cat([global_mean_pool(x, batch_index), global_max_pool(x, batch_index)], dim=1)\n",
        "\n",
        "    #output\n",
        "    out = self.out(x)\n",
        "    out = torch.sigmoid(out)\n",
        "\n",
        "    return out, x"
      ],
      "execution_count": null,
      "outputs": []
    },
    {
      "cell_type": "markdown",
      "metadata": {
        "id": "6dapDg5LhyfW"
      },
      "source": [
        "### Training"
      ]
    },
    {
      "cell_type": "code",
      "metadata": {
        "colab": {
          "base_uri": "https://localhost:8080/"
        },
        "id": "zoY4maJC15Ht",
        "outputId": "255626ca-9217-409a-98ac-528fdb621084"
      },
      "source": [
        "#Data split\n",
        "train_percent = 0.8\n",
        "validate_percent = 0.1\n",
        "train_index = int(train_percent*len(data))\n",
        "valid_index = int(validate_percent*len(data))\n",
        "\n",
        "data = data.shuffle()\n",
        "train_dataset = data[:train_index]\n",
        "valid_dataset = data[train_index:(train_index+valid_index)]\n",
        "test_dataset = data[(train_index+valid_index):]\n",
        "\n",
        "print('Length of train dataset: ', len(train_dataset))\n",
        "print('Length of validation dataset: ', len(valid_dataset))\n",
        "print('Length of test dataset: ', len(test_dataset))"
      ],
      "execution_count": null,
      "outputs": [
        {
          "output_type": "stream",
          "text": [
            "Length of train dataset:  1624\n",
            "Length of validation dataset:  203\n",
            "Length of test dataset:  203\n"
          ],
          "name": "stdout"
        }
      ]
    },
    {
      "cell_type": "code",
      "metadata": {
        "id": "vOzcQBlCh27K",
        "colab": {
          "base_uri": "https://localhost:8080/"
        },
        "outputId": "18ce0a0a-4f1f-40b5-b2b8-bf9bdb7d9cbc"
      },
      "source": [
        "import mlflow.pytorch\n",
        "from torch_geometric.data import DataLoader\n",
        "\n",
        "device = torch.device(\"cuda:0\" if torch.cuda.is_available() else \"cpu\")\n",
        "\n",
        "model_gcn = GCN(feature_size=train_dataset[0].x.shape[1])\n",
        "print(model_gcn)\n",
        "print(\"Number of parameters: \", sum(p.numel() for p in model_gcn.parameters()))\n",
        "model_gcn = model_gcn.to(device)\n",
        "model_gcn\n",
        "\n",
        "loss_fn = torch.nn.BCELoss()\n",
        "optimizer = torch.optim.Adam(model_gcn.parameters(), lr=0.001)\n",
        "\n",
        "#loading data\n",
        "n_batch_size = 128\n",
        "train_loader = DataLoader(train_dataset, batch_size=n_batch_size, shuffle=True)\n",
        "valid_loader = DataLoader(valid_dataset, batch_size=n_batch_size, shuffle=True)\n",
        "test_loader = DataLoader(test_dataset, batch_size=n_batch_size, shuffle=True)\n",
        "\n",
        "def train(epoch):\n",
        "  all_preds = []\n",
        "  all_labels = []\n",
        "\n",
        "  for _, batch in enumerate(tqdm(train_loader)):\n",
        "    batch.to(device)\n",
        "    optimizer.zero_grad() #gradients reset\n",
        "\n",
        "    pred, embedding = model_gcn(batch.x.float(), batch.edge_index, batch.batch)\n",
        "    #loss = torch.sqrt(loss_fn(pred, batch.y))\n",
        "    y = batch.y\n",
        "    y = y.float()\n",
        "    loss = loss_fn(pred, y)\n",
        "    #loss = loss_fn(pred, batch.y)\n",
        "    loss.backward() \n",
        "    # Update using the gradients\n",
        "    optimizer.step() \n",
        "    \n",
        "  return loss, embedding\n",
        "\n",
        "def valid(epoch):\n",
        "  all_preds = []\n",
        "  all_labels = []\n",
        "\n",
        "  for _, batch in enumerate(tqdm(valid_loader)):\n",
        "    batch.to(device)\n",
        "    pred, embedding = model_gcn(batch.x.float(), batch.edge_index, batch.batch)\n",
        "    y = batch.y\n",
        "    y = y.float()\n",
        "    loss = loss_fn(pred, y)\n",
        "    all_preds.append(np.argmax(pred.cpu().detach().numpy(), axis=1))\n",
        "    all_labels.append(batch.y.cpu().detach().numpy())\n",
        "  return loss, embedding\n",
        "\n",
        "\n",
        "def test(epoch):\n",
        "  all_preds = []\n",
        "  all_labels = []\n",
        "  for batch in test_loader:\n",
        "      batch.to(device)  \n",
        "      pred, embedding = model_gcn(batch.x.float(), batch.edge_index, batch.batch)\n",
        "      y = batch.y\n",
        "      y = y.float()\n",
        "      loss = loss_fn(pred, y)  \n",
        "      all_preds.append(np.argmax(pred.cpu().detach().numpy(), axis=1))\n",
        "      all_labels.append(batch.y.cpu().detach().numpy())\n",
        "\n",
        "  return loss, embedding"
      ],
      "execution_count": null,
      "outputs": [
        {
          "output_type": "stream",
          "text": [
            "GCN(\n",
            "  (initial_conv): GCNConv(4, 128)\n",
            "  (conv1): GCNConv(128, 128)\n",
            "  (conv2): GCNConv(128, 128)\n",
            "  (conv3): GCNConv(128, 128)\n",
            "  (out): Linear(in_features=256, out_features=1, bias=True)\n",
            ")\n",
            "Number of parameters:  50433\n"
          ],
          "name": "stdout"
        }
      ]
    },
    {
      "cell_type": "code",
      "metadata": {
        "colab": {
          "base_uri": "https://localhost:8080/"
        },
        "id": "swuBStQEv_8Q",
        "outputId": "b651950c-ff20-4f94-9ec8-357dd2559035"
      },
      "source": [
        "losses_gcn = []\n",
        "losses_gcn_valid = []\n",
        "with mlflow.start_run() as run:\n",
        "  for epoch in range(100):\n",
        "    #Training\n",
        "    model_gcn.train()\n",
        "    loss, h = train(epoch=epoch)\n",
        "    loss = loss.detach().cpu().numpy()\n",
        "    losses_gcn.append(loss)\n",
        "    print('Epoch: ', epoch)\n",
        "    print('Train loss: ', loss)\n",
        "    mlflow.log_metric(key='Train loss', value=float(loss), step=epoch)\n",
        "\n",
        "    #Validation\n",
        "    model_gcn.eval()\n",
        "    if epoch % 5 == 0:\n",
        "      loss, h = valid(epoch=epoch)\n",
        "      loss = loss.detach().cpu().numpy()\n",
        "      losses_gcn_valid.append(loss)\n",
        "      print('Epoch: ', epoch)\n",
        "      print('Valid loss: ', loss)\n",
        "      mlflow.log_metric(key=\"Valid loss\", value=float(loss), step=epoch)\n",
        "    \n",
        "      #scheduler.step()\n",
        "  print(\"Done.\")"
      ],
      "execution_count": null,
      "outputs": [
        {
          "output_type": "stream",
          "text": [
            "100%|██████████| 13/13 [00:05<00:00,  2.52it/s]\n",
            "  0%|          | 0/2 [00:00<?, ?it/s]"
          ],
          "name": "stderr"
        },
        {
          "output_type": "stream",
          "text": [
            "Epoch:  0\n",
            "Train loss:  0.56339115\n"
          ],
          "name": "stdout"
        },
        {
          "output_type": "stream",
          "text": [
            "100%|██████████| 2/2 [00:00<00:00,  4.06it/s]\n",
            "  0%|          | 0/13 [00:00<?, ?it/s]"
          ],
          "name": "stderr"
        },
        {
          "output_type": "stream",
          "text": [
            "Epoch:  0\n",
            "Valid loss:  0.54328066\n"
          ],
          "name": "stdout"
        },
        {
          "output_type": "stream",
          "text": [
            "100%|██████████| 13/13 [00:04<00:00,  2.72it/s]\n",
            "  0%|          | 0/13 [00:00<?, ?it/s]"
          ],
          "name": "stderr"
        },
        {
          "output_type": "stream",
          "text": [
            "Epoch:  1\n",
            "Train loss:  0.53102076\n"
          ],
          "name": "stdout"
        },
        {
          "output_type": "stream",
          "text": [
            "100%|██████████| 13/13 [00:04<00:00,  2.67it/s]\n",
            "  0%|          | 0/13 [00:00<?, ?it/s]"
          ],
          "name": "stderr"
        },
        {
          "output_type": "stream",
          "text": [
            "Epoch:  2\n",
            "Train loss:  0.5773714\n"
          ],
          "name": "stdout"
        },
        {
          "output_type": "stream",
          "text": [
            "100%|██████████| 13/13 [00:04<00:00,  2.68it/s]\n",
            "  0%|          | 0/13 [00:00<?, ?it/s]"
          ],
          "name": "stderr"
        },
        {
          "output_type": "stream",
          "text": [
            "Epoch:  3\n",
            "Train loss:  0.5875791\n"
          ],
          "name": "stdout"
        },
        {
          "output_type": "stream",
          "text": [
            "100%|██████████| 13/13 [00:05<00:00,  2.59it/s]\n",
            "  0%|          | 0/13 [00:00<?, ?it/s]"
          ],
          "name": "stderr"
        },
        {
          "output_type": "stream",
          "text": [
            "Epoch:  4\n",
            "Train loss:  0.5437383\n"
          ],
          "name": "stdout"
        },
        {
          "output_type": "stream",
          "text": [
            "100%|██████████| 13/13 [00:04<00:00,  2.65it/s]\n",
            "  0%|          | 0/2 [00:00<?, ?it/s]"
          ],
          "name": "stderr"
        },
        {
          "output_type": "stream",
          "text": [
            "Epoch:  5\n",
            "Train loss:  0.5859192\n"
          ],
          "name": "stdout"
        },
        {
          "output_type": "stream",
          "text": [
            "100%|██████████| 2/2 [00:00<00:00,  4.16it/s]\n",
            "  0%|          | 0/13 [00:00<?, ?it/s]"
          ],
          "name": "stderr"
        },
        {
          "output_type": "stream",
          "text": [
            "Epoch:  5\n",
            "Valid loss:  0.564883\n"
          ],
          "name": "stdout"
        },
        {
          "output_type": "stream",
          "text": [
            "100%|██████████| 13/13 [00:04<00:00,  2.67it/s]\n",
            "  0%|          | 0/13 [00:00<?, ?it/s]"
          ],
          "name": "stderr"
        },
        {
          "output_type": "stream",
          "text": [
            "Epoch:  6\n",
            "Train loss:  0.52016455\n"
          ],
          "name": "stdout"
        },
        {
          "output_type": "stream",
          "text": [
            "100%|██████████| 13/13 [00:05<00:00,  2.52it/s]\n",
            "  0%|          | 0/13 [00:00<?, ?it/s]"
          ],
          "name": "stderr"
        },
        {
          "output_type": "stream",
          "text": [
            "Epoch:  7\n",
            "Train loss:  0.5735066\n"
          ],
          "name": "stdout"
        },
        {
          "output_type": "stream",
          "text": [
            "100%|██████████| 13/13 [00:04<00:00,  2.69it/s]\n",
            "  0%|          | 0/13 [00:00<?, ?it/s]"
          ],
          "name": "stderr"
        },
        {
          "output_type": "stream",
          "text": [
            "Epoch:  8\n",
            "Train loss:  0.5207287\n"
          ],
          "name": "stdout"
        },
        {
          "output_type": "stream",
          "text": [
            "100%|██████████| 13/13 [00:05<00:00,  2.58it/s]\n",
            "  0%|          | 0/13 [00:00<?, ?it/s]"
          ],
          "name": "stderr"
        },
        {
          "output_type": "stream",
          "text": [
            "Epoch:  9\n",
            "Train loss:  0.48104447\n"
          ],
          "name": "stdout"
        },
        {
          "output_type": "stream",
          "text": [
            "100%|██████████| 13/13 [00:05<00:00,  2.59it/s]\n",
            "  0%|          | 0/2 [00:00<?, ?it/s]"
          ],
          "name": "stderr"
        },
        {
          "output_type": "stream",
          "text": [
            "Epoch:  10\n",
            "Train loss:  0.5179772\n"
          ],
          "name": "stdout"
        },
        {
          "output_type": "stream",
          "text": [
            "100%|██████████| 2/2 [00:00<00:00,  4.28it/s]\n",
            "  0%|          | 0/13 [00:00<?, ?it/s]"
          ],
          "name": "stderr"
        },
        {
          "output_type": "stream",
          "text": [
            "Epoch:  10\n",
            "Valid loss:  0.49231172\n"
          ],
          "name": "stdout"
        },
        {
          "output_type": "stream",
          "text": [
            "100%|██████████| 13/13 [00:04<00:00,  2.65it/s]\n",
            "  0%|          | 0/13 [00:00<?, ?it/s]"
          ],
          "name": "stderr"
        },
        {
          "output_type": "stream",
          "text": [
            "Epoch:  11\n",
            "Train loss:  0.49661586\n"
          ],
          "name": "stdout"
        },
        {
          "output_type": "stream",
          "text": [
            "100%|██████████| 13/13 [00:04<00:00,  2.63it/s]\n",
            "  0%|          | 0/13 [00:00<?, ?it/s]"
          ],
          "name": "stderr"
        },
        {
          "output_type": "stream",
          "text": [
            "Epoch:  12\n",
            "Train loss:  0.5243312\n"
          ],
          "name": "stdout"
        },
        {
          "output_type": "stream",
          "text": [
            "100%|██████████| 13/13 [00:04<00:00,  2.65it/s]\n",
            "  0%|          | 0/13 [00:00<?, ?it/s]"
          ],
          "name": "stderr"
        },
        {
          "output_type": "stream",
          "text": [
            "Epoch:  13\n",
            "Train loss:  0.46808845\n"
          ],
          "name": "stdout"
        },
        {
          "output_type": "stream",
          "text": [
            "100%|██████████| 13/13 [00:04<00:00,  2.63it/s]\n",
            "  0%|          | 0/13 [00:00<?, ?it/s]"
          ],
          "name": "stderr"
        },
        {
          "output_type": "stream",
          "text": [
            "Epoch:  14\n",
            "Train loss:  0.50613374\n"
          ],
          "name": "stdout"
        },
        {
          "output_type": "stream",
          "text": [
            "100%|██████████| 13/13 [00:05<00:00,  2.59it/s]\n",
            "  0%|          | 0/2 [00:00<?, ?it/s]"
          ],
          "name": "stderr"
        },
        {
          "output_type": "stream",
          "text": [
            "Epoch:  15\n",
            "Train loss:  0.45295814\n"
          ],
          "name": "stdout"
        },
        {
          "output_type": "stream",
          "text": [
            "100%|██████████| 2/2 [00:00<00:00,  4.30it/s]\n",
            "  0%|          | 0/13 [00:00<?, ?it/s]"
          ],
          "name": "stderr"
        },
        {
          "output_type": "stream",
          "text": [
            "Epoch:  15\n",
            "Valid loss:  0.5493466\n"
          ],
          "name": "stdout"
        },
        {
          "output_type": "stream",
          "text": [
            "100%|██████████| 13/13 [00:04<00:00,  2.60it/s]\n",
            "  0%|          | 0/13 [00:00<?, ?it/s]"
          ],
          "name": "stderr"
        },
        {
          "output_type": "stream",
          "text": [
            "Epoch:  16\n",
            "Train loss:  0.4931107\n"
          ],
          "name": "stdout"
        },
        {
          "output_type": "stream",
          "text": [
            "100%|██████████| 13/13 [00:04<00:00,  2.63it/s]\n",
            "  0%|          | 0/13 [00:00<?, ?it/s]"
          ],
          "name": "stderr"
        },
        {
          "output_type": "stream",
          "text": [
            "Epoch:  17\n",
            "Train loss:  0.514284\n"
          ],
          "name": "stdout"
        },
        {
          "output_type": "stream",
          "text": [
            "100%|██████████| 13/13 [00:04<00:00,  2.66it/s]\n",
            "  0%|          | 0/13 [00:00<?, ?it/s]"
          ],
          "name": "stderr"
        },
        {
          "output_type": "stream",
          "text": [
            "Epoch:  18\n",
            "Train loss:  0.46875134\n"
          ],
          "name": "stdout"
        },
        {
          "output_type": "stream",
          "text": [
            "100%|██████████| 13/13 [00:04<00:00,  2.66it/s]\n",
            "  0%|          | 0/13 [00:00<?, ?it/s]"
          ],
          "name": "stderr"
        },
        {
          "output_type": "stream",
          "text": [
            "Epoch:  19\n",
            "Train loss:  0.55458695\n"
          ],
          "name": "stdout"
        },
        {
          "output_type": "stream",
          "text": [
            "100%|██████████| 13/13 [00:04<00:00,  2.63it/s]\n",
            "  0%|          | 0/2 [00:00<?, ?it/s]"
          ],
          "name": "stderr"
        },
        {
          "output_type": "stream",
          "text": [
            "Epoch:  20\n",
            "Train loss:  0.42577562\n"
          ],
          "name": "stdout"
        },
        {
          "output_type": "stream",
          "text": [
            "100%|██████████| 2/2 [00:00<00:00,  4.20it/s]\n",
            "  0%|          | 0/13 [00:00<?, ?it/s]"
          ],
          "name": "stderr"
        },
        {
          "output_type": "stream",
          "text": [
            "Epoch:  20\n",
            "Valid loss:  0.55669796\n"
          ],
          "name": "stdout"
        },
        {
          "output_type": "stream",
          "text": [
            "100%|██████████| 13/13 [00:04<00:00,  2.64it/s]\n",
            "  0%|          | 0/13 [00:00<?, ?it/s]"
          ],
          "name": "stderr"
        },
        {
          "output_type": "stream",
          "text": [
            "Epoch:  21\n",
            "Train loss:  0.4668439\n"
          ],
          "name": "stdout"
        },
        {
          "output_type": "stream",
          "text": [
            "100%|██████████| 13/13 [00:04<00:00,  2.67it/s]\n",
            "  0%|          | 0/13 [00:00<?, ?it/s]"
          ],
          "name": "stderr"
        },
        {
          "output_type": "stream",
          "text": [
            "Epoch:  22\n",
            "Train loss:  0.40202487\n"
          ],
          "name": "stdout"
        },
        {
          "output_type": "stream",
          "text": [
            "100%|██████████| 13/13 [00:05<00:00,  2.50it/s]\n",
            "  0%|          | 0/13 [00:00<?, ?it/s]"
          ],
          "name": "stderr"
        },
        {
          "output_type": "stream",
          "text": [
            "Epoch:  23\n",
            "Train loss:  0.356152\n"
          ],
          "name": "stdout"
        },
        {
          "output_type": "stream",
          "text": [
            "100%|██████████| 13/13 [00:04<00:00,  2.66it/s]\n",
            "  0%|          | 0/13 [00:00<?, ?it/s]"
          ],
          "name": "stderr"
        },
        {
          "output_type": "stream",
          "text": [
            "Epoch:  24\n",
            "Train loss:  0.5502044\n"
          ],
          "name": "stdout"
        },
        {
          "output_type": "stream",
          "text": [
            "100%|██████████| 13/13 [00:04<00:00,  2.68it/s]\n",
            "  0%|          | 0/2 [00:00<?, ?it/s]"
          ],
          "name": "stderr"
        },
        {
          "output_type": "stream",
          "text": [
            "Epoch:  25\n",
            "Train loss:  0.46175668\n"
          ],
          "name": "stdout"
        },
        {
          "output_type": "stream",
          "text": [
            "100%|██████████| 2/2 [00:00<00:00,  3.91it/s]\n",
            "  0%|          | 0/13 [00:00<?, ?it/s]"
          ],
          "name": "stderr"
        },
        {
          "output_type": "stream",
          "text": [
            "Epoch:  25\n",
            "Valid loss:  0.46248484\n"
          ],
          "name": "stdout"
        },
        {
          "output_type": "stream",
          "text": [
            "100%|██████████| 13/13 [00:04<00:00,  2.62it/s]\n",
            "  0%|          | 0/13 [00:00<?, ?it/s]"
          ],
          "name": "stderr"
        },
        {
          "output_type": "stream",
          "text": [
            "Epoch:  26\n",
            "Train loss:  0.4671049\n"
          ],
          "name": "stdout"
        },
        {
          "output_type": "stream",
          "text": [
            "100%|██████████| 13/13 [00:04<00:00,  2.73it/s]\n",
            "  0%|          | 0/13 [00:00<?, ?it/s]"
          ],
          "name": "stderr"
        },
        {
          "output_type": "stream",
          "text": [
            "Epoch:  27\n",
            "Train loss:  0.49553937\n"
          ],
          "name": "stdout"
        },
        {
          "output_type": "stream",
          "text": [
            "100%|██████████| 13/13 [00:04<00:00,  2.72it/s]\n",
            "  0%|          | 0/13 [00:00<?, ?it/s]"
          ],
          "name": "stderr"
        },
        {
          "output_type": "stream",
          "text": [
            "Epoch:  28\n",
            "Train loss:  0.43440706\n"
          ],
          "name": "stdout"
        },
        {
          "output_type": "stream",
          "text": [
            "100%|██████████| 13/13 [00:04<00:00,  2.60it/s]\n",
            "  0%|          | 0/13 [00:00<?, ?it/s]"
          ],
          "name": "stderr"
        },
        {
          "output_type": "stream",
          "text": [
            "Epoch:  29\n",
            "Train loss:  0.35336912\n"
          ],
          "name": "stdout"
        },
        {
          "output_type": "stream",
          "text": [
            "100%|██████████| 13/13 [00:04<00:00,  2.72it/s]\n",
            "  0%|          | 0/2 [00:00<?, ?it/s]"
          ],
          "name": "stderr"
        },
        {
          "output_type": "stream",
          "text": [
            "Epoch:  30\n",
            "Train loss:  0.5253727\n"
          ],
          "name": "stdout"
        },
        {
          "output_type": "stream",
          "text": [
            "100%|██████████| 2/2 [00:00<00:00,  4.31it/s]\n",
            "  0%|          | 0/13 [00:00<?, ?it/s]"
          ],
          "name": "stderr"
        },
        {
          "output_type": "stream",
          "text": [
            "Epoch:  30\n",
            "Valid loss:  0.42795295\n"
          ],
          "name": "stdout"
        },
        {
          "output_type": "stream",
          "text": [
            "100%|██████████| 13/13 [00:04<00:00,  2.73it/s]\n",
            "  0%|          | 0/13 [00:00<?, ?it/s]"
          ],
          "name": "stderr"
        },
        {
          "output_type": "stream",
          "text": [
            "Epoch:  31\n",
            "Train loss:  0.47510242\n"
          ],
          "name": "stdout"
        },
        {
          "output_type": "stream",
          "text": [
            "100%|██████████| 13/13 [00:05<00:00,  2.60it/s]\n",
            "  0%|          | 0/13 [00:00<?, ?it/s]"
          ],
          "name": "stderr"
        },
        {
          "output_type": "stream",
          "text": [
            "Epoch:  32\n",
            "Train loss:  0.47387755\n"
          ],
          "name": "stdout"
        },
        {
          "output_type": "stream",
          "text": [
            "100%|██████████| 13/13 [00:04<00:00,  2.80it/s]\n",
            "  0%|          | 0/13 [00:00<?, ?it/s]"
          ],
          "name": "stderr"
        },
        {
          "output_type": "stream",
          "text": [
            "Epoch:  33\n",
            "Train loss:  0.54049134\n"
          ],
          "name": "stdout"
        },
        {
          "output_type": "stream",
          "text": [
            "100%|██████████| 13/13 [00:04<00:00,  2.83it/s]\n",
            "  0%|          | 0/13 [00:00<?, ?it/s]"
          ],
          "name": "stderr"
        },
        {
          "output_type": "stream",
          "text": [
            "Epoch:  34\n",
            "Train loss:  0.37957332\n"
          ],
          "name": "stdout"
        },
        {
          "output_type": "stream",
          "text": [
            "100%|██████████| 13/13 [00:04<00:00,  2.83it/s]\n",
            "  0%|          | 0/2 [00:00<?, ?it/s]"
          ],
          "name": "stderr"
        },
        {
          "output_type": "stream",
          "text": [
            "Epoch:  35\n",
            "Train loss:  0.3953494\n"
          ],
          "name": "stdout"
        },
        {
          "output_type": "stream",
          "text": [
            "100%|██████████| 2/2 [00:00<00:00,  4.53it/s]\n",
            "  0%|          | 0/13 [00:00<?, ?it/s]"
          ],
          "name": "stderr"
        },
        {
          "output_type": "stream",
          "text": [
            "Epoch:  35\n",
            "Valid loss:  0.6206515\n"
          ],
          "name": "stdout"
        },
        {
          "output_type": "stream",
          "text": [
            "100%|██████████| 13/13 [00:04<00:00,  2.90it/s]\n",
            "  0%|          | 0/13 [00:00<?, ?it/s]"
          ],
          "name": "stderr"
        },
        {
          "output_type": "stream",
          "text": [
            "Epoch:  36\n",
            "Train loss:  0.43799716\n"
          ],
          "name": "stdout"
        },
        {
          "output_type": "stream",
          "text": [
            "100%|██████████| 13/13 [00:04<00:00,  2.83it/s]\n",
            "  0%|          | 0/13 [00:00<?, ?it/s]"
          ],
          "name": "stderr"
        },
        {
          "output_type": "stream",
          "text": [
            "Epoch:  37\n",
            "Train loss:  0.4862161\n"
          ],
          "name": "stdout"
        },
        {
          "output_type": "stream",
          "text": [
            "100%|██████████| 13/13 [00:04<00:00,  2.82it/s]\n",
            "  0%|          | 0/13 [00:00<?, ?it/s]"
          ],
          "name": "stderr"
        },
        {
          "output_type": "stream",
          "text": [
            "Epoch:  38\n",
            "Train loss:  0.7075707\n"
          ],
          "name": "stdout"
        },
        {
          "output_type": "stream",
          "text": [
            "100%|██████████| 13/13 [00:04<00:00,  2.72it/s]\n",
            "  0%|          | 0/13 [00:00<?, ?it/s]"
          ],
          "name": "stderr"
        },
        {
          "output_type": "stream",
          "text": [
            "Epoch:  39\n",
            "Train loss:  0.4841541\n"
          ],
          "name": "stdout"
        },
        {
          "output_type": "stream",
          "text": [
            "100%|██████████| 13/13 [00:04<00:00,  2.76it/s]\n",
            "  0%|          | 0/2 [00:00<?, ?it/s]"
          ],
          "name": "stderr"
        },
        {
          "output_type": "stream",
          "text": [
            "Epoch:  40\n",
            "Train loss:  0.46422103\n"
          ],
          "name": "stdout"
        },
        {
          "output_type": "stream",
          "text": [
            "100%|██████████| 2/2 [00:00<00:00,  4.40it/s]\n",
            "  0%|          | 0/13 [00:00<?, ?it/s]"
          ],
          "name": "stderr"
        },
        {
          "output_type": "stream",
          "text": [
            "Epoch:  40\n",
            "Valid loss:  0.49303558\n"
          ],
          "name": "stdout"
        },
        {
          "output_type": "stream",
          "text": [
            "100%|██████████| 13/13 [00:04<00:00,  2.84it/s]\n",
            "  0%|          | 0/13 [00:00<?, ?it/s]"
          ],
          "name": "stderr"
        },
        {
          "output_type": "stream",
          "text": [
            "Epoch:  41\n",
            "Train loss:  0.4505806\n"
          ],
          "name": "stdout"
        },
        {
          "output_type": "stream",
          "text": [
            "100%|██████████| 13/13 [00:04<00:00,  2.78it/s]\n",
            "  0%|          | 0/13 [00:00<?, ?it/s]"
          ],
          "name": "stderr"
        },
        {
          "output_type": "stream",
          "text": [
            "Epoch:  42\n",
            "Train loss:  0.45307294\n"
          ],
          "name": "stdout"
        },
        {
          "output_type": "stream",
          "text": [
            "100%|██████████| 13/13 [00:04<00:00,  2.78it/s]\n",
            "  0%|          | 0/13 [00:00<?, ?it/s]"
          ],
          "name": "stderr"
        },
        {
          "output_type": "stream",
          "text": [
            "Epoch:  43\n",
            "Train loss:  0.5313933\n"
          ],
          "name": "stdout"
        },
        {
          "output_type": "stream",
          "text": [
            "100%|██████████| 13/13 [00:04<00:00,  2.77it/s]\n",
            "  0%|          | 0/13 [00:00<?, ?it/s]"
          ],
          "name": "stderr"
        },
        {
          "output_type": "stream",
          "text": [
            "Epoch:  44\n",
            "Train loss:  0.52154404\n"
          ],
          "name": "stdout"
        },
        {
          "output_type": "stream",
          "text": [
            "100%|██████████| 13/13 [00:04<00:00,  2.74it/s]\n",
            "  0%|          | 0/2 [00:00<?, ?it/s]"
          ],
          "name": "stderr"
        },
        {
          "output_type": "stream",
          "text": [
            "Epoch:  45\n",
            "Train loss:  0.43360373\n"
          ],
          "name": "stdout"
        },
        {
          "output_type": "stream",
          "text": [
            "100%|██████████| 2/2 [00:00<00:00,  4.26it/s]\n",
            "  0%|          | 0/13 [00:00<?, ?it/s]"
          ],
          "name": "stderr"
        },
        {
          "output_type": "stream",
          "text": [
            "Epoch:  45\n",
            "Valid loss:  0.47014654\n"
          ],
          "name": "stdout"
        },
        {
          "output_type": "stream",
          "text": [
            "100%|██████████| 13/13 [00:04<00:00,  2.85it/s]\n",
            "  0%|          | 0/13 [00:00<?, ?it/s]"
          ],
          "name": "stderr"
        },
        {
          "output_type": "stream",
          "text": [
            "Epoch:  46\n",
            "Train loss:  0.41403168\n"
          ],
          "name": "stdout"
        },
        {
          "output_type": "stream",
          "text": [
            "100%|██████████| 13/13 [00:04<00:00,  2.80it/s]\n",
            "  0%|          | 0/13 [00:00<?, ?it/s]"
          ],
          "name": "stderr"
        },
        {
          "output_type": "stream",
          "text": [
            "Epoch:  47\n",
            "Train loss:  0.33098367\n"
          ],
          "name": "stdout"
        },
        {
          "output_type": "stream",
          "text": [
            "100%|██████████| 13/13 [00:04<00:00,  2.79it/s]\n",
            "  0%|          | 0/13 [00:00<?, ?it/s]"
          ],
          "name": "stderr"
        },
        {
          "output_type": "stream",
          "text": [
            "Epoch:  48\n",
            "Train loss:  0.4502038\n"
          ],
          "name": "stdout"
        },
        {
          "output_type": "stream",
          "text": [
            "100%|██████████| 13/13 [00:04<00:00,  2.81it/s]\n",
            "  0%|          | 0/13 [00:00<?, ?it/s]"
          ],
          "name": "stderr"
        },
        {
          "output_type": "stream",
          "text": [
            "Epoch:  49\n",
            "Train loss:  0.46290445\n"
          ],
          "name": "stdout"
        },
        {
          "output_type": "stream",
          "text": [
            "100%|██████████| 13/13 [00:04<00:00,  2.83it/s]\n",
            "  0%|          | 0/2 [00:00<?, ?it/s]"
          ],
          "name": "stderr"
        },
        {
          "output_type": "stream",
          "text": [
            "Epoch:  50\n",
            "Train loss:  0.55726624\n"
          ],
          "name": "stdout"
        },
        {
          "output_type": "stream",
          "text": [
            "100%|██████████| 2/2 [00:00<00:00,  4.44it/s]\n",
            "  0%|          | 0/13 [00:00<?, ?it/s]"
          ],
          "name": "stderr"
        },
        {
          "output_type": "stream",
          "text": [
            "Epoch:  50\n",
            "Valid loss:  0.48616663\n"
          ],
          "name": "stdout"
        },
        {
          "output_type": "stream",
          "text": [
            "100%|██████████| 13/13 [00:04<00:00,  2.78it/s]\n",
            "  0%|          | 0/13 [00:00<?, ?it/s]"
          ],
          "name": "stderr"
        },
        {
          "output_type": "stream",
          "text": [
            "Epoch:  51\n",
            "Train loss:  0.46893212\n"
          ],
          "name": "stdout"
        },
        {
          "output_type": "stream",
          "text": [
            "100%|██████████| 13/13 [00:04<00:00,  2.86it/s]\n",
            "  0%|          | 0/13 [00:00<?, ?it/s]"
          ],
          "name": "stderr"
        },
        {
          "output_type": "stream",
          "text": [
            "Epoch:  52\n",
            "Train loss:  0.4829978\n"
          ],
          "name": "stdout"
        },
        {
          "output_type": "stream",
          "text": [
            "100%|██████████| 13/13 [00:04<00:00,  2.89it/s]\n",
            "  0%|          | 0/13 [00:00<?, ?it/s]"
          ],
          "name": "stderr"
        },
        {
          "output_type": "stream",
          "text": [
            "Epoch:  53\n",
            "Train loss:  0.4676755\n"
          ],
          "name": "stdout"
        },
        {
          "output_type": "stream",
          "text": [
            "100%|██████████| 13/13 [00:04<00:00,  2.85it/s]\n",
            "  0%|          | 0/13 [00:00<?, ?it/s]"
          ],
          "name": "stderr"
        },
        {
          "output_type": "stream",
          "text": [
            "Epoch:  54\n",
            "Train loss:  0.5060866\n"
          ],
          "name": "stdout"
        },
        {
          "output_type": "stream",
          "text": [
            "100%|██████████| 13/13 [00:04<00:00,  2.79it/s]\n",
            "  0%|          | 0/2 [00:00<?, ?it/s]"
          ],
          "name": "stderr"
        },
        {
          "output_type": "stream",
          "text": [
            "Epoch:  55\n",
            "Train loss:  0.44853383\n"
          ],
          "name": "stdout"
        },
        {
          "output_type": "stream",
          "text": [
            "100%|██████████| 2/2 [00:00<00:00,  4.16it/s]\n",
            "  0%|          | 0/13 [00:00<?, ?it/s]"
          ],
          "name": "stderr"
        },
        {
          "output_type": "stream",
          "text": [
            "Epoch:  55\n",
            "Valid loss:  0.5631292\n"
          ],
          "name": "stdout"
        },
        {
          "output_type": "stream",
          "text": [
            "100%|██████████| 13/13 [00:04<00:00,  2.81it/s]\n",
            "  0%|          | 0/13 [00:00<?, ?it/s]"
          ],
          "name": "stderr"
        },
        {
          "output_type": "stream",
          "text": [
            "Epoch:  56\n",
            "Train loss:  0.38290456\n"
          ],
          "name": "stdout"
        },
        {
          "output_type": "stream",
          "text": [
            "100%|██████████| 13/13 [00:04<00:00,  2.82it/s]\n",
            "  0%|          | 0/13 [00:00<?, ?it/s]"
          ],
          "name": "stderr"
        },
        {
          "output_type": "stream",
          "text": [
            "Epoch:  57\n",
            "Train loss:  0.43282127\n"
          ],
          "name": "stdout"
        },
        {
          "output_type": "stream",
          "text": [
            "100%|██████████| 13/13 [00:04<00:00,  2.81it/s]\n",
            "  0%|          | 0/13 [00:00<?, ?it/s]"
          ],
          "name": "stderr"
        },
        {
          "output_type": "stream",
          "text": [
            "Epoch:  58\n",
            "Train loss:  0.5453715\n"
          ],
          "name": "stdout"
        },
        {
          "output_type": "stream",
          "text": [
            "100%|██████████| 13/13 [00:04<00:00,  2.88it/s]\n",
            "  0%|          | 0/13 [00:00<?, ?it/s]"
          ],
          "name": "stderr"
        },
        {
          "output_type": "stream",
          "text": [
            "Epoch:  59\n",
            "Train loss:  0.37613288\n"
          ],
          "name": "stdout"
        },
        {
          "output_type": "stream",
          "text": [
            "100%|██████████| 13/13 [00:04<00:00,  2.76it/s]\n",
            "  0%|          | 0/2 [00:00<?, ?it/s]"
          ],
          "name": "stderr"
        },
        {
          "output_type": "stream",
          "text": [
            "Epoch:  60\n",
            "Train loss:  0.47585487\n"
          ],
          "name": "stdout"
        },
        {
          "output_type": "stream",
          "text": [
            "100%|██████████| 2/2 [00:00<00:00,  4.19it/s]\n",
            "  0%|          | 0/13 [00:00<?, ?it/s]"
          ],
          "name": "stderr"
        },
        {
          "output_type": "stream",
          "text": [
            "Epoch:  60\n",
            "Valid loss:  0.4943731\n"
          ],
          "name": "stdout"
        },
        {
          "output_type": "stream",
          "text": [
            "100%|██████████| 13/13 [00:04<00:00,  2.69it/s]\n",
            "  0%|          | 0/13 [00:00<?, ?it/s]"
          ],
          "name": "stderr"
        },
        {
          "output_type": "stream",
          "text": [
            "Epoch:  61\n",
            "Train loss:  0.43011558\n"
          ],
          "name": "stdout"
        },
        {
          "output_type": "stream",
          "text": [
            "100%|██████████| 13/13 [00:04<00:00,  2.75it/s]\n",
            "  0%|          | 0/13 [00:00<?, ?it/s]"
          ],
          "name": "stderr"
        },
        {
          "output_type": "stream",
          "text": [
            "Epoch:  62\n",
            "Train loss:  0.5103812\n"
          ],
          "name": "stdout"
        },
        {
          "output_type": "stream",
          "text": [
            "100%|██████████| 13/13 [00:04<00:00,  2.91it/s]\n",
            "  0%|          | 0/13 [00:00<?, ?it/s]"
          ],
          "name": "stderr"
        },
        {
          "output_type": "stream",
          "text": [
            "Epoch:  63\n",
            "Train loss:  0.44294435\n"
          ],
          "name": "stdout"
        },
        {
          "output_type": "stream",
          "text": [
            "100%|██████████| 13/13 [00:04<00:00,  2.87it/s]\n",
            "  0%|          | 0/13 [00:00<?, ?it/s]"
          ],
          "name": "stderr"
        },
        {
          "output_type": "stream",
          "text": [
            "Epoch:  64\n",
            "Train loss:  0.37810746\n"
          ],
          "name": "stdout"
        },
        {
          "output_type": "stream",
          "text": [
            "100%|██████████| 13/13 [00:04<00:00,  2.73it/s]\n",
            "  0%|          | 0/2 [00:00<?, ?it/s]"
          ],
          "name": "stderr"
        },
        {
          "output_type": "stream",
          "text": [
            "Epoch:  65\n",
            "Train loss:  0.46406394\n"
          ],
          "name": "stdout"
        },
        {
          "output_type": "stream",
          "text": [
            "100%|██████████| 2/2 [00:00<00:00,  4.50it/s]\n",
            "  0%|          | 0/13 [00:00<?, ?it/s]"
          ],
          "name": "stderr"
        },
        {
          "output_type": "stream",
          "text": [
            "Epoch:  65\n",
            "Valid loss:  0.53170377\n"
          ],
          "name": "stdout"
        },
        {
          "output_type": "stream",
          "text": [
            "100%|██████████| 13/13 [00:04<00:00,  2.89it/s]\n",
            "  0%|          | 0/13 [00:00<?, ?it/s]"
          ],
          "name": "stderr"
        },
        {
          "output_type": "stream",
          "text": [
            "Epoch:  66\n",
            "Train loss:  0.57691926\n"
          ],
          "name": "stdout"
        },
        {
          "output_type": "stream",
          "text": [
            "100%|██████████| 13/13 [00:04<00:00,  2.85it/s]\n",
            "  0%|          | 0/13 [00:00<?, ?it/s]"
          ],
          "name": "stderr"
        },
        {
          "output_type": "stream",
          "text": [
            "Epoch:  67\n",
            "Train loss:  0.45774382\n"
          ],
          "name": "stdout"
        },
        {
          "output_type": "stream",
          "text": [
            "100%|██████████| 13/13 [00:04<00:00,  2.80it/s]\n",
            "  0%|          | 0/13 [00:00<?, ?it/s]"
          ],
          "name": "stderr"
        },
        {
          "output_type": "stream",
          "text": [
            "Epoch:  68\n",
            "Train loss:  0.49022245\n"
          ],
          "name": "stdout"
        },
        {
          "output_type": "stream",
          "text": [
            "100%|██████████| 13/13 [00:04<00:00,  2.87it/s]\n",
            "  0%|          | 0/13 [00:00<?, ?it/s]"
          ],
          "name": "stderr"
        },
        {
          "output_type": "stream",
          "text": [
            "Epoch:  69\n",
            "Train loss:  0.4381162\n"
          ],
          "name": "stdout"
        },
        {
          "output_type": "stream",
          "text": [
            "100%|██████████| 13/13 [00:04<00:00,  2.87it/s]\n",
            "  0%|          | 0/2 [00:00<?, ?it/s]"
          ],
          "name": "stderr"
        },
        {
          "output_type": "stream",
          "text": [
            "Epoch:  70\n",
            "Train loss:  0.37378553\n"
          ],
          "name": "stdout"
        },
        {
          "output_type": "stream",
          "text": [
            "100%|██████████| 2/2 [00:00<00:00,  4.61it/s]\n",
            "  0%|          | 0/13 [00:00<?, ?it/s]"
          ],
          "name": "stderr"
        },
        {
          "output_type": "stream",
          "text": [
            "Epoch:  70\n",
            "Valid loss:  0.58164394\n"
          ],
          "name": "stdout"
        },
        {
          "output_type": "stream",
          "text": [
            "100%|██████████| 13/13 [00:04<00:00,  2.86it/s]\n",
            "  0%|          | 0/13 [00:00<?, ?it/s]"
          ],
          "name": "stderr"
        },
        {
          "output_type": "stream",
          "text": [
            "Epoch:  71\n",
            "Train loss:  0.47497442\n"
          ],
          "name": "stdout"
        },
        {
          "output_type": "stream",
          "text": [
            "100%|██████████| 13/13 [00:04<00:00,  2.85it/s]\n",
            "  0%|          | 0/13 [00:00<?, ?it/s]"
          ],
          "name": "stderr"
        },
        {
          "output_type": "stream",
          "text": [
            "Epoch:  72\n",
            "Train loss:  0.45432237\n"
          ],
          "name": "stdout"
        },
        {
          "output_type": "stream",
          "text": [
            "100%|██████████| 13/13 [00:04<00:00,  2.82it/s]\n",
            "  0%|          | 0/13 [00:00<?, ?it/s]"
          ],
          "name": "stderr"
        },
        {
          "output_type": "stream",
          "text": [
            "Epoch:  73\n",
            "Train loss:  0.4472868\n"
          ],
          "name": "stdout"
        },
        {
          "output_type": "stream",
          "text": [
            "100%|██████████| 13/13 [00:04<00:00,  2.81it/s]\n",
            "  0%|          | 0/13 [00:00<?, ?it/s]"
          ],
          "name": "stderr"
        },
        {
          "output_type": "stream",
          "text": [
            "Epoch:  74\n",
            "Train loss:  0.4004569\n"
          ],
          "name": "stdout"
        },
        {
          "output_type": "stream",
          "text": [
            "100%|██████████| 13/13 [00:04<00:00,  2.82it/s]\n",
            "  0%|          | 0/2 [00:00<?, ?it/s]"
          ],
          "name": "stderr"
        },
        {
          "output_type": "stream",
          "text": [
            "Epoch:  75\n",
            "Train loss:  0.51685005\n"
          ],
          "name": "stdout"
        },
        {
          "output_type": "stream",
          "text": [
            "100%|██████████| 2/2 [00:00<00:00,  4.24it/s]\n",
            "  0%|          | 0/13 [00:00<?, ?it/s]"
          ],
          "name": "stderr"
        },
        {
          "output_type": "stream",
          "text": [
            "Epoch:  75\n",
            "Valid loss:  0.50128156\n"
          ],
          "name": "stdout"
        },
        {
          "output_type": "stream",
          "text": [
            "100%|██████████| 13/13 [00:04<00:00,  2.83it/s]\n",
            "  0%|          | 0/13 [00:00<?, ?it/s]"
          ],
          "name": "stderr"
        },
        {
          "output_type": "stream",
          "text": [
            "Epoch:  76\n",
            "Train loss:  0.44864738\n"
          ],
          "name": "stdout"
        },
        {
          "output_type": "stream",
          "text": [
            "100%|██████████| 13/13 [00:04<00:00,  2.90it/s]\n",
            "  0%|          | 0/13 [00:00<?, ?it/s]"
          ],
          "name": "stderr"
        },
        {
          "output_type": "stream",
          "text": [
            "Epoch:  77\n",
            "Train loss:  0.38355294\n"
          ],
          "name": "stdout"
        },
        {
          "output_type": "stream",
          "text": [
            "100%|██████████| 13/13 [00:04<00:00,  2.87it/s]\n",
            "  0%|          | 0/13 [00:00<?, ?it/s]"
          ],
          "name": "stderr"
        },
        {
          "output_type": "stream",
          "text": [
            "Epoch:  78\n",
            "Train loss:  0.5223564\n"
          ],
          "name": "stdout"
        },
        {
          "output_type": "stream",
          "text": [
            "100%|██████████| 13/13 [00:04<00:00,  2.91it/s]\n",
            "  0%|          | 0/13 [00:00<?, ?it/s]"
          ],
          "name": "stderr"
        },
        {
          "output_type": "stream",
          "text": [
            "Epoch:  79\n",
            "Train loss:  0.4185521\n"
          ],
          "name": "stdout"
        },
        {
          "output_type": "stream",
          "text": [
            "100%|██████████| 13/13 [00:04<00:00,  2.93it/s]\n",
            "  0%|          | 0/2 [00:00<?, ?it/s]"
          ],
          "name": "stderr"
        },
        {
          "output_type": "stream",
          "text": [
            "Epoch:  80\n",
            "Train loss:  0.46172068\n"
          ],
          "name": "stdout"
        },
        {
          "output_type": "stream",
          "text": [
            "100%|██████████| 2/2 [00:00<00:00,  4.50it/s]\n",
            "  0%|          | 0/13 [00:00<?, ?it/s]"
          ],
          "name": "stderr"
        },
        {
          "output_type": "stream",
          "text": [
            "Epoch:  80\n",
            "Valid loss:  0.51472133\n"
          ],
          "name": "stdout"
        },
        {
          "output_type": "stream",
          "text": [
            "100%|██████████| 13/13 [00:04<00:00,  2.82it/s]\n",
            "  0%|          | 0/13 [00:00<?, ?it/s]"
          ],
          "name": "stderr"
        },
        {
          "output_type": "stream",
          "text": [
            "Epoch:  81\n",
            "Train loss:  0.41004008\n"
          ],
          "name": "stdout"
        },
        {
          "output_type": "stream",
          "text": [
            "100%|██████████| 13/13 [00:04<00:00,  2.79it/s]\n",
            "  0%|          | 0/13 [00:00<?, ?it/s]"
          ],
          "name": "stderr"
        },
        {
          "output_type": "stream",
          "text": [
            "Epoch:  82\n",
            "Train loss:  0.45087603\n"
          ],
          "name": "stdout"
        },
        {
          "output_type": "stream",
          "text": [
            "100%|██████████| 13/13 [00:04<00:00,  2.75it/s]\n",
            "  0%|          | 0/13 [00:00<?, ?it/s]"
          ],
          "name": "stderr"
        },
        {
          "output_type": "stream",
          "text": [
            "Epoch:  83\n",
            "Train loss:  0.4909177\n"
          ],
          "name": "stdout"
        },
        {
          "output_type": "stream",
          "text": [
            "100%|██████████| 13/13 [00:04<00:00,  2.79it/s]\n",
            "  0%|          | 0/13 [00:00<?, ?it/s]"
          ],
          "name": "stderr"
        },
        {
          "output_type": "stream",
          "text": [
            "Epoch:  84\n",
            "Train loss:  0.37230578\n"
          ],
          "name": "stdout"
        },
        {
          "output_type": "stream",
          "text": [
            "100%|██████████| 13/13 [00:04<00:00,  2.81it/s]\n",
            "  0%|          | 0/2 [00:00<?, ?it/s]"
          ],
          "name": "stderr"
        },
        {
          "output_type": "stream",
          "text": [
            "Epoch:  85\n",
            "Train loss:  0.3727928\n"
          ],
          "name": "stdout"
        },
        {
          "output_type": "stream",
          "text": [
            "100%|██████████| 2/2 [00:00<00:00,  4.21it/s]\n",
            "  0%|          | 0/13 [00:00<?, ?it/s]"
          ],
          "name": "stderr"
        },
        {
          "output_type": "stream",
          "text": [
            "Epoch:  85\n",
            "Valid loss:  0.45005167\n"
          ],
          "name": "stdout"
        },
        {
          "output_type": "stream",
          "text": [
            "100%|██████████| 13/13 [00:04<00:00,  2.80it/s]\n",
            "  0%|          | 0/13 [00:00<?, ?it/s]"
          ],
          "name": "stderr"
        },
        {
          "output_type": "stream",
          "text": [
            "Epoch:  86\n",
            "Train loss:  0.49487865\n"
          ],
          "name": "stdout"
        },
        {
          "output_type": "stream",
          "text": [
            "100%|██████████| 13/13 [00:04<00:00,  2.83it/s]\n",
            "  0%|          | 0/13 [00:00<?, ?it/s]"
          ],
          "name": "stderr"
        },
        {
          "output_type": "stream",
          "text": [
            "Epoch:  87\n",
            "Train loss:  0.35114017\n"
          ],
          "name": "stdout"
        },
        {
          "output_type": "stream",
          "text": [
            "100%|██████████| 13/13 [00:04<00:00,  2.77it/s]\n",
            "  0%|          | 0/13 [00:00<?, ?it/s]"
          ],
          "name": "stderr"
        },
        {
          "output_type": "stream",
          "text": [
            "Epoch:  88\n",
            "Train loss:  0.47283363\n"
          ],
          "name": "stdout"
        },
        {
          "output_type": "stream",
          "text": [
            "100%|██████████| 13/13 [00:04<00:00,  2.85it/s]\n",
            "  0%|          | 0/13 [00:00<?, ?it/s]"
          ],
          "name": "stderr"
        },
        {
          "output_type": "stream",
          "text": [
            "Epoch:  89\n",
            "Train loss:  0.3911402\n"
          ],
          "name": "stdout"
        },
        {
          "output_type": "stream",
          "text": [
            "100%|██████████| 13/13 [00:04<00:00,  2.80it/s]\n",
            "  0%|          | 0/2 [00:00<?, ?it/s]"
          ],
          "name": "stderr"
        },
        {
          "output_type": "stream",
          "text": [
            "Epoch:  90\n",
            "Train loss:  0.54529554\n"
          ],
          "name": "stdout"
        },
        {
          "output_type": "stream",
          "text": [
            "100%|██████████| 2/2 [00:00<00:00,  4.42it/s]\n",
            "  0%|          | 0/13 [00:00<?, ?it/s]"
          ],
          "name": "stderr"
        },
        {
          "output_type": "stream",
          "text": [
            "Epoch:  90\n",
            "Valid loss:  0.5930164\n"
          ],
          "name": "stdout"
        },
        {
          "output_type": "stream",
          "text": [
            "100%|██████████| 13/13 [00:04<00:00,  2.83it/s]\n",
            "  0%|          | 0/13 [00:00<?, ?it/s]"
          ],
          "name": "stderr"
        },
        {
          "output_type": "stream",
          "text": [
            "Epoch:  91\n",
            "Train loss:  0.3679725\n"
          ],
          "name": "stdout"
        },
        {
          "output_type": "stream",
          "text": [
            "100%|██████████| 13/13 [00:04<00:00,  2.85it/s]\n",
            "  0%|          | 0/13 [00:00<?, ?it/s]"
          ],
          "name": "stderr"
        },
        {
          "output_type": "stream",
          "text": [
            "Epoch:  92\n",
            "Train loss:  0.39436814\n"
          ],
          "name": "stdout"
        },
        {
          "output_type": "stream",
          "text": [
            "100%|██████████| 13/13 [00:04<00:00,  2.77it/s]\n",
            "  0%|          | 0/13 [00:00<?, ?it/s]"
          ],
          "name": "stderr"
        },
        {
          "output_type": "stream",
          "text": [
            "Epoch:  93\n",
            "Train loss:  0.44730866\n"
          ],
          "name": "stdout"
        },
        {
          "output_type": "stream",
          "text": [
            "100%|██████████| 13/13 [00:04<00:00,  2.62it/s]\n",
            "  0%|          | 0/13 [00:00<?, ?it/s]"
          ],
          "name": "stderr"
        },
        {
          "output_type": "stream",
          "text": [
            "Epoch:  94\n",
            "Train loss:  0.45977405\n"
          ],
          "name": "stdout"
        },
        {
          "output_type": "stream",
          "text": [
            "100%|██████████| 13/13 [00:04<00:00,  2.71it/s]\n",
            "  0%|          | 0/2 [00:00<?, ?it/s]"
          ],
          "name": "stderr"
        },
        {
          "output_type": "stream",
          "text": [
            "Epoch:  95\n",
            "Train loss:  0.30765536\n"
          ],
          "name": "stdout"
        },
        {
          "output_type": "stream",
          "text": [
            "100%|██████████| 2/2 [00:00<00:00,  4.33it/s]\n",
            "  0%|          | 0/13 [00:00<?, ?it/s]"
          ],
          "name": "stderr"
        },
        {
          "output_type": "stream",
          "text": [
            "Epoch:  95\n",
            "Valid loss:  0.48913798\n"
          ],
          "name": "stdout"
        },
        {
          "output_type": "stream",
          "text": [
            "100%|██████████| 13/13 [00:04<00:00,  2.78it/s]\n",
            "  0%|          | 0/13 [00:00<?, ?it/s]"
          ],
          "name": "stderr"
        },
        {
          "output_type": "stream",
          "text": [
            "Epoch:  96\n",
            "Train loss:  0.45022008\n"
          ],
          "name": "stdout"
        },
        {
          "output_type": "stream",
          "text": [
            "100%|██████████| 13/13 [00:04<00:00,  2.79it/s]\n",
            "  0%|          | 0/13 [00:00<?, ?it/s]"
          ],
          "name": "stderr"
        },
        {
          "output_type": "stream",
          "text": [
            "Epoch:  97\n",
            "Train loss:  0.54780596\n"
          ],
          "name": "stdout"
        },
        {
          "output_type": "stream",
          "text": [
            "100%|██████████| 13/13 [00:04<00:00,  2.81it/s]\n",
            "  0%|          | 0/13 [00:00<?, ?it/s]"
          ],
          "name": "stderr"
        },
        {
          "output_type": "stream",
          "text": [
            "Epoch:  98\n",
            "Train loss:  0.31171063\n"
          ],
          "name": "stdout"
        },
        {
          "output_type": "stream",
          "text": [
            "100%|██████████| 13/13 [00:04<00:00,  2.85it/s]"
          ],
          "name": "stderr"
        },
        {
          "output_type": "stream",
          "text": [
            "Epoch:  99\n",
            "Train loss:  0.53103834\n",
            "Done.\n"
          ],
          "name": "stdout"
        },
        {
          "output_type": "stream",
          "text": [
            "\n"
          ],
          "name": "stderr"
        }
      ]
    },
    {
      "cell_type": "code",
      "metadata": {
        "colab": {
          "base_uri": "https://localhost:8080/",
          "height": 979
        },
        "id": "Gzuakev6AzHM",
        "outputId": "21541ed2-ebef-43e9-affd-3140b62bcbb7"
      },
      "source": [
        "test_batch = next(iter(test_loader))\n",
        "with torch.no_grad():\n",
        "    test_batch.to(device)\n",
        "    pred, embed = model_gcn(test_batch.x.float(), test_batch.edge_index, test_batch.batch)\n",
        "    pred = (pred>0.5).int()\n",
        "    df = pd.DataFrame()\n",
        "    df[\"y_real\"] = test_batch.y.tolist()\n",
        "    df[\"y_pred\"] = pred.tolist()\n",
        "df.head(30)"
      ],
      "execution_count": null,
      "outputs": [
        {
          "output_type": "execute_result",
          "data": {
            "text/html": [
              "<div>\n",
              "<style scoped>\n",
              "    .dataframe tbody tr th:only-of-type {\n",
              "        vertical-align: middle;\n",
              "    }\n",
              "\n",
              "    .dataframe tbody tr th {\n",
              "        vertical-align: top;\n",
              "    }\n",
              "\n",
              "    .dataframe thead th {\n",
              "        text-align: right;\n",
              "    }\n",
              "</style>\n",
              "<table border=\"1\" class=\"dataframe\">\n",
              "  <thead>\n",
              "    <tr style=\"text-align: right;\">\n",
              "      <th></th>\n",
              "      <th>y_real</th>\n",
              "      <th>y_pred</th>\n",
              "    </tr>\n",
              "  </thead>\n",
              "  <tbody>\n",
              "    <tr>\n",
              "      <th>0</th>\n",
              "      <td>[1]</td>\n",
              "      <td>[1]</td>\n",
              "    </tr>\n",
              "    <tr>\n",
              "      <th>1</th>\n",
              "      <td>[1]</td>\n",
              "      <td>[1]</td>\n",
              "    </tr>\n",
              "    <tr>\n",
              "      <th>2</th>\n",
              "      <td>[1]</td>\n",
              "      <td>[1]</td>\n",
              "    </tr>\n",
              "    <tr>\n",
              "      <th>3</th>\n",
              "      <td>[1]</td>\n",
              "      <td>[1]</td>\n",
              "    </tr>\n",
              "    <tr>\n",
              "      <th>4</th>\n",
              "      <td>[1]</td>\n",
              "      <td>[1]</td>\n",
              "    </tr>\n",
              "    <tr>\n",
              "      <th>5</th>\n",
              "      <td>[1]</td>\n",
              "      <td>[1]</td>\n",
              "    </tr>\n",
              "    <tr>\n",
              "      <th>6</th>\n",
              "      <td>[0]</td>\n",
              "      <td>[0]</td>\n",
              "    </tr>\n",
              "    <tr>\n",
              "      <th>7</th>\n",
              "      <td>[0]</td>\n",
              "      <td>[1]</td>\n",
              "    </tr>\n",
              "    <tr>\n",
              "      <th>8</th>\n",
              "      <td>[1]</td>\n",
              "      <td>[1]</td>\n",
              "    </tr>\n",
              "    <tr>\n",
              "      <th>9</th>\n",
              "      <td>[1]</td>\n",
              "      <td>[1]</td>\n",
              "    </tr>\n",
              "    <tr>\n",
              "      <th>10</th>\n",
              "      <td>[1]</td>\n",
              "      <td>[1]</td>\n",
              "    </tr>\n",
              "    <tr>\n",
              "      <th>11</th>\n",
              "      <td>[0]</td>\n",
              "      <td>[1]</td>\n",
              "    </tr>\n",
              "    <tr>\n",
              "      <th>12</th>\n",
              "      <td>[1]</td>\n",
              "      <td>[1]</td>\n",
              "    </tr>\n",
              "    <tr>\n",
              "      <th>13</th>\n",
              "      <td>[0]</td>\n",
              "      <td>[0]</td>\n",
              "    </tr>\n",
              "    <tr>\n",
              "      <th>14</th>\n",
              "      <td>[1]</td>\n",
              "      <td>[1]</td>\n",
              "    </tr>\n",
              "    <tr>\n",
              "      <th>15</th>\n",
              "      <td>[0]</td>\n",
              "      <td>[0]</td>\n",
              "    </tr>\n",
              "    <tr>\n",
              "      <th>16</th>\n",
              "      <td>[0]</td>\n",
              "      <td>[1]</td>\n",
              "    </tr>\n",
              "    <tr>\n",
              "      <th>17</th>\n",
              "      <td>[1]</td>\n",
              "      <td>[1]</td>\n",
              "    </tr>\n",
              "    <tr>\n",
              "      <th>18</th>\n",
              "      <td>[1]</td>\n",
              "      <td>[1]</td>\n",
              "    </tr>\n",
              "    <tr>\n",
              "      <th>19</th>\n",
              "      <td>[0]</td>\n",
              "      <td>[0]</td>\n",
              "    </tr>\n",
              "    <tr>\n",
              "      <th>20</th>\n",
              "      <td>[1]</td>\n",
              "      <td>[1]</td>\n",
              "    </tr>\n",
              "    <tr>\n",
              "      <th>21</th>\n",
              "      <td>[1]</td>\n",
              "      <td>[1]</td>\n",
              "    </tr>\n",
              "    <tr>\n",
              "      <th>22</th>\n",
              "      <td>[1]</td>\n",
              "      <td>[0]</td>\n",
              "    </tr>\n",
              "    <tr>\n",
              "      <th>23</th>\n",
              "      <td>[1]</td>\n",
              "      <td>[1]</td>\n",
              "    </tr>\n",
              "    <tr>\n",
              "      <th>24</th>\n",
              "      <td>[1]</td>\n",
              "      <td>[1]</td>\n",
              "    </tr>\n",
              "    <tr>\n",
              "      <th>25</th>\n",
              "      <td>[1]</td>\n",
              "      <td>[1]</td>\n",
              "    </tr>\n",
              "    <tr>\n",
              "      <th>26</th>\n",
              "      <td>[1]</td>\n",
              "      <td>[1]</td>\n",
              "    </tr>\n",
              "    <tr>\n",
              "      <th>27</th>\n",
              "      <td>[1]</td>\n",
              "      <td>[1]</td>\n",
              "    </tr>\n",
              "    <tr>\n",
              "      <th>28</th>\n",
              "      <td>[1]</td>\n",
              "      <td>[1]</td>\n",
              "    </tr>\n",
              "    <tr>\n",
              "      <th>29</th>\n",
              "      <td>[1]</td>\n",
              "      <td>[0]</td>\n",
              "    </tr>\n",
              "  </tbody>\n",
              "</table>\n",
              "</div>"
            ],
            "text/plain": [
              "   y_real y_pred\n",
              "0     [1]    [1]\n",
              "1     [1]    [1]\n",
              "2     [1]    [1]\n",
              "3     [1]    [1]\n",
              "4     [1]    [1]\n",
              "5     [1]    [1]\n",
              "6     [0]    [0]\n",
              "7     [0]    [1]\n",
              "8     [1]    [1]\n",
              "9     [1]    [1]\n",
              "10    [1]    [1]\n",
              "11    [0]    [1]\n",
              "12    [1]    [1]\n",
              "13    [0]    [0]\n",
              "14    [1]    [1]\n",
              "15    [0]    [0]\n",
              "16    [0]    [1]\n",
              "17    [1]    [1]\n",
              "18    [1]    [1]\n",
              "19    [0]    [0]\n",
              "20    [1]    [1]\n",
              "21    [1]    [1]\n",
              "22    [1]    [0]\n",
              "23    [1]    [1]\n",
              "24    [1]    [1]\n",
              "25    [1]    [1]\n",
              "26    [1]    [1]\n",
              "27    [1]    [1]\n",
              "28    [1]    [1]\n",
              "29    [1]    [0]"
            ]
          },
          "metadata": {
            "tags": []
          },
          "execution_count": 16
        }
      ]
    },
    {
      "cell_type": "code",
      "metadata": {
        "colab": {
          "base_uri": "https://localhost:8080/",
          "height": 336
        },
        "id": "RD9G3P1nA6WU",
        "outputId": "c5c2ad17-79c0-4086-9df5-08e414164765"
      },
      "source": [
        "import seaborn as sns\n",
        "losses_float_gcn = [float(loss) for loss in losses_gcn] \n",
        "loss_indices = [i for i,l in enumerate(losses_float_gcn)] \n",
        "plt = sns.lineplot(loss_indices, losses_float_gcn)\n",
        "plt"
      ],
      "execution_count": null,
      "outputs": [
        {
          "output_type": "stream",
          "text": [
            "/usr/local/lib/python3.7/dist-packages/seaborn/_decorators.py:43: FutureWarning: Pass the following variables as keyword args: x, y. From version 0.12, the only valid positional argument will be `data`, and passing other arguments without an explicit keyword will result in an error or misinterpretation.\n",
            "  FutureWarning\n"
          ],
          "name": "stderr"
        },
        {
          "output_type": "execute_result",
          "data": {
            "text/plain": [
              "<matplotlib.axes._subplots.AxesSubplot at 0x7f1113abd950>"
            ]
          },
          "metadata": {
            "tags": []
          },
          "execution_count": 17
        },
        {
          "output_type": "display_data",
          "data": {
            "image/png": "[encoded data removed]",
            "text/plain": [
              "<Figure size 432x288 with 1 Axes>"
            ]
          },
          "metadata": {
            "tags": [],
            "needs_background": "light"
          }
        }
      ]
    },
    {
      "cell_type": "code",
      "metadata": {
        "colab": {
          "base_uri": "https://localhost:8080/",
          "height": 336
        },
        "id": "hWcuHbFrOxM5",
        "outputId": "1e13c1cb-8b38-4028-b06c-32d831aab284"
      },
      "source": [
        "losses_float_gcn_valid = [float(loss) for loss in losses_gcn_valid] \n",
        "loss_indices = [i for i,l in enumerate(losses_float_gcn_valid)] \n",
        "plt = sns.lineplot(loss_indices, losses_float_gcn_valid)\n",
        "plt"
      ],
      "execution_count": null,
      "outputs": [
        {
          "output_type": "stream",
          "text": [
            "/usr/local/lib/python3.7/dist-packages/seaborn/_decorators.py:43: FutureWarning: Pass the following variables as keyword args: x, y. From version 0.12, the only valid positional argument will be `data`, and passing other arguments without an explicit keyword will result in an error or misinterpretation.\n",
            "  FutureWarning\n"
          ],
          "name": "stderr"
        },
        {
          "output_type": "execute_result",
          "data": {
            "text/plain": [
              "<matplotlib.axes._subplots.AxesSubplot at 0x7f115b6a2410>"
            ]
          },
          "metadata": {
            "tags": []
          },
          "execution_count": 18
        },
        {
          "output_type": "display_data",
          "data": {
            "image/png": "[encoded data removed]",
            "text/plain": [
              "<Figure size 432x288 with 1 Axes>"
            ]
          },
          "metadata": {
            "tags": [],
            "needs_background": "light"
          }
        }
      ]
    },
    {
      "cell_type": "code",
      "metadata": {
        "colab": {
          "base_uri": "https://localhost:8080/",
          "height": 282
        },
        "id": "an_iX0jyHAR2",
        "outputId": "a339d948-d277-4690-e32a-e44186e09f95"
      },
      "source": [
        "from sklearn.metrics import confusion_matrix, roc_auc_score, classification_report\n",
        "\n",
        "flat_true = [value for sublist in df['y_real'].to_numpy() for value in sublist]\n",
        "flat_pred = [value for sublist in df['y_pred'].to_numpy() for value in sublist]\n",
        "cm = confusion_matrix(flat_true, flat_pred)\n",
        "sns.heatmap(cm, annot=True)"
      ],
      "execution_count": null,
      "outputs": [
        {
          "output_type": "execute_result",
          "data": {
            "text/plain": [
              "<matplotlib.axes._subplots.AxesSubplot at 0x7f110b42e110>"
            ]
          },
          "metadata": {
            "tags": []
          },
          "execution_count": 20
        },
        {
          "output_type": "display_data",
          "data": {
            "image/png": "[encoded data removed]",
            "text/plain": [
              "<Figure size 432x288 with 2 Axes>"
            ]
          },
          "metadata": {
            "tags": [],
            "needs_background": "light"
          }
        }
      ]
    },
    {
      "cell_type": "code",
      "metadata": {
        "colab": {
          "base_uri": "https://localhost:8080/"
        },
        "id": "VrlZhQ-fHi81",
        "outputId": "db1e3763-188b-4a98-c5ca-5d153e92946c"
      },
      "source": [
        "print('\\n AOC: ', roc_auc_score(flat_true, flat_pred))\n",
        "print(classification_report(flat_true, flat_pred))"
      ],
      "execution_count": null,
      "outputs": [
        {
          "output_type": "stream",
          "text": [
            "\n",
            " AOC:  0.6462585034013606\n",
            "              precision    recall  f1-score   support\n",
            "\n",
            "           0       0.71      0.33      0.45        30\n",
            "           1       0.82      0.96      0.89        98\n",
            "\n",
            "    accuracy                           0.81       128\n",
            "   macro avg       0.77      0.65      0.67       128\n",
            "weighted avg       0.80      0.81      0.79       128\n",
            "\n"
          ],
          "name": "stdout"
        }
      ]
    },
    {
      "cell_type": "markdown",
      "metadata": {
        "id": "w0EUSj_6h3SV"
      },
      "source": [
        "## Graph attention network"
      ]
    },
    {
      "cell_type": "markdown",
      "metadata": {
        "id": "KWCY5Y_Kh7P_"
      },
      "source": [
        "### Architecture"
      ]
    },
    {
      "cell_type": "markdown",
      "metadata": {
        "id": "xbKah_9yfA1U"
      },
      "source": [
        "Theory\n",
        "\n",
        "![image.png](data:image/png;base64,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)\n",
        "\n",
        "![image.png](data:image/png;base64,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)\n",
        "\n",
        "![image.png](data:image/png;base64,iVBORw0KGgoAAAANSUhEUgAAAasAAABVCAYAAAD3/suwAAAgAElEQVR4Ae2dB1DUx/v/OZoBSwi2GE0sSfwmlqASE1QSxV6j2GtssaNRk0hiIhpBFCGCoqJSLLErxq6DLbEhwthFGcDCKMUfxREY7v53n3n95zjuuDvujrOgp36YueFTnt199r372ffuPs/uWiH+iQiICIgIiAiICFg4AlYWrp+onoiAiICIgIiAiAAiWYmVQERAREBEQETA4hEQycrii0hUUERAREBEQERAJCuxDogIiAiICIgIWDwCIllZfBGJCooIiAiICIgIiGQl1gERAREBEQERAYtHQCQriy8iUUERAREBEQERAZGsxDogIiAiICIgImDxCIhkZfFFJCooIiAiICIgIiCSlVgHtBB4zIVVvmxOUmg9Ey9fCgKPL7DKd/NLSUpM5EUjICVh3UI23ig0HbE0gXULN1KemOlI3t63Ilm9vWWvl/N84gL60dvnNHl6b8TbCkYgP46Afr3xOS0iX8FIV1j0QtYRZvccQWSS3EQaAllHZtNzRCQmxUzE8Da/EsnqbS59Td4FsvZPom3fMPEj0mDyki6ELPZPakvfsCRMNXMvSRsxmedAQHolgB6dfDifbyoSKVcCetDJ5zwmxUxF8Za+E8nqLS147WwLWbsY1bwXa+6I03/auFT8tUDWrlE077WGNxN6BSnhcwm58prQsCKF8LkhPLu6Mq4sak/rn09TYKryyK6wqH1rfj5tUspUDG/lO5Gs3spi1850Aadnt+Dr+ZeQaT8WrysegYLTzG7xNfMvvf7Iy29u5Y8Z0/Hy8tL5TfX8gjpf+nC+qOLhND8FOTe3/sGM6bq6enlNxfOLOnzpc55nVjf/ONOat8W3HMbLPz6N5m19n4MYzc/tmyIpktWbUpLPmA/h/mq6fdiXqHThGWMQgz0bAgL3V3fjw75RvBHQy3JJS0kmKSmp9HdlK1PcPZix7abFTXnJctNISdbSNSmJK1un4O4xg203n2eCTkFyUHsajYom11TFUCQT1L4Ro6JNSpmK4a17J5LVW1fk2hlWcMPPjfpj9lpcY6Kt5Rt5rbiBn1t9xux9toZRcWctw9v3x8vHn4CA+Yz+pjHu3/sQsHQJvr8M4VvPkFcOm5CTwKn4bF6PbpBATsIp4rOfX1shfR293u/Cynum4hJIX9eL97usxKTYKy9Fy1FAJCvLKYuXr4ksljlNP2Bk9JOXn/ZbnqIsdg5NPxjJ00GvtgFJuR3qTfB1qQpF6VEmNviM2WdLphPl1wjw2aiFcAEJWxbj67uI5YfuaD23lMvHJJyM5VFx2y6QfvYk18rxAn91msu5Gb0UP18/lkbfNOwUIzxkTbfqdFiWiikrsPBwDd2qd2BZqimpV5dTS0tZJCtLK5GXqI/8sg8tnfqx8RXORBSkxROX9Gyji5cI1QtOSs5ln5Y49dtodKrIpA3IdTZLN8RolhjIE37Hpe5o9qrt9fJEoncllOosZBLm2ZtFx/4jNun/uHNiIxFR61m/vuQXFUHE9lgyBQVJRyPLvouOJ6eYSGTcOhxJZHHYKCLDwzl8S+08UUjiwTCC/Obx+9qzPFX3R36ZBYPmcKaYa6UcmzGMv1JUDbjizgk2RkSV6ro+ioiI7cRmCiiSjhJZ5l008Splkd06TGSkKmxUZDjhh29pyKUw8SBhQX7M+30tZ59KWYGsm2f49+CvdBmxHcOcqiBpcRuqdV7JQ1ODK0USi9tUo/PKh6/J6LO0Sr2KK5GsXgXqFpGmwP0QD6p86ctN/Y6dkMelHX4Mb14FiZU1VV1G4Lvx3Au1rQiP4tns3ZkPbO1oG5BssgdqGK4ibu4NYPxXzlhbWVOtsQf9B3rSu2NrvmjVkZE+O7lhJgcKeZfY4Tec5lUkWFlXxWWELxvPpZdtQJ5cY0/QFNrVtMZK8g6NPeex7tT9Et0FchO2sWBQEyrbONN6nD//3DRiphfuE+JRhS99bxrPt9k2IIG7wR1w7hVBlrGGUUlWg8awq1gdBXeORRDqP4zP7CRYSexoOmIJKzefI0OQk3QojBULPPnY1goriQOtxgexasdFDVnd3LcC/1ldqF+vEzOXLGdfoto5RM6jpDMs7eFMgynHKRnzGS46/acGyCpIQ1bHiAj1Z9hndkisJNg1HcGSlZs5lyEgTzpE2IoFeH5si5WVBIdW4wlatYOLarK6uY8V/rPoUr8enWYuYfm+RI0TkfxREmeW9sC5wRSOP5WyJcrnhDNopDGyAumJqTSsMYQdJolQyompDakxZMfTkbs+fm/JvUhWb0lBl81mEQfG1qH26H1GPJ8E0ld2wt6qEl3XPCob/EU8KfgbT8dnJSuVAgWbPaksscdjhbp3KpB1bCYu79jw/oBNPDDWgOvrL6SzspM9VpW6Yjq7Rewe5oS13VcsStRneSBvI/0/n0yMqQaw6ABj69Rm9D4jZKavW8m9YRtQLps8q9NmcZJx4tMhq5LIFCksa+9QTABOfSLJ0MZJfo0FrkpysKbm0B16oz+B9PB+uP+RoBmlaNRV3GBh65oM3PpY88isCxNkpQqvIGVZexwkVkic+hCpqyzXFrhiJ7HCuuZQdujNEgjp4fRz/4ME9QBQo5CCGwtbU3PgVp5SW1UM5ZCVkBZCB8em/HaxTMIaDUAgLaQDjk1/w6SYVoi3+VIkq7e19BWpBLo74jLvctlGpwST3PAeVLKqRJ/1JruHz45g4XYGVbV/xpGVKtnCnUNxktjTMVRrJKRIYkkbOyQOPYnINle9XMJ7VMKqUh9MZ7eIfWNqYW3nTqAhW0PRISZ2+Z14E22UIjUQd0cX5l02IWSu2kWHGf/h5/x0Tj3CMRDQEFmhJJ1eVFMSgKMHIdoLvYQMInpVQ2JlheTd3kRok4MileBuHVlyqyxRC+lhdHXyIOS+NvMZ0Ef/UblkBUrS6VVNORJ0xCPkjhYxC2REqPJhJXmX3hEZWiNiBanB3ei45JaWfEniQjphXZ3wCLmvJa+vmIn7csiKogOMe78ann+bpsKiA+N4v5on5YiZUOTteSWSlUWUdSFpFw+yNWItUXviyShuwxTk3r9NcuodUlNucyvtMQICeWm3SUpJJSUpiQdPBArSrnDm+EH+OXSJLFk2N0/uYffBcyTlmGi8lHmWnebHTxzpttZ4a24+WeWT+M8y5k77gUnegey8klvaAAi5XN+zkqDgZSyc403g/qTSeX4dsirizpm/CV64gIV/hRMdl8KNf4JZuGA+C/xWsCX2YXGDo0g7Q1Tgn/hHnCFTAINkJb/EPBc7JFW+Y32ObgHnJ/7DsrnT+GGSN4E7r5CraVdfEFlJDzO5+zwDPflSPWSnf+QTx24Yh76Qu6e3Eervw2+/zmX+0rXsuZhucGpNFvcrzeqOZp9h44kqUYNkBeRsZ3AN5ZSmPV8uvK7ptCjuLKeba2tclNOiSnIILiUH+fWFdOi1CkN8lL9zGLVdfic+N5Wze3ew+/gNzHKuM4OsIIftg2tgbSXB/suFXFfzvOIOy7u50tpFOWUtwdEjuHSBtfw6Czv0YpVhZRlW24Xf43NJPbuXHbuPc8MsZUvKsTyykl/Fp6Ujbotvlxa8gSv5VR9aOrqx+HZZ8jcg/lY/EsnqVRe/LIktEzszMCCWbIWMe3sm8W2Pv7gsLeTmgZXMH9qMKrZ16RWm9DyScsnXjXedmtN/ViAHU/8fGec3s2RkMxzrfMP4uUvZeCyByydXMaZtOyZuvmWwgSvOclE0w52rMmCr8VbOLLISHrLHayCz/rlDkSKH8z5tqPpuG/wSlPNgUmLntcTJY3nxdJzi7go6OjXhF/UoQIesBLJivPEcsYwzmSUfbsE5fmlmh12bJZTurZvL5mEdWXBFRcZlyKrwHif8u1PHtjLNZ8VoTWEJPNzjxcBZ/3CnSEHOeR/aVH2XNn4JJRi9PLIqih6Oc9UBGIZeIHv7UGrb2PG/aQdIvXONo3/14yM7J1x/OlriMQdCThxbQwL5o38TnBr34/e/1hJz10iDZ4ysyOfg+HrYWFlh+/kcYoshVS5n8KBn6FW2DtEnBxmx3u0YtOlRaWdE8/1IOeX1MTU7zGDZml2cS04jYXFnWnjFlG+PMYusIP/geOrZWGFl+zlzVMqiuOGHR89Qrm4dQg1rKyT2X7KwhMlksd60G7RJg5lGVWXNPOXFxzU7MGPZGnadSyYtYTGdW3gRY+4kQnlkVTxz4UDjWWe0ky1zXTzKdmjMLJV3SZn34oNSBESyKsXiFVwpSA7xoLqbPxrzh3CPYI/38fy7ZMSjuMvGAR/TfHoMOcITzgbOYdVltduXSmXp0Yl8WGuIzny97II3Tau64pNgZIRVuAXPKjUY9Y9xu4k5ZCX9dwafuf3Ov7dVCyxvn/XBzc6Ghl4nkfKY/VNb4vrjYdU6LqWLdb13aB9cMvWiJqsliSTvmsu0JSf1nAQE7q/tgZN9C+apjQ7ZW/h+QCh3S0ZEKrKyoW6bgfTv7Eoj5/do0nc2yw7c1t3yRvovMz5z4/d/b6sWrd4+i4+bHTYNvThZbF96eWRVuMWTKjVGYQz6nD3j+bhaTTr9VTLakV/Bp6UdkkrtCVZn/Glqq1GyAunpmXyqdKawqc/kmEKQx/Gb+0A2ZgkUHNIjh8JjTHUbx15DDXqxncuRz72OlThjQNH+MdR19eGqehSk1Fl+jfAf/TmmPTtmJlkhPc3MT5XOFDbUnxxDIXLifnNn4MYshIJDjK9ng5WVLZ/PiUVGIcemujHOsLLFdi7Hz704VuKMQdF+xtR1xUdH2RKQ5deI+NGPGG17WHlkJWSyuosDH04+ZrKkhMzVdHH4kMnHTBk5TUbx1rwUyepVFnVx76sStfuv5OyFC1wo/p1l1YC6/E+rRyZkH2Fa00b0nDKHxUcyy/RqpTGTqP/hBI5o13d5An98Uam4Z2eQrvI30MehNmP2Pw9ZyYmf25wqruMIDA4mWOu34p8bWqM6Gelxuwhf/iPt37Pna//bKhtCMVnZ0bBNOz7+yofiwZh+eeQfZVIDO+qO3kseAlkbv2dkVKldonRk9ZDs4zNp9o4NNbsu54Y2Fso2Mn4uzau4Mi5QV8/gFf+UyL48ssrf0AeH2mMwAT2CICDPu8flU/vYGhXE8M9ssbJrxlxTxjB97NT3JsgK+WXmtVA5U9QesZuM49NpM2aPyulAeoZZjVXk0GBKDBnRo2kz/aRBhxzh4Sq66NirFCT6fYWz5yat0S0gZBB3LEG3U2IuWSHn8rwWKmeK2iPYnXGc6W3GsKeY+KScmdUYWysrbBpMISYjmtFtpnPSUPUWHrKqi669SpHox1fOnmzSJiQNfunExcTr6lweWZFLRE8H6v5wWB2L4f+5EfR0qMsPh/UqrGHpt/qpSFavsvhlF5jzuT0fjVxPXEICCZrfJRLTdafncrYP54OaHgReK1upDZKV0j26QyWchuwstRFp57VwC/0rv8vgHbrpaIuUP7KScmRCXd7pEGLQhqGMS5oSza9DR+Cz5zYFRTFMqldJj6zsaT1hFh7OVWjp/Z8BzywFN/3b4FC1E6GpD4kcM0FnBFlKVkoHiyKuBLTHydqBZjNidOwl0iMTqPtOBxPGf3PJSsrRifWwsfsKP81wWAu1oj2M7bOUZCMzckrJwi39qfzuYAxDL5AbF8aE9o2o9UkXpi6OYv/pY8xrY1cxZIWCpKXteEfpTefUiWF93fA6rm7hlevB1OTQm2Hd3ZlrxG3tyY4h1Grpg8ZnRJFMoPt7dFmVptW5EijIyS1LdmaTFSiSltLuHeUSAyc6DeuLm9dxTXzKdYMtlO741rXpPaw77nMvauxwWiUET3YwpFZLfEqVJTnQnfe6rCJNY8NUh5CR9yhP4/Kufkp5ZFXsXepAQ69TmiCGLoT0lXRyaIjXqbLftSH5t/mZSFavsvSFLKL6vEuNEdF6hCLl8WN1gwHCo2ME+u7kdLgnjVrM5qTesUcGyUqmnDKpRAsfI95+Svfp9x3oHaU9H6MLhkmyEh6wxS+U3b+7YFelE6E69hI5KUeOcL3oMn9+WZVmv5U0GsXTgGXJqm3AbVI3DqCufX2Gb9du3FT6CI+2MbiWPZ+Nncr3Mw7qbA2lS1aA4i6bBtbF1qYO360rPXZDfnkeLnZV6BR6V8czTJ5yhCPFNg7TZCU82ILf6hvKBEhZ2g57mw+ZeLS0jNTICfdC8By906SdpujAWN536I1B6HP3MOoDG6yd+xChbjmFNEI87CuIrEBIC6NbVQlWSttVE28uaA3FFUmBuCvJwUpCpa+1pqvVGS7+L+XEtEbUnxSjGU0rbvnj9l5XVqcpKIg/Q0JhHqfXLmLVn4No//O/uo3/U5AVQhph3aoWeypa2TbBW1dZAt3fUXkxVvoaf0OdCWUH6sQ0GtWfVLq8QHELf7f36Lo6DUVBPGcSVB04IfsMkQGhrF8wkM4+F3R1Lo+sFCksbedA87nxOkjp3yhSltLOofmzjZj1I3vD70WyesUF/Pj4DJo0GM5OrRWdsqsr8NlwT6VZwRVW/ejLCSWnKM8+Gt+YRsO26fQAlWT14Xu9WKe1qCg7ehT16vQl6p6RLr4sjl+bOvBNUKmnly4UpeusekXqsaOQS3xIX9pOP8GTi3/gYm9DjfbebI9L40nBA86vnc6k0KvIH6+nj4MNDSYcLh4x5V9fQocqdrjMu4RUoXTl28bAqva0WZKMQpm3Hz7F3rk9i+L0jSIyLvm0opLtx0w/pUsQ+X/3w1Fixzd/3dX04IWco3g1qYR1ZVe8/y3RXXaRP1zssanRHu/tcaQ9KeDB+bVMnxSqsqlo1ln1omx24wnp25bpJ1S9X0XKSro62fK+ZxR3dOwxD9jn1Zsfj+jrr4us0oOvqcM3BGm7i5eIKMnOo5IEm48mcrTENClk7mRsIwck+o2zbrTG70xNAypDCY/YPMAZa4k9rX1v6JA5wgPWdK+KRFKZTqH3NBjrJCa/yvxW1em/WV1PBO4pFyr3WEeGIpOdQeEk/t9hNkbf44a/O65z43VHPE9DVgg82jwAZ2sJ9q19uaFTvQUerOlOVYmEyp1Cjey5J+fq/FZU779ZswOIcC+YDs49WJehIHNnEOHFJKfg9u6tnM0XyI7qS+PxhzREXJz38shKdp5fPnOk08p0Haj0b2Tnf+Ezx06sfCN2M9bP3Yu9F8nqxeL5DLFJSdnzG0MGTGZR5G6i1wfhszia5KIMYgJ+oJdLbSp/NIhNStIRHrBnQlOqOVSn2XdT+XPX7eKPXklWH9XpxKT5i1i7+xD/hM2ib/cfWJegtPIY+3vE2m6OfDTlmO5HWCyex9XoAL53UfZgJVRu0Iae/Tzx9PTkux4euDZ4F1vrWozao9wiIp/45f1pXM0WiUSCdeVGdPc5otrtQnGfv4fVp5J1Feq16sb4oM3M71AFu+pfMDhgG9sWedLQ1ppaXXyKiS7z/DzaOkqwqeHGhKCDJGnNjCgblI4tfyVO0+sv4vbhECa7KXewkFC5+Qj8t8RqFrcWXfLnGydrrJ1bMy7oKMqBX378cvo3roatRILEujKNuvtwRNlI5F0lOuB7XJSjC0llGrTpST9PZX6/o4eHKw3etcW61iiKs1uMj4K0g7/RtaETtVz6MHb6bGZNGcl3Ht2ZEH5ZZ+RnEP1Ha+nm+BFTDBrV87iwYhRu9WvwUbsReM2YwviJC9m1zZuvaztSre4XeIZcMRit0YflkRXw5MA46lXTHyGrYszeNpha1T3ZpNWh0knrUTg9q3dkhZbzx+NDU/iq/2K2r17KhviSrUTkF5nr2g4//S1TnoqsipVlXL1qZUbJxTplK0fh1fHclGWk7j8ivGd1Oq4o7dzw+BBTvurP4u2rWbohXq/8ijgw7lM8N+gt8SiPrAp3MdS5DuMO6HaudHBTTgnvGopznXGUI6Yf7K28F8nKYopdyqOU6yQ+zDfykRlXVDMNWCQj924it9MLzIhDxrmf/kflrmG6hmPjyZh+I8/jflIqWYX69FhIZupdsktIRnjygJQHT5/HgiMzGLzExPZEprXTeisn734SqVmFZmCkFczQpVBA+s04zvx3hrhr98jT6eUbClDyTHaOn/5Xma5hxhpUpZyCorxHZD/RHrqZiNPUKzPICgrITM/THfGo4xSekJHxxARe+aQ/yNUdkSHw+P4tUtUFr1za9+8MmncL5U7ydjae0NoL62nJCijITCfPIDQCTzIyeKJfDdV5UXav0h+Qq1dWwuP73ErN1p3qU4ZRbvbcwoO/9EfB5ZCV4vZi3Cp/yzKTW6oruL3YjcrfLjMyCtRSWrxEJKs3oBIoXdc/0vcGNCNfSqN4jUZeWK5tV45MJoAilbBho1n/xkyVPGHHkBo08jplYFRrRsE9rYhZZPW0kT69fNGxH/EYuYRVS9YTp8VVSo9E/Y1s1XsDPn0qLzaE0qbU3nVu2R1JyiGrJ9sG4tx4VsnmvMZ0esK2gc7GPXaNBXtLn4tk9VoXvED2lYNEeH1F5cqtmRZxgCuqcxbMypWQGU4vp9b46k/LmBW6ooUU3FnRkap2TtT7sAEei6+U7fVWtAoVFr9AZngvnFob2ES4ItK0ELJS7oVXlPe4LEFbLFkJZEZ8xxfTDXQqTJKVlFPTP6HeuIN6jlN6hSs9xfRP6jHuoHGPXL0Qb/WtSFavdfELPE6N53xsHBcvxhF7Pp7UxybmP/TzKqSzrldNvg0yfe6OfrCXdS9P3cvCKZOYs+aswV0IXpYeFZFO8QF9Nb8lyND+gi86QSVZ9WmF56w5+O5OetGxP3988mv4Dv8N1cYmUk7M/J4QLfvX8yfwlDFIY5jacgjrzm/Dq8/3bCjZAV4Vi5wrm/7g5+k9aTHUyK7rsnP83KQhEw7rLt7X10J27meaNJxAOWL6wd7ae5Gs3tqiV2U8e/sQ6rU15pL8loNTodnPZvuQerT1T9Sz9VREogpy7lzn6tVrJD7Qnn+riLSeJU6Bxzml9jJZbq6ek8OzxPk8YYq4+98ONu04zq08/c6fQN69G1y7eo0b9ww7MBX9N5PPmqm3rzKmRxH/zfyMZsW7bRiTEZ9rIyCSlTYab+O1NBZvl6bMOi1ORbzs4pfGeuPSdBYi9C8b+YpML4edwz+hY7CJI1uUyefsZPgnHQku3fSyIpV6I+IWyeqNKMbnyYRAxo7hNOm5unS36ueJTgxrPgJCBjuGN6HnamNr3cyPSpS0DASk8T64uXpzzmTfT0q8jxuu3udM27QsI0sWo4VIVhZTFK9QEcU91vdvxbCtWmdCvUJ13qakFffW07/VMLa+MZ6Ob1Pp6eVVnkhw96+ZdiTHhJs/yBOD6f71NI6oN9HVi0a8NYyASFaGcXnrngqZ+5nSYTCRL8Pg/9ahayrDApn7p9BhcCQi9KZwsvR3hcT7daPz/Fjd3f711S6Mx69bZ+bHmna+0A8m3vOS1lkJ+dy/eIQ9+8+Q8jTeamIJvVQEpImRjPX8lRhjOxW8VG3epsSkJEaOxfPXmLcp029QXhXc3TqBfjP38VBvsbFOJhV32TqhHzP3qQ4S1Xkn3pSLQAWPrOTc3z+XgQN+ZuOFe2TcimZ2nyGsKtk5PC8+jkSDq9DL1VtPQM7jzAc8SEsjzeTvAQ8f5b8E7ys99V6jW3lWMqni9MQrKDE5WcmpryBdMcnnR0BOVkqq1qnTRmKUZ5GSqnWKthEx8bFhBCqQrASyj06n+SfD2a6ZjxdIW+7B+wM2kyNkse2vCK2pDznXwn/EX+dUNqXScq5F/IifzslnepkpOMfK6ROY8MMP/GDyN4GJv2wsPRJbLxrxVkRAREBEQETAMhGoOLKSnWdOEweaeOturV90cBx1P53BievhBGx9qGWIFMiIO0ZCmSkogfS4GOLLPK8YQA8dOsTAgQPFn4iBWAfEOvDG14GxY8dWTENaAbFWGFnJzv1E40pf8If6OPIS5aXHp9KwTm+mLFhNvNaGxEJBDrla9+q8yvIekafZaVv9tOL+Jycns3PnTvEnYiDWAbEOvPF1YO/evRXXmL7gmCuMrIp2D8f5vWHs0ltvID3lRaMqrsyLK32Rd3oti1b9yaD2P/OvmpiEbM5EBhC6fgEDO/voHAhXBoP8/wgY0Y++333HdyZ/ffEcv4YrL8ROVkYL8YGIgIiAiICIQAUhUGFkpbi9FPfaA9mqfQ6d8IjzgT2pW3Mke4qgKD8fObkc3hjNvRv+uGvtbqy4vZutZ/MRsqPo23g8h7TONqogLMRoXxoCj7mwypfN4ur9l4a4JqHHF1jlu1lzK168fghIE9axcOONchcUmyv3uiBQYWSlPJTv4vKRDJwVweF/T7BvawTrovYQl3YR//buTItcw4LQ/0qO/5Zzca4r7fzKnldUdGAcn3puQO/os9cFX1HPMgjkExfQj94+pzUntZYRER9UDAL5cQT0643PafWJvhWTjBhrBSMgZHFkdk9GRCYZPn9Mnby5cmp5C/9fgWSlyrkiP53bt+7zWHvqrSiT5KSM0p6B7F9mNO9G6J1ktm88oQWZjNg5LfD4S9yORguU1/hSIGv/JNr2DSNJuz68xjl6bVQXstg/qS19w8pp4F6bDL3likqvENCjEz7ny9mY2Fy51wDOCicrszAoOsaPHiNZsmoJ67VPZVOksLS9K3PjxZbNLBwtXEjI2sWo5r1Yo3/qqoXr/fqrJ5C1axTNe615Y/d/VKSEMzfkiumRhqUUpCKF8Lkhz207l11ZRPvWP3O6nM0wzJWzFHiM6WEZZAUIRXk81rNLCZkRfPfFdAs+ydYYrOLzsggUcHp2C76ef+kNOkSxbC4t8knBaWa3+Jr5l9TeSxappXlKyW+y9Y8ZTPfywkv7N9WTL+p8ic95Ay7F5sVcAVJybm79gxnT9XT1mornF3X40uc8z6dtPsenNaetb3kkba5cBUDwAqO0GLIqzZOUmKktGbLuPNu8+vD9hhRxx4lScF7bK+H+aryPIgYAABwNSURBVLp92JcozQLx1zYrr5niAvdXd+PDvlG8GdDLyE1LITkpiSTN7wpbp7jjMWMbN8uZFXvZhSfLTSMlWVvXJK5snYK7xwy2vQBlFclBtG80iuhc0zkzV850LK/2rQWSFRTd/Y8dm3Zw/Jbhw81eLWRi6k+PgIIbfm7UH7P3FR+q9/Sav/YhFDfwc6vPmL3P2Ior7rB2eHv6e/ngHxDA/NHf0Nj9e3wClrLE9xeGfOtJyC31hngFJGxZjK/vIpYfuvPyoBNySDgVT7b+OYkGNHiccJLYRypBIf0sJ6+VLqExIF4BjwRyEk4Rb46yyv17bkaz1M8Xv6XR3DRkDSk+7ft9uqy8p7XBggG1zZUzENRSHlkkWb1acPLYPsQZa+uqfPptH8Prtvr0plf3znz75f/4oKodEisrrKwkVOsV/ob0Xl9wCchimdP0A0ZGa69jeMFplBddQRrxcUlvHVnKYufQ9IORPC30ahuQ9HYo3sHXUc3QSzk6sQGfzT5bMpUr51qADxtzSsAXMgnz7M2iY/8Rm/R/3DmxkYio9axfX/KLiiBieyyZgoKko5Fl30XHo9qWUsatw5FEFoeNIjI8nMO31C11IYkHwwjym8fva8+WeBOXV/jq93IuLxjEnDOq6VDpsRkM+ytF9VJxhxMbI4hS67p+PVEREWyPzURQJHE0suy76PiSo0BktzgcGakKGxVJePhhStVN5GBYEH7zfmft2aev/0LWTc78e5Bfu4xgu0FeFXi4phvVOyzT2rpOnV/t/+bKaYexrGuRrAyUhzxpNT1q2FLHcz131Z1GA3LFjxT5pF3YzsKhzXGq0pEV98zo3hmL6w19Lr/sQ0unfmzUn6oQ8ri0w4/hzasgsbKmqssIfDeee7GELzwifrM3nT+wxa5tAMnllaeBMii6uZeA8V/hbG2FdbXGePQfiGfvjrT+ohUdR/qw84aZoxaz8/uEa3uCmNKuJtZWEt5p7Mm8dae4X6K7kJvAtgWDaFLZBufW4/D/56YR24ecyz4tceq3EX3oNdk0aQNyZfbSDcSoPd3lCfzuUpfRe9UWfTmJ0btIUJvClGQ1aAy7ig0xCu4ciyDUfxif2UmwktjRdMQSVm4+R4YgJ+lQGCsWePKxrRVWEgdajQ9i1Y6LGrK6uW8F/rO6UL9eJ2YuWc6+RHUich4lnWFpD2caTDleQqKa3JRzYYCsgkrJ6lhEKP7DPsNOYoXErikjlqxk87kMBHkSh8JWsMDzY2ytrJA4tGJ80Cp2XFST1U32rfBnVpf61Os0kyXL91Gq7iOSziylh3MDphzXM8qXo23p6xzCB400QlagSFpMm2qdWfnQdNtjrlxpupZ1JZKVwfIQSNsymLp2znQKuWmmQ0AhV0M9GRB0W7Sx6WAqcD/Egypf+nLTIFEIpK/shL1VJbqueaQT8sXdFPC3p+Mzk1WxHgWb8awswd5jBeo2Qcg6xkyXd7B5fwCbHphuKErzYn5+i3YPw8najq8WJRqoU3ls7P85k2NMNIDCfUI8qvClb9n1i6X6mG8DEu4G08G5FxHG9unUIauSFBQpLGvvgMRKglOfSDK0YZJfY4GrcmbCmppDd+gRqkB6eD/c/0go6+GnuMHC1jUZuPVxaTbMujJBVhp1l9HeQUmuTvSJzNCZWpNfW4CrknitazJ0hx79C+mE93Mvs72cMlrFjYW0rjmQp1ZXkyfTZIX0BFMb1mDIjnJGbubKadK1rAuRrIyVh/CIAxM+xb6qG39eNDj+LhtSuM/mpVHP1HsvG9mb8qSIA2PrUHv0PiO9f8gN70Elq0r0WV/Ox/bMkBSyfVBV7J9xZFWcbOFOhjpJsO8YqjXyU5C0pA12Egd6Rpi/bN3c/BbtG0MtazvcA1MNkFURhyZ24XdTyzqKDjC2Tm1G73tKnzMjNqDcTZ5Ub7MYoxuPGCIrlKTTi2rK0YqjByHayxaEDCJ6VSueRpe825sIbSZTpBLcrSNLNPaw0sIX0sPo6uRByH1t5it9b/yqfLJCSTrFOklw9AjRcfUXMiLoVU1SPOX/bu8IHeJVpAbTreMSyqorkB7WFSePEJ5aXU1GyiErIY2QDo40/e1iWWLXxKF0uTZTTjuMBV2LZGWqMB7/y89fOODQ/Cf+fdpOnKl4X+G7wrSLHNwawdqoPcRnqOwAitz73E5O5U5qCrdvpaE8H1PIS+N2UgqpKUkkPXjCk7QrnDl+kH8OXSJLls3Nk3vYffAcSTnq6RkjmVKkEujuiMu8y0Y/JHMbb2UK+Yn/sGzuNH6Y5E3gzitaZwgJ5F7fw8qgYJYtnIN34H6SNH0MXbIqunOGv4MXsmDhX4RH/8t/0cEsXDCfBX4r2BKrOhhPkXaGqMA/8Y84Q6ayTTRIVnIuzXPBTlKF79arDTcqHIzraT45myYrKYcnd2ee3kbR2qWgSA3E3dGFeZfV9h7tt6rrwrun2Rbqj89vvzJ3/lLW7rlIusHBWhGHx3/I5z+dMz7TYJCsgJztDK5hjZXEni8XXtfUA8Wd5XRzbY1LFeVIxhGP4NLF//LrC+nQa5XBBj5/5zBqu/xOfG4qZ/fuYPfxG2Y5VyiPGypjs1JPA2pBk7N9MDWsrZDYf8nC62rsFNxZ3g3X1i5UKSHeYA3xyrm+sAO9Vt3XGYmposxn57DauPweT27qWfbu2M3xG9kG5LQUKHNZDllRxIFx71PN829MN1PmypVRwCIeiGRVTjEUxi+kTTV7PvlhPyVOROWEsNTXMpK2TKTzwABisxXI7u1h0rc9+OuylMKbB1g5fyjNqthSt1dYsdeR9JIvbu860bz/LAIPJvPg/GaWjGyGY51vGD93KRuPJXD55CrGtG3HxM23jNsOZKf58RNHuq01PvIwj6wEHu7xYuCsf7hTpCDnvA9tqr5LG7+E4rSlsfNo6eTBcuV0nOIuKzo60eQXdcOqS1ZCVgzeniNYdiZTNWIpOMcvzeywa7NEa9SQy+ZhHVlwpYSMy5BVIfdO+NO9ji2Vm8+i9Lg103oqa4d5+YXnJSvZ6R/5xLEbxqAXsrcztLYNdv+bxoHUO1w7+hf9PrLDyfUnjupXdlkcvzary+h9mh5A2YpujKzI5+D4ethYWWH7+RxiiyFVeoh60DP0KluH1Ci2zdl/ubDkrDkZsd7tGLTpkYFGXcopr4+p2WEGy9bs4lxyGgmLO9PCK8YMZwvzyIr8g4yvZ4OVlS2fz4lVkbPSq9KjJ6FXtzJEn3hlsXi3G8QmfcyUCElP4fVxTTrMWMaaXedITktgcecWeMU8zSxCeWQl56pPSxzdFnPb4FS7uqjMlVPLW9Z/kazKLQ85icu74GxXlyFb0gx8POVGYBECiuQQPKq74Z+ors0C94I9eN/z75J9FxXc3TiAj5tPJyZH4MnZQOasuozalK7MhPToRD6sNQTt6XrZBW+aVnXFR2Nl18tuUTTDnasyYKvxRs6sxlv6LzM+c+P3f2+r1tfcPouPmx02Db04KYXH+6fS0vVHDhf7Oii91urxTvvgkp65mqyWkJi8i7nTlnBSx+4icH9tD5zsW5SOVLK38P2AUO6qZ5pKyMqmbhsG9u+MayNn3mvSl9nLDnBbByTTeirRMSu/PD9ZFUUPx7nqAIxCn7OH8R9Xo2anv0pIQs4Vn5bYSSrRPviuqq4LOcRtDSHwj/40cWpMv9//Ym3MXQPTksppJm0HC916ID09k0+VzhQ29ZkcUwjyOH5zH8jGLIGCQ+OpZ2OFle3nzFEyWeExprqNY6+h9rzYzuXI517HSpwxoGj/GOq6+nBVPQjSTVrrzkyyQsrpmZ8WO1PY1J+MSt3fcB+4kSyhgEN6xFt4bCpu4/YaJMtiO5fj53gdK3HGoIj9Y+ri6nNVM8IsVlCQUVhkLAPlkZWC1EB3HBrPosTRUSvP2pfmymmHsZxrkazMKQvFPTb2/wDbmj0Js8RN7QQZT3KVO9gb+1NV0kq1+7Py7AUuXFD9zq4aQN3/aVVwIZsj05rSqOcU5iw+opr+0opSGjOJ+h9O4Ij2NJE8gT++qETjWWcMTw8VbsGzSg1G/WPcbmJO4y2Pn0vzKq6MCwwmOFjrt+IfbmjpI0uPY1f4cn5s/x72X/uX9DRVZGXXsA3tPv4KnwStAOr85R9lUgM76o7ei3J1X9bG7xkZpWVg1xpZPcw+zsxm72BTsyvLtRNXrosxQ09z8qtU63lHVoVbPKlSYxQmoAdBQJDnce/yKfZtjSJo+GfYWtnRbG68ifqkBk3vvwmyQn6ZeS1UzhS1R+wm4/h02ozZo5q2kp5hVmNbrKxsaDAlhozo0bSZftKgjVN4uIouOvYqBYl+X+HsuUnPQcPQyePmkhXIL8+jRbEzRW1G7M7g+PQ2jNmjmmSTnplF42LibcCUmAyiR7dh+klD9Vvg4aouuvYqRSJ+XznjuanUQUN4eJzFvRpSb/whg3mG8shKIHN1Fxw+nMwxA1W7tJTMlSsNYUlXIlmZWRpCZjTf13ei4/Ikw71KY/GY7DEZC1T2eWFOTunGv5rXAhkHf8b9Awcc2/gb8bZTCsu4MOdz7D8ayfq4BBISSn+XEtN1483ZzvAPauIReK3M1J5BslJ6nHWohNOQnbrxqHXM30Afh9qM2W/oY1YJmdN4S49MoO47HYwb1aUpRP86lBE+e7hdUETMpHpU0iMr+9YTmOXhTJWW3vxXZnJfwU3/NjhU7URo6kMix0zQGUHq26yKrgTQ3skah2YziNFa4Fmunk8xslKOZOvZ2PGVnyFvwCL2jO3DUhO++Pkb+uBQewzGoBdy4wib0J5GtT6hy9TFRO0/zbF5bbCrCLJCQdLSdrwjscLaqRPD+rrhdVxdJ5Qu9i2KXcata/dmWHd35l403PV6smMItVr6oDHDKZIJdH+PLqv0Zz0MnTxuPlmhSGJpu3eKPRWdOg2jr5sXpepexkdNvL2H0d19LobVfcKOIbVo6VNqr1UkB+L+XhdWpamH7MpvQMrRSZ/juUHX7qn+hMonK8iN6IlD3R84bJKszJcrTdtyrkSyMrMsck9603PEelLUs2hmhCu/x2RGJErX1zvL8XB2Z6m+G5b8EsGzF3HwcipZBaYUE8iK6sO7NUYQrTcbJ338uLQ3JzziWKAvO0+H49moBbNPqhfYqPQ0SFay08z8tBIttD5InVwVbqF/5XcZvEMvYS0hk2QlPGCL32quxM/Dxa4KnUJ1p6DkKUc4cr2Iy39+SdVmv5U0GqppwDJk1TaA26kbGVDXnvrDt6PTXihnsR5tY3Atez4bO5XvZxzUXUCsNbJSbVuk4O6mgdS1taHOd+s0u8gre+TG9VQ1wObk94YcFClLaWdvw4cTj5aWkRo34R4hnqPZaWiqrESmcEt/Kr87GMPQ57Jn1AfYWDvTJ0Ld0AukhXhgXyFkpXRGC6NbVaU3nRW2Tbx1DlRVJAXi/o7K005ZbprZanV+i/9LOTGtEfUnxWg6Uopb/ri915XVaQoK4s+QUFLNDJ88/hRkhUBaWDeqSpQL/m1p4n1Ba+ZAQVKgezHxWkkq8bW/oc6EkoNOMK1RfSZplhcouOXvxntdV5OmKCD+TIIqd8rZCdcOBKaqvmFZXg75Op9z+SMr5fIPh4Ze5eyjqlo2Ub6cDugWcyOSlRlFobizkVE9f+G4anm9GSHUIuX1mARyr+zir99mMHnyZCZPnsLUXzejbKi0/6RHf8KlVlVa6nnUyeJDCDyobTDRDqV3/fg4M5o0YPjOrFK7m+wqK3w2oFrHXMCVVT/ie0I55FAe5TGexo2GsU2rRVeS1Yfv9WKd1pqi7OhR1KvTl6h7Ol9XaeJK9+n3HegdVWYoUyJTuu6oV6QuOSLkEh/Sl7bTTyCVXeQPF3tsarTHe3scaU8KeHB+LdMnhXJV/pj1fRywaTCBw8pk8q+zpEMV7FzmcUmqQKCQbQOrYt9mCckKZd5+4FN7Z9ovitOzM8i45NOKSrYfM/2Uutdfomb+3/RzlGD3zV+ldiwhh6NeTahkXRlX739V53OZ1FMZl5n5VYoqUljZ1Qnb9z2JuqNdKeQ82OdF7x+P6OlfomvJv6IDY3nfoTcGoVeSnUclJDYfMfFoSR0SMtk5thEOEv3GWTdeo3empgGVgYRHbB7gjLXEnta+N3RnKIQHrOleFYmkMp1CjWwdJL/K/FbV6b9ZXU+UdtcOOPdYR4Yik51B4cUkZ/Dk8WKln4aslOpuZoCzNRL71vje0K3fwoM1dK8qQVK5E6FGNgKQX51Pq+r9KVX3HsEdnOmxLgNF5k6CwhOLtRLuh9CppTexOdfZF7GWFT925Nu52uRYHlkpSFnaDofmczG1kgHMlTNawq/0hUhW5cGff54FfQax8mY5LtqG4jHZY5KTvGkqQ6av45xhX+GSGAUerPUjYFl/ajWeyWnNMF/O9RVL2a3+bg2lr/dMmrKH34YMYPKiSHZHryfIZzHRyUVkxATwQy8Xalf+iEGb7qFs3h/smUDTag5Ub/YdU//cxW05KMnqozqdmDR/EWt3H+KfsFn07f4D6xJM7OGo9CJr6sA3QaVuyaVq5XE1OoDvXaoWLxqt3KANPft54unpyXc9PHBt8C621rUYtUe1Q0R+/HL6N66GrUSCxLoyjbr7cKR4mKPg/t/DqF/Jmir1WtFtfBCb53egil11vhgcwLZti/BsaIt1rS74KIku8zzz2joisamB24QgDiZpQEW4F0zHlr8Sp1XcRbcPEzLZrXgHC0nl5ozw30Ksek1Q0SX8v3HC2tqZ1uOCOHpXgXE9ny6/SpwUaQf5rWtDnGq50GfsdGbPmsLI7zzoPiGcy+VsnCGL+5WmDt8QpHGxLkVeeZV3YQWj3OpT46N2jPCawZTxE1m4axveX9fGsVpdvvAM0Q1Q3l15ZAU8OTCOetU6EWpga5jsbYOpVd2TTTrOL1qJPgqnZ/WOrNB4vcDjQ1P4qv9itq9eyoZ4JSCGTx5XxfJ0ZAVPODCuHtU6hRrYySabbYNrUd1zE8bV7Un1jitKOzc85tCUr+i/eDurl26gWF1lOWwZSP0OU1gcvJdbRQJ5CXs5cF27cMsjKxnnf/kMx04rtdYAauGmuTRXThPAoi5EsjJVHMIDdv3Qg2n7M0tHI6bkkXHj+EnUgwxTPSbhfgQ/TNmhs7DQcNQF7FsUQGzeESY2+IARu0oMs4pUwvw3mBG+bKzSRylcT3xIvva0eVmxMk8004BFMnLvJnI7vcAMXB6xtpsjH005ppm6KRPxUz2Qk3c/idSswjJpF2amcje7hGWEJzxIefDUeSw4MoPBS0zt+GCussb1NDeGUjmBgvSbxJ35jzNx17iXp9vLL5XTu3q0lm6OHzHFtNUdRVEej7KfPL1DhV5yprwBS0ULyEzPM5yW8ISMjCdlyrU0bD7pD3J1R2QIPL5/i1R1uRcLGzt5/GnJCijIJD1Pe1Rbqo3wJIOMJyY+ovx0HuTqlZXwmPu3UilVVzn70pivx/kxb9IoZm41dDhmeWRVyK6hztQZd6DsdHGpusrFgmbK6QSymBuRrIwWRRGXAz3xDLhk2HHAQDjpzVDGeh/WuHub6jHlbhjD0JAzGs88tYde3JV7ulM7sjMEBsRQhJxLPi15r+MK1ar6R5tZsipZ68MVyDj5N/tNGNwNqPxUj5QG/4/0vQHLjUHGuZ/+R+WuYUZ7oOVGUeECcmQy5fqsVMKGjWb9m3GWBsjO8dP/KtM1TGvqtyKxNGNkVZHJa+I2evL4M5CVJtIKupBf4o8vO7A0RYEs9hdcOi8nLe8EOw+ka5F2OWSluM1it8p8u8zI9KladXPl1PIW9l8kK4MFIpB1cDo9xpc1whsUp4j7MYvo3ehTJh1VOxKY7jE9WjeUrrNWEhYWpvNbs6F0ZKZMSxa3jICDqikB4UEEfWo2Zsa/BRQcWEzgBa25KgTybl0hWXv2wLCyz/BUIPvKQSK8vqJy5dZMizjAFUMLII3ErPTgqtGoPOOvkcAV/ljBnRUdqWrnRL0PG+Cx+IqWIb3CE6/gBJTeaDVo5HXqBY1qy1HXUsjK2MnjZu5gUU4uX+hrIWM1Pb+exyU5CA//ZlTfX4haFcYh9QaUxamVQ1ZPtjHQuTGzTC+yAnPlXmgOX1xkIlkZwFJ2azW9Pu+Id+Q2tm0z9NvKlr/Xs3ZFAD6zxtDHtW6xZ5BNg6la7q2me0yKm0sZO/e0ZhRmQA3lShtOL11cstBVKVFE7NwWVG+zgMhF/hxQ86KQTdye9YSu2lvOMQGGUyn/qcDj1HjOx8Zx8WIcsefjSVXuyWTmn5AZTi+n1vga3snWzFgqTkyeupeFUyYxZ83Z13yXEn2MBDLDe+HU2tgmwvryz3mvJKs+rfCcNQff3UnPGdnzBTd08rhyu6VrvsP57Zyqkyc9MZPvQ+4+X0LPHVpKYaHWVKG8kAKtPqj8yib++Hk6PVsMNbrruvTUdD6pN46D6vbAiE7myhkJ/sofi2RVpgikxK+ZyvejRjHqqX7fM3VNgqZXXn6P6TFn/EbyQ+g5srTqarE6QgZ/j3aj88C+jAjUOwY+/z9+bu5ErQFRmmk1Reoh9sWeZM53czirVdHLZO1VPSg++K0m3wYZ2pD1VSn1dqQrpK+jV81vCSpxi67YXCvIuXOdq1evkfigQob4z62+8DgHjQlKlkuuZaqpyaeQd48b165y7cY98gz2D2Wc+7kJDSeUmh80gXUuzJXTCWRRNyJZVVhxmO4xqZJ9zLVtC5g+eYqe6/oTLv89j9nzd5Co50GtDFeQHEv8Q11WerJ/In19L3Hvnmoj1grL1jNGnL19CPXaGls/84yRisHMQCCb7UPq0dbYWiAzYhBFLBiBov+Y+Vkz1TZVptQ0V85UHK/4nUhWr7gAXkzycq76D2LM4lBWH7yv5XTxYmJ/IbFIY/F2acqs0+XMVbyQxMRItBGQxnrj0nQWIvTaqLwZ1zk7h/NJx2CtDZgN58tcOcOhLeOpSFaWUQ4vQAs5RYWGXWxfQOQvIAqBjB3DadJztc4ZQS8gYjGK8hAQMtgxvAk9Vxta61ZeYPG9xSIgjcfHzRXvc+V0AM2Vs9iMqhQTycrCC+iNUk9xj/X9WzFsq7Zb7huVQ4vNjOLeevq3GsbWN8Ut32KRflmKyUkM7s7X045odp83nLK5coZDW9JTkawsqTTeAl2EzP1M6TCYyJdi8H8LADU7iwKZ+6fQYXBkBXmMmq2IKPgCECiM96Nb5/nElrPbmrlyL0ClCo9CJKsKh1hMQB8BaWIkYz1/JcbYPjX6AcT7F4SAlMTIsXj+GvOC4hOjeRUIKO5uZUK/mex7qO9GrKuNuXK6oSz3TiQryy2bN1ozeVYyqU+9MfAbDclLypycrOTUl5SWmExFICDPSiE116Afu05y5srpBLLgG5GsLLhwRNVEBEQERAREBFQIiGQl1gQRAREBEQERAYtHQCQriy8iUUERAREBEQERAZGsxDogIiAiICIgImDxCIhkZfFFJCooIiAiICIgIiCSlVgHRAREBEQERAQsHgGRrCy+iEQFRQREBEQERAREshLrgIiAiICIgIiAxSMgkpXFF5GooIiAiICIgIjA/wej0OGRKEMBIgAAAABJRU5ErkJggg==)\n",
        "\n",
        "![image.png](data:image/png;base64,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)"
      ]
    },
    {
      "cell_type": "code",
      "metadata": {
        "id": "1U-fLKEP6PrT"
      },
      "source": [
        "from torch.nn import Linear\n",
        "from torch_geometric.nn import GATConv, TopKPooling\n",
        "from torch_geometric.nn import global_mean_pool\n",
        "embedding_size = 256\n",
        "\n",
        "\n",
        "class GAN(torch.nn.Module):\n",
        "    def __init__(self, feature_size):\n",
        "        super(GAN, self).__init__()\n",
        "\n",
        "        # GNN layers\n",
        "        self.conv1 = GATConv(feature_size, embedding_size, heads=3, dropout=0.3)\n",
        "        self.head_transform1 = Linear(embedding_size*3, embedding_size)\n",
        "        self.pool1 = TopKPooling(embedding_size, ratio=0.8)\n",
        "        self.conv2 = GATConv(embedding_size, embedding_size, heads=3, dropout=0.3) \n",
        "        self.head_transform2 = Linear(embedding_size*3, embedding_size)\n",
        "        self.pool2 = TopKPooling(embedding_size, ratio=0.5)\n",
        "        self.pool3 = TopKPooling(embedding_size, ratio=0.2)\n",
        "\n",
        "        # Linear layers\n",
        "        self.linear1 = Linear(embedding_size, embedding_size)\n",
        "        self.linear2 = Linear(embedding_size, 1)  \n",
        "\n",
        "    def forward(self, x, edge_attr, edge_index, batch_index):\n",
        "        # First block\n",
        "        x = self.conv1(x, edge_index)\n",
        "        x = self.head_transform1(x)\n",
        "        x, edge_index, edge_attr, batch_index, _, _ = self.pool1(x,edge_index, None, batch_index)\n",
        "        x1 = global_mean_pool(x, batch_index)\n",
        "\n",
        "        # Second block\n",
        "        x = self.conv2(x, edge_index)\n",
        "        x = self.head_transform2(x)\n",
        "        x, edge_index, edge_attr, batch_index, _, _ = self.pool2(x,edge_index, None, batch_index)\n",
        "        x2 = global_mean_pool(x, batch_index)\n",
        "\n",
        "        # Third block - same weights as the second one\n",
        "        x = self.conv2(x, edge_index)\n",
        "        x = self.head_transform2(x)\n",
        "        x, edge_index, edge_attr, batch_index, _, _ = self.pool3(x,edge_index, None, batch_index)\n",
        "        x3 = global_mean_pool(x, batch_index)\n",
        "\n",
        "        # Concatenated pooled representations\n",
        "        x = x1 + x2 + x3\n",
        "\n",
        "        # Output \n",
        "        x = self.linear1(x).relu()\n",
        "        x = F.dropout(x, p=0.2, training=self.training)\n",
        "        x = self.linear2(x)\n",
        "        out = torch.sigmoid(x)\n",
        "        \n",
        "        return out, x"
      ],
      "execution_count": null,
      "outputs": []
    },
    {
      "cell_type": "markdown",
      "metadata": {
        "id": "ZOfu8uhRh-yR"
      },
      "source": [
        "### Training"
      ]
    },
    {
      "cell_type": "code",
      "metadata": {
        "colab": {
          "base_uri": "https://localhost:8080/"
        },
        "id": "GN_lqSYkDfS_",
        "outputId": "bd438ad5-f2aa-41dc-cbaf-013a70036011"
      },
      "source": [
        "#Data split\n",
        "train_percent = 0.8\n",
        "validate_percent = 0.1\n",
        "train_index = int(train_percent*len(data))\n",
        "valid_index = int(validate_percent*len(data))\n",
        "\n",
        "data = data.shuffle()\n",
        "train_dataset = data[:train_index]\n",
        "valid_dataset = data[train_index:(train_index+valid_index)]\n",
        "test_dataset = data[(train_index+valid_index):]\n",
        "\n",
        "print('Length of train dataset: ', len(train_dataset))\n",
        "print('Length of validation dataset: ', len(valid_dataset))\n",
        "print('Length of test dataset: ', len(test_dataset))"
      ],
      "execution_count": null,
      "outputs": [
        {
          "output_type": "stream",
          "text": [
            "Length of train dataset:  1624\n",
            "Length of validation dataset:  203\n",
            "Length of test dataset:  203\n"
          ],
          "name": "stdout"
        }
      ]
    },
    {
      "cell_type": "code",
      "metadata": {
        "id": "U1hh-meJiAGh",
        "colab": {
          "base_uri": "https://localhost:8080/"
        },
        "outputId": "d98580be-65f9-4dad-dda0-fa854d538da8"
      },
      "source": [
        "import mlflow.pytorch\n",
        "from torch_geometric.data import DataLoader\n",
        "from sklearn.metrics import confusion_matrix, f1_score, accuracy_score, precision_score, recall_score, roc_auc_score\n",
        "import numpy as np\n",
        "import mlflow.pytorch\n",
        "\n",
        "device = torch.device(\"cuda:0\" if torch.cuda.is_available() else \"cpu\")\n",
        "\n",
        "model_gan = GAN(feature_size=train_dataset[0].x.shape[1])\n",
        "print(model_gan)\n",
        "print(\"Number of parameters: \", sum(p.numel() for p in model_gan.parameters()))\n",
        "model_gan = model_gan.to(device)\n",
        "model_gan\n",
        "\n",
        "loss_fn = torch.nn.BCELoss()\n",
        "optimizer = torch.optim.Adam(model_gan.parameters(), lr=0.0001) #od razu zmniejszony o rzad wielkosci\n",
        "\n",
        "#loading data\n",
        "train_loader = DataLoader(train_dataset, batch_size=n_batch_size, shuffle=True)\n",
        "valid_loader = DataLoader(valid_dataset, batch_size=n_batch_size, shuffle=True)\n",
        "test_loader = DataLoader(test_dataset, batch_size=n_batch_size, shuffle=True)\n",
        "\n",
        "def train(epoch):\n",
        "  all_preds = []\n",
        "  all_labels = []\n",
        "\n",
        "  for _, batch in enumerate(tqdm(train_loader)):\n",
        "    batch.to(device)\n",
        "    optimizer.zero_grad() #gradients reset\n",
        "\n",
        "    pred, embedding = model_gan(batch.x.float(), batch.edge_attr.float(), batch.edge_index, batch.batch)\n",
        "    #loss = torch.sqrt(loss_fn(pred, batch.y))\n",
        "    y = batch.y\n",
        "    y = y.float()\n",
        "    loss = loss_fn(pred, y)\n",
        "    #loss = loss_fn(pred, batch.y)\n",
        "    loss.backward()  \n",
        "    # Update using the gradients\n",
        "    optimizer.step() \n",
        "    \n",
        "  return loss, embedding\n",
        "\n",
        "def valid(epoch):\n",
        "  all_preds = []\n",
        "  all_labels = []\n",
        "\n",
        "  for _, batch in enumerate(tqdm(valid_loader)):\n",
        "    batch.to(device)\n",
        "    pred, embedding = model_gan(batch.x.float(), batch.edge_attr.float(), batch.edge_index, batch.batch)\n",
        "    y = batch.y\n",
        "    y = y.float()\n",
        "    loss = loss_fn(pred, y)\n",
        "    all_preds.append(np.argmax(pred.cpu().detach().numpy(), axis=1))\n",
        "    all_labels.append(batch.y.cpu().detach().numpy())\n",
        "  return loss, embedding\n",
        "\n",
        "\n",
        "def test(epoch):\n",
        "  all_preds = []\n",
        "  all_labels = []\n",
        "  for batch in test_loader:\n",
        "      batch.to(device)  \n",
        "      pred, embedding = model_gan(batch.x.float(), batch.edge_attr.float(), batch.edge_index, batch.batch)\n",
        "      y = batch.y\n",
        "      y = y.float()\n",
        "      #loss = torch.sqrt(loss_fn(pred, batch.y))\n",
        "      loss = loss_fn(pred, y)  \n",
        "      all_preds.append(np.argmax(pred.cpu().detach().numpy(), axis=1))\n",
        "      all_labels.append(batch.y.cpu().detach().numpy())\n",
        "\n",
        "  return loss, embedding"
      ],
      "execution_count": null,
      "outputs": [
        {
          "output_type": "stream",
          "text": [
            "GAN(\n",
            "  (conv1): GATConv(4, 256, heads=3)\n",
            "  (head_transform1): Linear(in_features=768, out_features=256, bias=True)\n",
            "  (pool1): TopKPooling(256, ratio=0.8, multiplier=1.0)\n",
            "  (conv2): GATConv(256, 256, heads=3)\n",
            "  (head_transform2): Linear(in_features=768, out_features=256, bias=True)\n",
            "  (pool2): TopKPooling(256, ratio=0.5, multiplier=1.0)\n",
            "  (pool3): TopKPooling(256, ratio=0.2, multiplier=1.0)\n",
            "  (linear1): Linear(in_features=256, out_features=256, bias=True)\n",
            "  (linear2): Linear(in_features=256, out_features=1, bias=True)\n",
            ")\n",
            "Number of parameters:  664833\n"
          ],
          "name": "stdout"
        }
      ]
    },
    {
      "cell_type": "markdown",
      "metadata": {
        "id": "5-CgQDLI844t"
      },
      "source": [
        "For embedding of 512 with last layer with 1024 parameters: 3427841\n",
        "\n",
        "For embedding of 512: 2902529\n",
        "\n",
        "For embedding of 256: 730369"
      ]
    },
    {
      "cell_type": "code",
      "metadata": {
        "colab": {
          "base_uri": "https://localhost:8080/"
        },
        "id": "U1BoikGfq72o",
        "outputId": "abaae0d6-9a7a-4d81-d8d3-b0616fdec046"
      },
      "source": [
        "losses_gan = []\n",
        "losses_gan_valid = []\n",
        "with mlflow.start_run() as run:\n",
        "  for epoch in range(50):\n",
        "    #Training\n",
        "    model_gan.train()\n",
        "    loss, h = train(epoch=epoch)\n",
        "    loss = loss.detach().cpu().numpy()\n",
        "    losses_gan.append(loss)\n",
        "    print('Epoch: ', epoch)\n",
        "    print('Train loss: ', loss)\n",
        "    mlflow.log_metric(key='Train loss', value=float(loss), step=epoch)\n",
        "\n",
        "    #Validation\n",
        "    model_gan.eval()\n",
        "    if epoch % 5 == 0:\n",
        "      loss, h = valid(epoch=epoch)\n",
        "      loss = loss.detach().cpu().numpy()\n",
        "      losses_gan_valid.append(loss)\n",
        "      print('Epoch: ', epoch)\n",
        "      print('Valid loss: ', loss)\n",
        "      mlflow.log_metric(key=\"Valid loss\", value=float(loss), step=epoch)\n",
        "    \n",
        "      #scheduler.step()\n",
        "  print(\"Done.\")"
      ],
      "execution_count": null,
      "outputs": [
        {
          "output_type": "stream",
          "text": [
            "100%|██████████| 13/13 [00:14<00:00,  1.14s/it]\n",
            "  0%|          | 0/2 [00:00<?, ?it/s]"
          ],
          "name": "stderr"
        },
        {
          "output_type": "stream",
          "text": [
            "Epoch:  0\n",
            "Train loss:  0.580611\n"
          ],
          "name": "stdout"
        },
        {
          "output_type": "stream",
          "text": [
            "100%|██████████| 2/2 [00:00<00:00,  2.08it/s]\n",
            "  0%|          | 0/13 [00:00<?, ?it/s]"
          ],
          "name": "stderr"
        },
        {
          "output_type": "stream",
          "text": [
            "Epoch:  0\n",
            "Valid loss:  0.60302263\n"
          ],
          "name": "stdout"
        },
        {
          "output_type": "stream",
          "text": [
            "100%|██████████| 13/13 [00:14<00:00,  1.14s/it]\n",
            "  0%|          | 0/13 [00:00<?, ?it/s]"
          ],
          "name": "stderr"
        },
        {
          "output_type": "stream",
          "text": [
            "Epoch:  1\n",
            "Train loss:  0.5701107\n"
          ],
          "name": "stdout"
        },
        {
          "output_type": "stream",
          "text": [
            "100%|██████████| 13/13 [00:14<00:00,  1.14s/it]\n",
            "  0%|          | 0/13 [00:00<?, ?it/s]"
          ],
          "name": "stderr"
        },
        {
          "output_type": "stream",
          "text": [
            "Epoch:  2\n",
            "Train loss:  0.47009125\n"
          ],
          "name": "stdout"
        },
        {
          "output_type": "stream",
          "text": [
            "100%|██████████| 13/13 [00:14<00:00,  1.13s/it]\n",
            "  0%|          | 0/13 [00:00<?, ?it/s]"
          ],
          "name": "stderr"
        },
        {
          "output_type": "stream",
          "text": [
            "Epoch:  3\n",
            "Train loss:  0.6111376\n"
          ],
          "name": "stdout"
        },
        {
          "output_type": "stream",
          "text": [
            "100%|██████████| 13/13 [00:14<00:00,  1.13s/it]\n",
            "  0%|          | 0/13 [00:00<?, ?it/s]"
          ],
          "name": "stderr"
        },
        {
          "output_type": "stream",
          "text": [
            "Epoch:  4\n",
            "Train loss:  0.593937\n"
          ],
          "name": "stdout"
        },
        {
          "output_type": "stream",
          "text": [
            "100%|██████████| 13/13 [00:14<00:00,  1.13s/it]\n",
            "  0%|          | 0/2 [00:00<?, ?it/s]"
          ],
          "name": "stderr"
        },
        {
          "output_type": "stream",
          "text": [
            "Epoch:  5\n",
            "Train loss:  0.53446573\n"
          ],
          "name": "stdout"
        },
        {
          "output_type": "stream",
          "text": [
            "100%|██████████| 2/2 [00:00<00:00,  2.12it/s]\n",
            "  0%|          | 0/13 [00:00<?, ?it/s]"
          ],
          "name": "stderr"
        },
        {
          "output_type": "stream",
          "text": [
            "Epoch:  5\n",
            "Valid loss:  0.6256878\n"
          ],
          "name": "stdout"
        },
        {
          "output_type": "stream",
          "text": [
            "100%|██████████| 13/13 [00:14<00:00,  1.12s/it]\n",
            "  0%|          | 0/13 [00:00<?, ?it/s]"
          ],
          "name": "stderr"
        },
        {
          "output_type": "stream",
          "text": [
            "Epoch:  6\n",
            "Train loss:  0.5214921\n"
          ],
          "name": "stdout"
        },
        {
          "output_type": "stream",
          "text": [
            "100%|██████████| 13/13 [00:14<00:00,  1.12s/it]\n",
            "  0%|          | 0/13 [00:00<?, ?it/s]"
          ],
          "name": "stderr"
        },
        {
          "output_type": "stream",
          "text": [
            "Epoch:  7\n",
            "Train loss:  0.6222963\n"
          ],
          "name": "stdout"
        },
        {
          "output_type": "stream",
          "text": [
            "100%|██████████| 13/13 [00:14<00:00,  1.12s/it]\n",
            "  0%|          | 0/13 [00:00<?, ?it/s]"
          ],
          "name": "stderr"
        },
        {
          "output_type": "stream",
          "text": [
            "Epoch:  8\n",
            "Train loss:  0.50751776\n"
          ],
          "name": "stdout"
        },
        {
          "output_type": "stream",
          "text": [
            "100%|██████████| 13/13 [00:14<00:00,  1.13s/it]\n",
            "  0%|          | 0/13 [00:00<?, ?it/s]"
          ],
          "name": "stderr"
        },
        {
          "output_type": "stream",
          "text": [
            "Epoch:  9\n",
            "Train loss:  0.52374256\n"
          ],
          "name": "stdout"
        },
        {
          "output_type": "stream",
          "text": [
            "100%|██████████| 13/13 [00:14<00:00,  1.13s/it]\n",
            "  0%|          | 0/2 [00:00<?, ?it/s]"
          ],
          "name": "stderr"
        },
        {
          "output_type": "stream",
          "text": [
            "Epoch:  10\n",
            "Train loss:  0.49874792\n"
          ],
          "name": "stdout"
        },
        {
          "output_type": "stream",
          "text": [
            "100%|██████████| 2/2 [00:00<00:00,  2.21it/s]\n",
            "  0%|          | 0/13 [00:00<?, ?it/s]"
          ],
          "name": "stderr"
        },
        {
          "output_type": "stream",
          "text": [
            "Epoch:  10\n",
            "Valid loss:  0.43870917\n"
          ],
          "name": "stdout"
        },
        {
          "output_type": "stream",
          "text": [
            "100%|██████████| 13/13 [00:14<00:00,  1.12s/it]\n",
            "  0%|          | 0/13 [00:00<?, ?it/s]"
          ],
          "name": "stderr"
        },
        {
          "output_type": "stream",
          "text": [
            "Epoch:  11\n",
            "Train loss:  0.5519942\n"
          ],
          "name": "stdout"
        },
        {
          "output_type": "stream",
          "text": [
            "100%|██████████| 13/13 [00:14<00:00,  1.13s/it]\n",
            "  0%|          | 0/13 [00:00<?, ?it/s]"
          ],
          "name": "stderr"
        },
        {
          "output_type": "stream",
          "text": [
            "Epoch:  12\n",
            "Train loss:  0.43049508\n"
          ],
          "name": "stdout"
        },
        {
          "output_type": "stream",
          "text": [
            "100%|██████████| 13/13 [00:14<00:00,  1.11s/it]\n",
            "  0%|          | 0/13 [00:00<?, ?it/s]"
          ],
          "name": "stderr"
        },
        {
          "output_type": "stream",
          "text": [
            "Epoch:  13\n",
            "Train loss:  0.50707203\n"
          ],
          "name": "stdout"
        },
        {
          "output_type": "stream",
          "text": [
            "100%|██████████| 13/13 [00:14<00:00,  1.11s/it]\n",
            "  0%|          | 0/13 [00:00<?, ?it/s]"
          ],
          "name": "stderr"
        },
        {
          "output_type": "stream",
          "text": [
            "Epoch:  14\n",
            "Train loss:  0.6311116\n"
          ],
          "name": "stdout"
        },
        {
          "output_type": "stream",
          "text": [
            "100%|██████████| 13/13 [00:14<00:00,  1.12s/it]\n",
            "  0%|          | 0/2 [00:00<?, ?it/s]"
          ],
          "name": "stderr"
        },
        {
          "output_type": "stream",
          "text": [
            "Epoch:  15\n",
            "Train loss:  0.49021465\n"
          ],
          "name": "stdout"
        },
        {
          "output_type": "stream",
          "text": [
            "100%|██████████| 2/2 [00:00<00:00,  2.16it/s]\n",
            "  0%|          | 0/13 [00:00<?, ?it/s]"
          ],
          "name": "stderr"
        },
        {
          "output_type": "stream",
          "text": [
            "Epoch:  15\n",
            "Valid loss:  0.4931693\n"
          ],
          "name": "stdout"
        },
        {
          "output_type": "stream",
          "text": [
            "100%|██████████| 13/13 [00:14<00:00,  1.13s/it]\n",
            "  0%|          | 0/13 [00:00<?, ?it/s]"
          ],
          "name": "stderr"
        },
        {
          "output_type": "stream",
          "text": [
            "Epoch:  16\n",
            "Train loss:  0.47230884\n"
          ],
          "name": "stdout"
        },
        {
          "output_type": "stream",
          "text": [
            "100%|██████████| 13/13 [00:14<00:00,  1.12s/it]\n",
            "  0%|          | 0/13 [00:00<?, ?it/s]"
          ],
          "name": "stderr"
        },
        {
          "output_type": "stream",
          "text": [
            "Epoch:  17\n",
            "Train loss:  0.50370914\n"
          ],
          "name": "stdout"
        },
        {
          "output_type": "stream",
          "text": [
            "100%|██████████| 13/13 [00:14<00:00,  1.11s/it]\n",
            "  0%|          | 0/13 [00:00<?, ?it/s]"
          ],
          "name": "stderr"
        },
        {
          "output_type": "stream",
          "text": [
            "Epoch:  18\n",
            "Train loss:  0.57277733\n"
          ],
          "name": "stdout"
        },
        {
          "output_type": "stream",
          "text": [
            "100%|██████████| 13/13 [00:14<00:00,  1.10s/it]\n",
            "  0%|          | 0/13 [00:00<?, ?it/s]"
          ],
          "name": "stderr"
        },
        {
          "output_type": "stream",
          "text": [
            "Epoch:  19\n",
            "Train loss:  0.4898798\n"
          ],
          "name": "stdout"
        },
        {
          "output_type": "stream",
          "text": [
            "100%|██████████| 13/13 [00:14<00:00,  1.13s/it]\n",
            "  0%|          | 0/2 [00:00<?, ?it/s]"
          ],
          "name": "stderr"
        },
        {
          "output_type": "stream",
          "text": [
            "Epoch:  20\n",
            "Train loss:  0.55016285\n"
          ],
          "name": "stdout"
        },
        {
          "output_type": "stream",
          "text": [
            "100%|██████████| 2/2 [00:00<00:00,  2.09it/s]\n",
            "  0%|          | 0/13 [00:00<?, ?it/s]"
          ],
          "name": "stderr"
        },
        {
          "output_type": "stream",
          "text": [
            "Epoch:  20\n",
            "Valid loss:  0.4828728\n"
          ],
          "name": "stdout"
        },
        {
          "output_type": "stream",
          "text": [
            "100%|██████████| 13/13 [00:14<00:00,  1.10s/it]\n",
            "  0%|          | 0/13 [00:00<?, ?it/s]"
          ],
          "name": "stderr"
        },
        {
          "output_type": "stream",
          "text": [
            "Epoch:  21\n",
            "Train loss:  0.59143066\n"
          ],
          "name": "stdout"
        },
        {
          "output_type": "stream",
          "text": [
            "100%|██████████| 13/13 [00:14<00:00,  1.10s/it]\n",
            "  0%|          | 0/13 [00:00<?, ?it/s]"
          ],
          "name": "stderr"
        },
        {
          "output_type": "stream",
          "text": [
            "Epoch:  22\n",
            "Train loss:  0.46680295\n"
          ],
          "name": "stdout"
        },
        {
          "output_type": "stream",
          "text": [
            "100%|██████████| 13/13 [00:14<00:00,  1.11s/it]\n",
            "  0%|          | 0/13 [00:00<?, ?it/s]"
          ],
          "name": "stderr"
        },
        {
          "output_type": "stream",
          "text": [
            "Epoch:  23\n",
            "Train loss:  0.5529576\n"
          ],
          "name": "stdout"
        },
        {
          "output_type": "stream",
          "text": [
            "100%|██████████| 13/13 [00:14<00:00,  1.12s/it]\n",
            "  0%|          | 0/13 [00:00<?, ?it/s]"
          ],
          "name": "stderr"
        },
        {
          "output_type": "stream",
          "text": [
            "Epoch:  24\n",
            "Train loss:  0.5241749\n"
          ],
          "name": "stdout"
        },
        {
          "output_type": "stream",
          "text": [
            "100%|██████████| 13/13 [00:14<00:00,  1.12s/it]\n",
            "  0%|          | 0/2 [00:00<?, ?it/s]"
          ],
          "name": "stderr"
        },
        {
          "output_type": "stream",
          "text": [
            "Epoch:  25\n",
            "Train loss:  0.5164179\n"
          ],
          "name": "stdout"
        },
        {
          "output_type": "stream",
          "text": [
            "100%|██████████| 2/2 [00:00<00:00,  2.08it/s]\n",
            "  0%|          | 0/13 [00:00<?, ?it/s]"
          ],
          "name": "stderr"
        },
        {
          "output_type": "stream",
          "text": [
            "Epoch:  25\n",
            "Valid loss:  0.5368718\n"
          ],
          "name": "stdout"
        },
        {
          "output_type": "stream",
          "text": [
            "100%|██████████| 13/13 [00:14<00:00,  1.15s/it]\n",
            "  0%|          | 0/13 [00:00<?, ?it/s]"
          ],
          "name": "stderr"
        },
        {
          "output_type": "stream",
          "text": [
            "Epoch:  26\n",
            "Train loss:  0.44930476\n"
          ],
          "name": "stdout"
        },
        {
          "output_type": "stream",
          "text": [
            "100%|██████████| 13/13 [00:14<00:00,  1.11s/it]\n",
            "  0%|          | 0/13 [00:00<?, ?it/s]"
          ],
          "name": "stderr"
        },
        {
          "output_type": "stream",
          "text": [
            "Epoch:  27\n",
            "Train loss:  0.75125045\n"
          ],
          "name": "stdout"
        },
        {
          "output_type": "stream",
          "text": [
            "100%|██████████| 13/13 [00:14<00:00,  1.11s/it]\n",
            "  0%|          | 0/13 [00:00<?, ?it/s]"
          ],
          "name": "stderr"
        },
        {
          "output_type": "stream",
          "text": [
            "Epoch:  28\n",
            "Train loss:  0.5739246\n"
          ],
          "name": "stdout"
        },
        {
          "output_type": "stream",
          "text": [
            "100%|██████████| 13/13 [00:14<00:00,  1.11s/it]\n",
            "  0%|          | 0/13 [00:00<?, ?it/s]"
          ],
          "name": "stderr"
        },
        {
          "output_type": "stream",
          "text": [
            "Epoch:  29\n",
            "Train loss:  0.5323403\n"
          ],
          "name": "stdout"
        },
        {
          "output_type": "stream",
          "text": [
            "100%|██████████| 13/13 [00:14<00:00,  1.10s/it]\n",
            "  0%|          | 0/2 [00:00<?, ?it/s]"
          ],
          "name": "stderr"
        },
        {
          "output_type": "stream",
          "text": [
            "Epoch:  30\n",
            "Train loss:  0.437496\n"
          ],
          "name": "stdout"
        },
        {
          "output_type": "stream",
          "text": [
            "100%|██████████| 2/2 [00:00<00:00,  2.15it/s]\n",
            "  0%|          | 0/13 [00:00<?, ?it/s]"
          ],
          "name": "stderr"
        },
        {
          "output_type": "stream",
          "text": [
            "Epoch:  30\n",
            "Valid loss:  0.59726936\n"
          ],
          "name": "stdout"
        },
        {
          "output_type": "stream",
          "text": [
            "100%|██████████| 13/13 [00:14<00:00,  1.12s/it]\n",
            "  0%|          | 0/13 [00:00<?, ?it/s]"
          ],
          "name": "stderr"
        },
        {
          "output_type": "stream",
          "text": [
            "Epoch:  31\n",
            "Train loss:  0.49328965\n"
          ],
          "name": "stdout"
        },
        {
          "output_type": "stream",
          "text": [
            "100%|██████████| 13/13 [00:14<00:00,  1.12s/it]\n",
            "  0%|          | 0/13 [00:00<?, ?it/s]"
          ],
          "name": "stderr"
        },
        {
          "output_type": "stream",
          "text": [
            "Epoch:  32\n",
            "Train loss:  0.450053\n"
          ],
          "name": "stdout"
        },
        {
          "output_type": "stream",
          "text": [
            "100%|██████████| 13/13 [00:14<00:00,  1.14s/it]\n",
            "  0%|          | 0/13 [00:00<?, ?it/s]"
          ],
          "name": "stderr"
        },
        {
          "output_type": "stream",
          "text": [
            "Epoch:  33\n",
            "Train loss:  0.49772123\n"
          ],
          "name": "stdout"
        },
        {
          "output_type": "stream",
          "text": [
            "100%|██████████| 13/13 [00:14<00:00,  1.13s/it]\n",
            "  0%|          | 0/13 [00:00<?, ?it/s]"
          ],
          "name": "stderr"
        },
        {
          "output_type": "stream",
          "text": [
            "Epoch:  34\n",
            "Train loss:  0.44019145\n"
          ],
          "name": "stdout"
        },
        {
          "output_type": "stream",
          "text": [
            "100%|██████████| 13/13 [00:14<00:00,  1.11s/it]\n",
            "  0%|          | 0/2 [00:00<?, ?it/s]"
          ],
          "name": "stderr"
        },
        {
          "output_type": "stream",
          "text": [
            "Epoch:  35\n",
            "Train loss:  0.50293076\n"
          ],
          "name": "stdout"
        },
        {
          "output_type": "stream",
          "text": [
            "100%|██████████| 2/2 [00:00<00:00,  2.17it/s]\n",
            "  0%|          | 0/13 [00:00<?, ?it/s]"
          ],
          "name": "stderr"
        },
        {
          "output_type": "stream",
          "text": [
            "Epoch:  35\n",
            "Valid loss:  0.53105783\n"
          ],
          "name": "stdout"
        },
        {
          "output_type": "stream",
          "text": [
            "100%|██████████| 13/13 [00:14<00:00,  1.13s/it]\n",
            "  0%|          | 0/13 [00:00<?, ?it/s]"
          ],
          "name": "stderr"
        },
        {
          "output_type": "stream",
          "text": [
            "Epoch:  36\n",
            "Train loss:  0.5125694\n"
          ],
          "name": "stdout"
        },
        {
          "output_type": "stream",
          "text": [
            "100%|██████████| 13/13 [00:14<00:00,  1.12s/it]\n",
            "  0%|          | 0/13 [00:00<?, ?it/s]"
          ],
          "name": "stderr"
        },
        {
          "output_type": "stream",
          "text": [
            "Epoch:  37\n",
            "Train loss:  0.64334995\n"
          ],
          "name": "stdout"
        },
        {
          "output_type": "stream",
          "text": [
            "100%|██████████| 13/13 [00:14<00:00,  1.12s/it]\n",
            "  0%|          | 0/13 [00:00<?, ?it/s]"
          ],
          "name": "stderr"
        },
        {
          "output_type": "stream",
          "text": [
            "Epoch:  38\n",
            "Train loss:  0.4901415\n"
          ],
          "name": "stdout"
        },
        {
          "output_type": "stream",
          "text": [
            "100%|██████████| 13/13 [00:14<00:00,  1.12s/it]\n",
            "  0%|          | 0/13 [00:00<?, ?it/s]"
          ],
          "name": "stderr"
        },
        {
          "output_type": "stream",
          "text": [
            "Epoch:  39\n",
            "Train loss:  0.59193873\n"
          ],
          "name": "stdout"
        },
        {
          "output_type": "stream",
          "text": [
            "100%|██████████| 13/13 [00:14<00:00,  1.13s/it]\n",
            "  0%|          | 0/2 [00:00<?, ?it/s]"
          ],
          "name": "stderr"
        },
        {
          "output_type": "stream",
          "text": [
            "Epoch:  40\n",
            "Train loss:  0.46348304\n"
          ],
          "name": "stdout"
        },
        {
          "output_type": "stream",
          "text": [
            "100%|██████████| 2/2 [00:00<00:00,  2.13it/s]\n",
            "  0%|          | 0/13 [00:00<?, ?it/s]"
          ],
          "name": "stderr"
        },
        {
          "output_type": "stream",
          "text": [
            "Epoch:  40\n",
            "Valid loss:  0.5037539\n"
          ],
          "name": "stdout"
        },
        {
          "output_type": "stream",
          "text": [
            "100%|██████████| 13/13 [00:14<00:00,  1.13s/it]\n",
            "  0%|          | 0/13 [00:00<?, ?it/s]"
          ],
          "name": "stderr"
        },
        {
          "output_type": "stream",
          "text": [
            "Epoch:  41\n",
            "Train loss:  0.45972812\n"
          ],
          "name": "stdout"
        },
        {
          "output_type": "stream",
          "text": [
            "100%|██████████| 13/13 [00:14<00:00,  1.13s/it]\n",
            "  0%|          | 0/13 [00:00<?, ?it/s]"
          ],
          "name": "stderr"
        },
        {
          "output_type": "stream",
          "text": [
            "Epoch:  42\n",
            "Train loss:  0.44389507\n"
          ],
          "name": "stdout"
        },
        {
          "output_type": "stream",
          "text": [
            "100%|██████████| 13/13 [00:14<00:00,  1.13s/it]\n",
            "  0%|          | 0/13 [00:00<?, ?it/s]"
          ],
          "name": "stderr"
        },
        {
          "output_type": "stream",
          "text": [
            "Epoch:  43\n",
            "Train loss:  0.6479073\n"
          ],
          "name": "stdout"
        },
        {
          "output_type": "stream",
          "text": [
            "100%|██████████| 13/13 [00:14<00:00,  1.12s/it]\n",
            "  0%|          | 0/13 [00:00<?, ?it/s]"
          ],
          "name": "stderr"
        },
        {
          "output_type": "stream",
          "text": [
            "Epoch:  44\n",
            "Train loss:  0.44079638\n"
          ],
          "name": "stdout"
        },
        {
          "output_type": "stream",
          "text": [
            "100%|██████████| 13/13 [00:14<00:00,  1.12s/it]\n",
            "  0%|          | 0/2 [00:00<?, ?it/s]"
          ],
          "name": "stderr"
        },
        {
          "output_type": "stream",
          "text": [
            "Epoch:  45\n",
            "Train loss:  0.39494342\n"
          ],
          "name": "stdout"
        },
        {
          "output_type": "stream",
          "text": [
            "100%|██████████| 2/2 [00:00<00:00,  2.20it/s]\n",
            "  0%|          | 0/13 [00:00<?, ?it/s]"
          ],
          "name": "stderr"
        },
        {
          "output_type": "stream",
          "text": [
            "Epoch:  45\n",
            "Valid loss:  0.57053417\n"
          ],
          "name": "stdout"
        },
        {
          "output_type": "stream",
          "text": [
            "100%|██████████| 13/13 [00:14<00:00,  1.13s/it]\n",
            "  0%|          | 0/13 [00:00<?, ?it/s]"
          ],
          "name": "stderr"
        },
        {
          "output_type": "stream",
          "text": [
            "Epoch:  46\n",
            "Train loss:  0.6265224\n"
          ],
          "name": "stdout"
        },
        {
          "output_type": "stream",
          "text": [
            "100%|██████████| 13/13 [00:14<00:00,  1.12s/it]\n",
            "  0%|          | 0/13 [00:00<?, ?it/s]"
          ],
          "name": "stderr"
        },
        {
          "output_type": "stream",
          "text": [
            "Epoch:  47\n",
            "Train loss:  0.4801749\n"
          ],
          "name": "stdout"
        },
        {
          "output_type": "stream",
          "text": [
            "100%|██████████| 13/13 [00:14<00:00,  1.12s/it]\n",
            "  0%|          | 0/13 [00:00<?, ?it/s]"
          ],
          "name": "stderr"
        },
        {
          "output_type": "stream",
          "text": [
            "Epoch:  48\n",
            "Train loss:  0.501703\n"
          ],
          "name": "stdout"
        },
        {
          "output_type": "stream",
          "text": [
            "100%|██████████| 13/13 [00:14<00:00,  1.13s/it]"
          ],
          "name": "stderr"
        },
        {
          "output_type": "stream",
          "text": [
            "Epoch:  49\n",
            "Train loss:  0.45787856\n",
            "Done.\n"
          ],
          "name": "stdout"
        },
        {
          "output_type": "stream",
          "text": [
            "\n"
          ],
          "name": "stderr"
        }
      ]
    },
    {
      "cell_type": "code",
      "metadata": {
        "colab": {
          "base_uri": "https://localhost:8080/",
          "height": 979
        },
        "id": "l3B4kD7uL436",
        "outputId": "45d934f2-d27f-413a-9f6e-cf173a2794ed"
      },
      "source": [
        "test_batch = next(iter(test_loader))\n",
        "with torch.no_grad():\n",
        "    test_batch.to(device)\n",
        "    pred, embed = model_gan(test_batch.x.float(), test_batch.edge_attr.float(), test_batch.edge_index, test_batch.batch)\n",
        "    pred = (pred>0.5).int()\n",
        "    df2 = pd.DataFrame()\n",
        "    df2[\"y_real\"] = test_batch.y.tolist()\n",
        "    df2[\"y_pred\"] = pred.tolist()\n",
        "df2.head(30)"
      ],
      "execution_count": null,
      "outputs": [
        {
          "output_type": "execute_result",
          "data": {
            "text/html": [
              "<div>\n",
              "<style scoped>\n",
              "    .dataframe tbody tr th:only-of-type {\n",
              "        vertical-align: middle;\n",
              "    }\n",
              "\n",
              "    .dataframe tbody tr th {\n",
              "        vertical-align: top;\n",
              "    }\n",
              "\n",
              "    .dataframe thead th {\n",
              "        text-align: right;\n",
              "    }\n",
              "</style>\n",
              "<table border=\"1\" class=\"dataframe\">\n",
              "  <thead>\n",
              "    <tr style=\"text-align: right;\">\n",
              "      <th></th>\n",
              "      <th>y_real</th>\n",
              "      <th>y_pred</th>\n",
              "    </tr>\n",
              "  </thead>\n",
              "  <tbody>\n",
              "    <tr>\n",
              "      <th>0</th>\n",
              "      <td>[1]</td>\n",
              "      <td>[1]</td>\n",
              "    </tr>\n",
              "    <tr>\n",
              "      <th>1</th>\n",
              "      <td>[1]</td>\n",
              "      <td>[1]</td>\n",
              "    </tr>\n",
              "    <tr>\n",
              "      <th>2</th>\n",
              "      <td>[0]</td>\n",
              "      <td>[1]</td>\n",
              "    </tr>\n",
              "    <tr>\n",
              "      <th>3</th>\n",
              "      <td>[1]</td>\n",
              "      <td>[1]</td>\n",
              "    </tr>\n",
              "    <tr>\n",
              "      <th>4</th>\n",
              "      <td>[1]</td>\n",
              "      <td>[1]</td>\n",
              "    </tr>\n",
              "    <tr>\n",
              "      <th>5</th>\n",
              "      <td>[1]</td>\n",
              "      <td>[1]</td>\n",
              "    </tr>\n",
              "    <tr>\n",
              "      <th>6</th>\n",
              "      <td>[1]</td>\n",
              "      <td>[1]</td>\n",
              "    </tr>\n",
              "    <tr>\n",
              "      <th>7</th>\n",
              "      <td>[1]</td>\n",
              "      <td>[1]</td>\n",
              "    </tr>\n",
              "    <tr>\n",
              "      <th>8</th>\n",
              "      <td>[1]</td>\n",
              "      <td>[1]</td>\n",
              "    </tr>\n",
              "    <tr>\n",
              "      <th>9</th>\n",
              "      <td>[1]</td>\n",
              "      <td>[1]</td>\n",
              "    </tr>\n",
              "    <tr>\n",
              "      <th>10</th>\n",
              "      <td>[0]</td>\n",
              "      <td>[1]</td>\n",
              "    </tr>\n",
              "    <tr>\n",
              "      <th>11</th>\n",
              "      <td>[1]</td>\n",
              "      <td>[1]</td>\n",
              "    </tr>\n",
              "    <tr>\n",
              "      <th>12</th>\n",
              "      <td>[0]</td>\n",
              "      <td>[1]</td>\n",
              "    </tr>\n",
              "    <tr>\n",
              "      <th>13</th>\n",
              "      <td>[1]</td>\n",
              "      <td>[1]</td>\n",
              "    </tr>\n",
              "    <tr>\n",
              "      <th>14</th>\n",
              "      <td>[1]</td>\n",
              "      <td>[1]</td>\n",
              "    </tr>\n",
              "    <tr>\n",
              "      <th>15</th>\n",
              "      <td>[0]</td>\n",
              "      <td>[1]</td>\n",
              "    </tr>\n",
              "    <tr>\n",
              "      <th>16</th>\n",
              "      <td>[1]</td>\n",
              "      <td>[1]</td>\n",
              "    </tr>\n",
              "    <tr>\n",
              "      <th>17</th>\n",
              "      <td>[1]</td>\n",
              "      <td>[1]</td>\n",
              "    </tr>\n",
              "    <tr>\n",
              "      <th>18</th>\n",
              "      <td>[1]</td>\n",
              "      <td>[1]</td>\n",
              "    </tr>\n",
              "    <tr>\n",
              "      <th>19</th>\n",
              "      <td>[1]</td>\n",
              "      <td>[1]</td>\n",
              "    </tr>\n",
              "    <tr>\n",
              "      <th>20</th>\n",
              "      <td>[1]</td>\n",
              "      <td>[1]</td>\n",
              "    </tr>\n",
              "    <tr>\n",
              "      <th>21</th>\n",
              "      <td>[0]</td>\n",
              "      <td>[1]</td>\n",
              "    </tr>\n",
              "    <tr>\n",
              "      <th>22</th>\n",
              "      <td>[1]</td>\n",
              "      <td>[1]</td>\n",
              "    </tr>\n",
              "    <tr>\n",
              "      <th>23</th>\n",
              "      <td>[1]</td>\n",
              "      <td>[1]</td>\n",
              "    </tr>\n",
              "    <tr>\n",
              "      <th>24</th>\n",
              "      <td>[0]</td>\n",
              "      <td>[1]</td>\n",
              "    </tr>\n",
              "    <tr>\n",
              "      <th>25</th>\n",
              "      <td>[1]</td>\n",
              "      <td>[1]</td>\n",
              "    </tr>\n",
              "    <tr>\n",
              "      <th>26</th>\n",
              "      <td>[1]</td>\n",
              "      <td>[1]</td>\n",
              "    </tr>\n",
              "    <tr>\n",
              "      <th>27</th>\n",
              "      <td>[1]</td>\n",
              "      <td>[1]</td>\n",
              "    </tr>\n",
              "    <tr>\n",
              "      <th>28</th>\n",
              "      <td>[1]</td>\n",
              "      <td>[1]</td>\n",
              "    </tr>\n",
              "    <tr>\n",
              "      <th>29</th>\n",
              "      <td>[0]</td>\n",
              "      <td>[1]</td>\n",
              "    </tr>\n",
              "  </tbody>\n",
              "</table>\n",
              "</div>"
            ],
            "text/plain": [
              "   y_real y_pred\n",
              "0     [1]    [1]\n",
              "1     [1]    [1]\n",
              "2     [0]    [1]\n",
              "3     [1]    [1]\n",
              "4     [1]    [1]\n",
              "5     [1]    [1]\n",
              "6     [1]    [1]\n",
              "7     [1]    [1]\n",
              "8     [1]    [1]\n",
              "9     [1]    [1]\n",
              "10    [0]    [1]\n",
              "11    [1]    [1]\n",
              "12    [0]    [1]\n",
              "13    [1]    [1]\n",
              "14    [1]    [1]\n",
              "15    [0]    [1]\n",
              "16    [1]    [1]\n",
              "17    [1]    [1]\n",
              "18    [1]    [1]\n",
              "19    [1]    [1]\n",
              "20    [1]    [1]\n",
              "21    [0]    [1]\n",
              "22    [1]    [1]\n",
              "23    [1]    [1]\n",
              "24    [0]    [1]\n",
              "25    [1]    [1]\n",
              "26    [1]    [1]\n",
              "27    [1]    [1]\n",
              "28    [1]    [1]\n",
              "29    [0]    [1]"
            ]
          },
          "metadata": {
            "tags": []
          },
          "execution_count": 32
        }
      ]
    },
    {
      "cell_type": "code",
      "metadata": {
        "colab": {
          "base_uri": "https://localhost:8080/",
          "height": 336
        },
        "id": "NPZB_qz9EZ-u",
        "outputId": "1fc5ea8b-1371-45a0-be06-d9586c513a00"
      },
      "source": [
        "losses_float_gan = [float(loss) for loss in losses_gan] \n",
        "loss_indices = [i for i,l in enumerate(losses_float_gan)] \n",
        "plt = sns.lineplot(loss_indices, losses_float_gan)\n",
        "plt"
      ],
      "execution_count": null,
      "outputs": [
        {
          "output_type": "stream",
          "text": [
            "/usr/local/lib/python3.7/dist-packages/seaborn/_decorators.py:43: FutureWarning: Pass the following variables as keyword args: x, y. From version 0.12, the only valid positional argument will be `data`, and passing other arguments without an explicit keyword will result in an error or misinterpretation.\n",
            "  FutureWarning\n"
          ],
          "name": "stderr"
        },
        {
          "output_type": "execute_result",
          "data": {
            "text/plain": [
              "<matplotlib.axes._subplots.AxesSubplot at 0x7f110b38c790>"
            ]
          },
          "metadata": {
            "tags": []
          },
          "execution_count": 33
        },
        {
          "output_type": "display_data",
          "data": {
            "image/png": "[encoded data removed]",
            "text/plain": [
              "<Figure size 432x288 with 1 Axes>"
            ]
          },
          "metadata": {
            "tags": [],
            "needs_background": "light"
          }
        }
      ]
    },
    {
      "cell_type": "code",
      "metadata": {
        "colab": {
          "base_uri": "https://localhost:8080/",
          "height": 336
        },
        "id": "UZ51bkGeTR6N",
        "outputId": "c95a6597-1541-4d5d-f3d7-0b15bcb0051d"
      },
      "source": [
        "losses_float_gan_valid = [float(loss) for loss in losses_gan_valid] \n",
        "loss_indices = [i for i,l in enumerate(losses_float_gan_valid)] \n",
        "plt = sns.lineplot(loss_indices, losses_float_gan_valid)\n",
        "plt"
      ],
      "execution_count": null,
      "outputs": [
        {
          "output_type": "stream",
          "text": [
            "/usr/local/lib/python3.7/dist-packages/seaborn/_decorators.py:43: FutureWarning: Pass the following variables as keyword args: x, y. From version 0.12, the only valid positional argument will be `data`, and passing other arguments without an explicit keyword will result in an error or misinterpretation.\n",
            "  FutureWarning\n"
          ],
          "name": "stderr"
        },
        {
          "output_type": "execute_result",
          "data": {
            "text/plain": [
              "<matplotlib.axes._subplots.AxesSubplot at 0x7f11139f6450>"
            ]
          },
          "metadata": {
            "tags": []
          },
          "execution_count": 36
        },
        {
          "output_type": "display_data",
          "data": {
            "image/png": "[encoded data removed]",
            "text/plain": [
              "<Figure size 432x288 with 1 Axes>"
            ]
          },
          "metadata": {
            "tags": [],
            "needs_background": "light"
          }
        }
      ]
    },
    {
      "cell_type": "code",
      "metadata": {
        "colab": {
          "base_uri": "https://localhost:8080/",
          "height": 282
        },
        "id": "OIYefkWCLtv_",
        "outputId": "9c011028-99ab-48a7-9eee-8c1e1b38496d"
      },
      "source": [
        "from sklearn.metrics import confusion_matrix, roc_auc_score, plot_confusion_matrix, classification_report\n",
        "\n",
        "flat_true2 = [value for sublist in df2['y_real'].to_numpy() for value in sublist]\n",
        "flat_pred2 = [value for sublist in df2['y_pred'].to_numpy() for value in sublist]\n",
        "cm = confusion_matrix(flat_true2, flat_pred2)\n",
        "sns.heatmap(cm)"
      ],
      "execution_count": null,
      "outputs": [
        {
          "output_type": "execute_result",
          "data": {
            "text/plain": [
              "<matplotlib.axes._subplots.AxesSubplot at 0x7f110b3d36d0>"
            ]
          },
          "metadata": {
            "tags": []
          },
          "execution_count": 34
        },
        {
          "output_type": "display_data",
          "data": {
            "image/png": "[encoded data removed]",
            "text/plain": [
              "<Figure size 432x288 with 2 Axes>"
            ]
          },
          "metadata": {
            "tags": [],
            "needs_background": "light"
          }
        }
      ]
    },
    {
      "cell_type": "code",
      "metadata": {
        "colab": {
          "base_uri": "https://localhost:8080/"
        },
        "id": "0bB7MREjLvrk",
        "outputId": "9c293448-1c79-47b6-bac5-f97432eb8ebc"
      },
      "source": [
        "print('\\n AOC: ', roc_auc_score(flat_true2, flat_pred2))\n",
        "print(classification_report(flat_true2, flat_pred2))"
      ],
      "execution_count": null,
      "outputs": [
        {
          "output_type": "stream",
          "text": [
            "\n",
            " AOC:  0.5\n",
            "              precision    recall  f1-score   support\n",
            "\n",
            "           0       0.00      0.00      0.00        31\n",
            "           1       0.76      1.00      0.86        97\n",
            "\n",
            "    accuracy                           0.76       128\n",
            "   macro avg       0.38      0.50      0.43       128\n",
            "weighted avg       0.57      0.76      0.65       128\n",
            "\n"
          ],
          "name": "stdout"
        },
        {
          "output_type": "stream",
          "text": [
            "/usr/local/lib/python3.7/dist-packages/sklearn/metrics/_classification.py:1272: UndefinedMetricWarning: Precision and F-score are ill-defined and being set to 0.0 in labels with no predicted samples. Use `zero_division` parameter to control this behavior.\n",
            "  _warn_prf(average, modifier, msg_start, len(result))\n"
          ],
          "name": "stderr"
        }
      ]
    },
    {
      "cell_type": "markdown",
      "metadata": {
        "id": "iIafzNhIX9im"
      },
      "source": [
        "# Conclusions"
      ]
    },
    {
      "cell_type": "code",
      "metadata": {
        "id": "4XzW70x5YEN4"
      },
      "source": [
        ""
      ],
      "execution_count": null,
      "outputs": []
    }
  ]
}